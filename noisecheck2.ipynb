{
 "cells": [
  {
   "cell_type": "code",
   "execution_count": 1,
   "metadata": {},
   "outputs": [
    {
     "name": "stderr",
     "output_type": "stream",
     "text": [
      "Using TensorFlow backend.\n"
     ]
    },
    {
     "name": "stdout",
     "output_type": "stream",
     "text": [
      "2020-10-27\n"
     ]
    }
   ],
   "source": [
    "import datetime\n",
    "import numpy as np\n",
    "import matplotlib.pyplot as plt\n",
    "from createdatas import gaussian_beam\n",
    "date = str(datetime.date.today())\n",
    "print(date)"
   ]
  },
  {
   "cell_type": "code",
   "execution_count": 2,
   "metadata": {},
   "outputs": [],
   "source": [
    "NOISE = 30\n",
    "test_num = 100 #データ数\n",
    "data_size = 100 #配列の大きさ\n",
    "fit_param_x = np.zeros((test_num, 4))\n",
    "fit_param_y = np.zeros((test_num, 4))\n",
    "\n",
    "x = np.zeros((test_num, data_size))\n",
    "y = np.zeros((test_num, data_size))\n",
    "_y = np.zeros((test_num, data_size))\n",
    "tx = np.zeros((test_num, 3))\n",
    "ty = np.zeros((test_num, 3))\n",
    "\n",
    "#ガウス関数の動作確認\n",
    "i0 = 1.0\n",
    "x0 = 0.0\n",
    "y0 = 0.0\n",
    "w0 = 5.0\n",
    "h0 = 0.0\n",
    "\n",
    "param_ini_x = np.array([i0, x0, w0, h0])  # フィッティングの初期値 (ここではデータから推定は行わない)\n",
    "param_ini_y = np.array([i0, y0, w0, h0])\n",
    "# x配列とy配列\n",
    "x_array = np.arange(-50, 50, 1.0)                         # x配列\n",
    "y_array = np.arange(-50, 50, 1.0)                         # y配列\n",
    "nx = len(x_array)\n",
    "ny = len(y_array)\n",
    "intensity = np.zeros((nx, ny))                            # ノイズを含まない2次元強度分布\n",
    "\n",
    "for n in range(test_num):        # 繰り返し精度を調べるために各ノイズ割合でN回実行\n",
    "    center = data_size/2\n",
    "    # x配列とy配列\n",
    "    x_array = np.arange(-center, center, 1.0)                         # x配列\n",
    "    y_array = np.arange(-center, center, 1.0)                         # y配列\n",
    "    nx = len(x_array)\n",
    "    ny = len(y_array)\n",
    "    intensity = np.zeros((nx, ny))                            # ノイズを含まない2次元強度分布\n",
    "    x0 = x0 + center\n",
    "    y0 = y0 + center\n",
    "    for i in range(nx):\n",
    "        for j in range(ny):\n",
    "            intensity[i][j] = i0 * np.exp(-2*((i-x0)*(i-x0) + (j-y0)*(j-y0))/w0/w0)\n",
    "    x0 = x0 - center\n",
    "    y0 = y0 - center\n",
    "    # 最大強度を取る位置における強度プロファイル\n",
    "    profile_x = np.zeros(nx)\n",
    "    profile_y = np.zeros(ny)\n",
    "    \n",
    "\n",
    "    # 2次元の強度分布にノイズを付与\n",
    "    noise = (np.random.rand(nx*ny)-0.5)*i0*NOISE*0.01   #プラスマイナスNOISE%のノイズ(一様分布), (np.random.rand(nx*ny)-0.5)*2の部分が-1から1までの乱数になる\n",
    "    noise = noise.reshape((nx,ny))\n",
    "    intensity_noise = intensity + noise\n",
    "\n",
    "    # 最大値の探索 & その位置の強度プロファイルの取得\n",
    "    idx = np.unravel_index(np.argmax(intensity_noise), intensity_noise.shape)\n",
    "    profile_x= intensity_noise[:,idx[1]]\n",
    "    profile_y = intensity_noise[idx[0],:]\n",
    "    profile_y_2 = intensity[idx[0], :]\n",
    "    x[n] = profile_x\n",
    "    y[n] = profile_y\n",
    "    _y[n] = profile_y_2\n",
    "    tx[n] = (i0, x0 + 1.0, w0)"
   ]
  },
  {
   "cell_type": "code",
   "execution_count": 10,
   "metadata": {},
   "outputs": [
    {
     "name": "stdout",
     "output_type": "stream",
     "text": [
      "float64\n"
     ]
    },
    {
     "data": {
      "image/png": "[encoded data removed]",
      "text/plain": [
       "<Figure size 432x288 with 1 Axes>"
      ]
     },
     "metadata": {
      "needs_background": "light"
     },
     "output_type": "display_data"
    }
   ],
   "source": [
    "py_noise = (y - _y).flatten()\n",
    "print(py_noise.dtype)\n",
    "# ヒストグラムのグラフを作成\n",
    "plt.figure()\n",
    "savename = date + \"py_noise%d_histogram.png\" % (NOISE)\n",
    "plt.hist(py_noise, bins=1000, color='black')\n",
    "plt.xlabel('Noise')\n",
    "plt.ylabel('Frequency_py')\n",
    "plt.xlim(-0.2, 0.2)\n",
    "plt.ylim(0.0, 70.0)\n",
    "plt.savefig(savename)\n",
    "plt.show()\n",
    "plt.close()"
   ]
  },
  {
   "cell_type": "code",
   "execution_count": 17,
   "metadata": {},
   "outputs": [
    {
     "name": "stdout",
     "output_type": "stream",
     "text": [
      "(100, 100)\n",
      "(100, 100)\n"
     ]
    }
   ],
   "source": [
    "test_num = 100 #データ数\n",
    "data_size = 100 #配列の大きさ\n",
    "\n",
    "_x = np.zeros((test_num, data_size))\n",
    "x = np.zeros((test_num, data_size))\n",
    "test_nums = range(0, test_num)\n",
    "\n",
    "def _testdata(x, t):    \n",
    "    for key in test_nums:\n",
    "        file_path = \"/Users/nagaiyuma/Desktop/201027/x_\" + str(test_nums[key]) + \".txt\"\n",
    "        with open(file_path) as f:\n",
    "            file_str = f.read().splitlines()\n",
    "            f.close\n",
    "\n",
    "        for i in range(0, data_size):\n",
    "            x[key][i] = float(file_str[i])\n",
    "\n",
    "    for key in test_nums:\n",
    "        file_path = \"/Users/nagaiyuma/Desktop/201027/_\" + str(test_nums[key]) + \".txt\"\n",
    "        with open(file_path) as f:\n",
    "            file_str = f.read().splitlines()\n",
    "            f.close\n",
    "            \n",
    "        for i in range(0, data_size):\n",
    "            _x[key][i] = float(file_str[i])\n",
    "\n",
    "    return x, _x\n",
    "\n",
    "\n",
    "_testdata(x, _x)\n",
    "\n",
    "print(x.shape)\n",
    "print(_x.shape)"
   ]
  },
  {
   "cell_type": "code",
   "execution_count": 18,
   "metadata": {},
   "outputs": [
    {
     "name": "stdout",
     "output_type": "stream",
     "text": [
      "float64\n"
     ]
    },
    {
     "data": {
      "image/png": "[encoded data removed]",
      "text/plain": [
       "<Figure size 432x288 with 1 Axes>"
      ]
     },
     "metadata": {
      "needs_background": "light"
     },
     "output_type": "display_data"
    }
   ],
   "source": [
    "vi_noise = (x - _x).flatten()\n",
    "print(vi_noise.dtype)\n",
    "plt.figure()\n",
    "savename = date + \"vi_noise%d_histogram2.png\" % (NOISE)\n",
    "plt.hist(vi_noise, bins=1000, color='black')\n",
    "plt.xlabel('Noise')\n",
    "plt.ylabel('Frequency_vi')\n",
    "plt.xlim(-0.2, 0.2)\n",
    "plt.ylim(0.0, 70.0)\n",
    "plt.savefig(savename)\n",
    "plt.show()\n",
    "plt.close()"
   ]
  },
  {
   "cell_type": "code",
   "execution_count": 11,
   "metadata": {},
   "outputs": [
    {
     "name": "stdout",
     "output_type": "stream",
     "text": [
      "[ 0.101  0.096 -0.136  0.142 -0.127 -0.037  0.087  0.119 -0.132 -0.058\n",
      "  0.06   0.03   0.102  0.072 -0.092 -0.06  -0.096  0.143  0.038 -0.097\n",
      "  0.085 -0.129  0.063  0.061 -0.072 -0.013 -0.082 -0.135 -0.028 -0.146\n",
      " -0.131  0.098 -0.1    0.011 -0.041 -0.139  0.114  0.118 -0.097 -0.008\n",
      " -0.099 -0.134 -0.032  0.077  0.05  -0.007  0.388  0.634  0.632  0.786\n",
      "  1.04   1.012  0.784  0.584  0.166  0.137  0.175  0.129 -0.1    0.033\n",
      " -0.129  0.138  0.084  0.079 -0.128 -0.082  0.083 -0.022  0.048  0.033\n",
      " -0.019 -0.038 -0.11   0.094  0.07  -0.056 -0.024 -0.063  0.097  0.015\n",
      " -0.009 -0.058 -0.12   0.112  0.049 -0.142  0.075 -0.055 -0.04  -0.022\n",
      "  0.129  0.002 -0.046 -0.07   0.002  0.03   0.132  0.097 -0.084  0.086]\n",
      "[-0.02333726  0.03722869 -0.11452179  0.10375292 -0.02405826 -0.03884112\n",
      "  0.01759723 -0.06275514 -0.06189113 -0.1168431   0.12614378  0.03596088\n",
      " -0.12914101 -0.07280864  0.05577504 -0.07882624 -0.14676926  0.12596512\n",
      " -0.01216759 -0.09025075  0.07897645 -0.14567124 -0.11198309  0.02592596\n",
      " -0.13918234 -0.07853116 -0.13925679 -0.13841851  0.0726277  -0.0368336\n",
      "  0.01770562  0.01342755 -0.11858674 -0.10761369  0.10245807 -0.10790806\n",
      "  0.10034802 -0.00465174  0.06232286  0.08377802  0.0515858  -0.07005898\n",
      " -0.14386247  0.08184078  0.11531826  0.11915646  0.18518066  0.62489671\n",
      "  0.64986579  0.9010652   1.06063148  1.02053482  0.8214471   0.38877819\n",
      "  0.25481582 -0.00489456 -0.0878603   0.04204207  0.00821957 -0.01871392\n",
      "  0.05747346  0.11958086  0.02832727  0.02017113  0.10469139 -0.06466252\n",
      "  0.09390722  0.05238219 -0.07204936  0.09166052  0.11583677  0.10594907\n",
      "  0.10788053  0.02426257 -0.14283873 -0.05446957 -0.07701964 -0.14620257\n",
      " -0.11146088  0.09689266  0.11874636  0.14480585 -0.03522517 -0.09093457\n",
      " -0.11342692  0.03087869 -0.11510091 -0.14550096  0.06761693  0.03055038\n",
      " -0.11996731 -0.14858105 -0.05023844  0.01402183 -0.03033148  0.00203861\n",
      "  0.11868007 -0.08471559  0.10367024  0.1309479 ]\n"
     ]
    }
   ],
   "source": [
    "print(x[0])\n",
    "print(y[0])"
   ]
  }
 ],
 "metadata": {
  "kernelspec": {
   "display_name": "Python 3",
   "language": "python",
   "name": "python3"
  },
  "language_info": {
   "codemirror_mode": {
    "name": "ipython",
    "version": 3
   },
   "file_extension": ".py",
   "mimetype": "text/x-python",
   "name": "python",
   "nbconvert_exporter": "python",
   "pygments_lexer": "ipython3",
   "version": "3.7.3"
  }
 },
 "nbformat": 4,
 "nbformat_minor": 4
}
