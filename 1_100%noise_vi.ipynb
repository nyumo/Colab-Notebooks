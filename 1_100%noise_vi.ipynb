{
 "cells": [
  {
   "cell_type": "code",
   "execution_count": 2,
   "metadata": {},
   "outputs": [
    {
     "name": "stderr",
     "output_type": "stream",
     "text": [
      "Using TensorFlow backend.\n"
     ]
    },
    {
     "name": "stdout",
     "output_type": "stream",
     "text": [
      "2020-10-27\n",
      "10\n"
     ]
    }
   ],
   "source": [
    "import numpy as np\n",
    "import keras\n",
    "from keras.models import load_model\n",
    "import csv\n",
    "from createdatas import gaussian_beam\n",
    "import datetime\n",
    "import matplotlib.pyplot as plt\n",
    "from scipy.optimize import curve_fit    # フィッティング用\n",
    "date = str(datetime.date.today())\n",
    "print(date)\n",
    "NOISE = 10\n",
    "print(NOISE)"
   ]
  },
  {
   "cell_type": "code",
   "execution_count": 3,
   "metadata": {},
   "outputs": [
    {
     "name": "stdout",
     "output_type": "stream",
     "text": [
      "(20, 101, 100)\n",
      "(20, 101)\n"
     ]
    }
   ],
   "source": [
    "#　テストデータ取得\n",
    "file_num = 20 #テストファイル数20\n",
    "test_num = 101 #データ数(0%~100%)\n",
    "data_size = 100 #配列の大きさ\n",
    "\n",
    "t_101 = np.zeros((file_num ,test_num))\n",
    "x_101 = np.zeros((file_num, test_num, data_size))\n",
    "n = range(0, file_num)\n",
    "test_nums = range(0, test_num)\n",
    "\n",
    "def _testdata(x, t):\n",
    "    for k in n:\n",
    "        \n",
    "        for key in test_nums:\n",
    "            file_path = \"/Users/nagaiyuma/Desktop/100%/\" + str(n[k]) + \"/x_\" + str(test_nums[key]) + \".txt\"\n",
    "            with open(file_path) as f:\n",
    "                file_str = f.read().splitlines()\n",
    "                f.close\n",
    "\n",
    "            for i in range(0, data_size):\n",
    "                x[k][key][i] = float(file_str[i])\n",
    "\n",
    "        for key in test_nums:\n",
    "            file_path = \"/Users/nagaiyuma/Desktop/100%/\" + str(n[k]) + \"/t_\" + str(test_nums[key]) + \".txt\"\n",
    "            with open(file_path) as f:\n",
    "                file_str = f.read()\n",
    "                f.close\n",
    "\n",
    "            t[k][key] = float(file_str)\n",
    "\n",
    "    return x, t\n",
    "\n",
    "\n",
    "_testdata(x_101, t_101)\n",
    "\n",
    "print(x_101.shape)\n",
    "print(t_101.shape)"
   ]
  },
  {
   "cell_type": "code",
   "execution_count": null,
   "metadata": {},
   "outputs": [],
   "source": [
    "#過去の訓練データ読込\n",
    "data_py_path = \"/Users/nagaiyuma/Desktop/maindata/201016/noise30%/2020-10-16\"\n",
    "with open(data_py_path + \"x_train.csv\") as f:\n",
    "    reader = csv.reader(f, quoting=csv.QUOTE_NONNUMERIC)\n",
    "    x_train = np.array([row for row in reader])\n",
    "    \n",
    "with open(data_py_path + \"x_test.csv\") as f:\n",
    "    reader = csv.reader(f, quoting=csv.QUOTE_NONNUMERIC)\n",
    "    x_test = np.array([row for row in reader])\n",
    "    \n",
    "with open(data_py_path + \"t_train.csv\") as f:\n",
    "    reader = csv.reader(f, quoting=csv.QUOTE_NONNUMERIC)\n",
    "    t_train = np.array([row for row in reader])\n",
    "    \n",
    "with open(data_py_path + \"t_test.csv\") as f:\n",
    "    reader = csv.reader(f, quoting=csv.QUOTE_NONNUMERIC)\n",
    "    t_test = np.array([row for row in reader])"
   ]
  },
  {
   "cell_type": "code",
   "execution_count": 4,
   "metadata": {},
   "outputs": [
    {
     "data": {
      "image/png": "[encoded data removed]",
      "text/plain": [
       "<Figure size 432x288 with 2 Axes>"
      ]
     },
     "metadata": {
      "needs_background": "light"
     },
     "output_type": "display_data"
    }
   ],
   "source": [
    "#表示\n",
    "x_array = np.arange(-50, 50, 1.0)   \n",
    "plt.subplots_adjust(wspace=0.4, hspace=0.6)\n",
    "plt.subplot(1,2,1)\n",
    "plt.plot(x_array, x_101[0][0],  color=\"black\", label = 'x0 = 0.0')\n",
    "plt.xlabel('x')          # 軸ラベル\n",
    "plt.ylabel('Intensity_py')\n",
    "plt.ylim(-0.5, 2.0)      # y軸の表示範囲\n",
    "plt.subplot(1,2,2)\n",
    "plt.plot(x_array, x_101[0][30],  color=\"black\", label = 'x0 = 0.0')\n",
    "plt.xlabel('x')          # 軸ラベル\n",
    "plt.ylabel('Intensity_vi')\n",
    "plt.ylim(-0.5, 2.0)\n",
    "plt.show()\n",
    "plt.close()"
   ]
  },
  {
   "cell_type": "code",
   "execution_count": 12,
   "metadata": {},
   "outputs": [],
   "source": [
    "#学習パラメータの取得\n",
    "pred_x = np.zeros((file_num ,test_num))\n",
    "save_model_path = \"/Users/nagaiyuma/Desktop/parameters/noise\"+str(NOISE)+\"-cnn1.h5\"\n",
    "model = load_model(save_model_path)"
   ]
  },
  {
   "cell_type": "code",
   "execution_count": 13,
   "metadata": {},
   "outputs": [
    {
     "name": "stdout",
     "output_type": "stream",
     "text": [
      "(20, 101)\n"
     ]
    }
   ],
   "source": [
    "ave_101 = np.zeros(test_num)\n",
    "std_101 = np.zeros(test_num)\n",
    "error = np.zeros((file_num, test_num))\n",
    "abs_error = np.zeros((file_num, test_num))\n",
    "\n",
    "for k in n:\n",
    "    xtest = x_101[k].reshape(-1, 100, 1)\n",
    "    pred_x[k] = model.predict(xtest).flatten()\n",
    "    error[k] = pred_x[k] - t_101[k]\n",
    "    abs_error[k] = abs(pred_x[k] - t_101[k])\n",
    "    \n",
    "print(pred_x.shape)\n",
    "ave_101 = np.average(error, axis=0)\n",
    "std_101 = np.std(error, axis=0)"
   ]
  },
  {
   "cell_type": "code",
   "execution_count": 14,
   "metadata": {},
   "outputs": [
    {
     "data": {
      "image/png": "[encoded data removed]",
      "text/plain": [
       "<Figure size 432x288 with 1 Axes>"
      ]
     },
     "metadata": {
      "needs_background": "light"
     },
     "output_type": "display_data"
    },
    {
     "name": "stdout",
     "output_type": "stream",
     "text": [
      "0%:-0.0067098140716552734±0.0\n",
      "10%:-0.005525261163711548±0.03941218382112642\n",
      "20%:0.021741962432861327±0.12133013867609421\n",
      "30%:0.09622105360031127±0.15817076300660823\n",
      "40%:0.11265754997730255±0.21289488402757778\n",
      "50%:0.30450124740600587±0.23001895399283542\n",
      "60%:0.3039743900299072±0.2336262700373883\n",
      "70%:0.22640948593616486±0.2535406142767748\n",
      "80%:0.2850740820169449±0.31031923072477313\n",
      "90%:0.35056700110435485±0.3326307855876222\n",
      "100%:0.48075931072235106±0.2442301449283015\n"
     ]
    }
   ],
   "source": [
    "#結果の表示\n",
    "plt.plot(test_nums, ave_101,  color=\"black\")\n",
    "plt.xlabel('NOISE(%)')          # 軸ラベル\n",
    "plt.ylabel('Error')\n",
    "plt.ylim(-2.0, 2.0)\n",
    "plt.show()\n",
    "plt.close()\n",
    "\n",
    "for i in range(0,110,10):\n",
    "    print_ave = str(i) + \"%:\" + str(ave_101[i])+ \"±\" + str(std_101[i])\n",
    "    print(print_ave)"
   ]
  },
  {
   "cell_type": "code",
   "execution_count": 7,
   "metadata": {},
   "outputs": [],
   "source": [
    "#結果の保存\n",
    "save_predict = \"/Users/nagaiyuma/Desktop/maindata/\"+date+\"noise\"+str(NOISE)+\"-100%vi.csv\"\n",
    "x_line = n\n",
    "save_data = np.zeros((3, test_num))\n",
    "save_data[0] = test_nums\n",
    "save_data[1] = ave_101\n",
    "save_data[2] = std_101\n",
    "save_data = save_data.T\n",
    "\n",
    "with open(save_predict,'w') as f:\n",
    "    writer = csv.writer(f, lineterminator='\\n')\n",
    "    writer.writerows(save_data)"
   ]
  },
  {
   "cell_type": "code",
   "execution_count": 8,
   "metadata": {},
   "outputs": [
    {
     "data": {
      "image/png": "[encoded data removed]",
      "text/plain": [
       "<Figure size 432x288 with 1 Axes>"
      ]
     },
     "metadata": {
      "needs_background": "light"
     },
     "output_type": "display_data"
    },
    {
     "name": "stdout",
     "output_type": "stream",
     "text": [
      "0%:-4.4171386496305376e-17±1.232595164407831e-32\n",
      "10%:-0.0031183959793418745±0.041642692957500914\n",
      "20%:-0.007605442301476415±0.10949464992225587\n",
      "30%:-0.003863586093020775±0.1603683305231365\n",
      "40%:-0.020396938253416205±0.20769305418094225\n",
      "50%:0.13513439539370684±0.2786555838442241\n",
      "60%:0.07125724356527752±0.288070086043761\n",
      "70%:0.0023841002270732826±0.35210905199254716\n",
      "80%:-0.04103214386654283±0.3237038088117295\n",
      "90%:0.05707320512828677±0.39935390335191967\n",
      "100%:0.12800680776460863±0.44387146396014215\n"
     ]
    }
   ],
   "source": [
    "# ガウシアンビームのパラメータ\n",
    "i0 = 1.0\n",
    "x0 = 0.0\n",
    "y0 = 0.0\n",
    "w0 = 5.0\n",
    "h0 = 0.0\n",
    "center = data_size/2\n",
    "param_ini_x = np.array([i0, x0, w0, h0])  # フィッティングの初期値 (ここではデータから推定は行わない)\n",
    "x_array = np.arange(-center, center, 1.0)\n",
    "fit_param_x = np.zeros((test_num, 4))\n",
    "error = np.zeros((file_num, test_num))\n",
    "\n",
    "t_fit = t_101 - 1 #x = 0の補正\n",
    "for i in range(file_num):\n",
    "    for k in range(test_num):\n",
    "        profile_x = x_101[i][k]\n",
    "        param, cov  = curve_fit(gaussian_beam, x_array, profile_x, p0=param_ini_x, maxfev=2000)\n",
    "        fit_param_x[n][0] = param[0]\n",
    "        fit_param_x[n][1] = param[1]\n",
    "        fit_param_x[n][2] = param[2]\n",
    "        fit_param_x[n][3] = param[3]\n",
    "        \n",
    "        error[i][k] = param[1]-t_fit[i][k]\n",
    "    \n",
    "ave_fit = np.average(error, axis=0)\n",
    "std_fit= np.std(error, axis=0)\n",
    "\n",
    "#結果の表示\n",
    "plt.plot(test_nums, ave_fit,  color=\"black\")\n",
    "plt.xlabel('NOISE(%)')          # 軸ラベル\n",
    "plt.ylabel('Error')\n",
    "plt.ylim(-2.0, 2.0)\n",
    "plt.show()\n",
    "plt.close()\n",
    "\n",
    "for i in range(0,110,10):\n",
    "    print_ave = str(i) + \"%:\" + str(ave_fit[i])+ \"±\" + str(std_fit[i])\n",
    "    print(print_ave)"
   ]
  },
  {
   "cell_type": "code",
   "execution_count": 9,
   "metadata": {},
   "outputs": [],
   "source": [
    "#結果の保存\n",
    "save_predict = \"/Users/nagaiyuma/Desktop/maindata/\"+date+\"-100%_fitvi.csv\"\n",
    "x_line = n\n",
    "save_data = np.zeros((3, test_num))\n",
    "save_data[0] = test_nums\n",
    "save_data[1] = ave_fit\n",
    "save_data[2] = std_fit\n",
    "save_data = save_data.T\n",
    "\n",
    "with open(save_predict,'w') as f:\n",
    "    writer = csv.writer(f, lineterminator='\\n')\n",
    "    writer.writerows(save_data)"
   ]
  },
  {
   "cell_type": "code",
   "execution_count": 20,
   "metadata": {},
   "outputs": [],
   "source": [
    "#学習パラメータの取得\n",
    "pred_x = np.zeros((file_num ,test_num))\n",
    "save_model_path = \"/Users/nagaiyuma/Desktop/parameters/noise\"+str(NOISE)+\"-cnn3.h5\"\n",
    "model = load_model(save_model_path)"
   ]
  },
  {
   "cell_type": "code",
   "execution_count": 21,
   "metadata": {},
   "outputs": [
    {
     "name": "stdout",
     "output_type": "stream",
     "text": [
      "(20, 101)\n"
     ]
    }
   ],
   "source": [
    "ave_101_3 = np.zeros(test_num)\n",
    "std_101_3 = np.zeros(test_num)\n",
    "error = np.zeros((file_num, test_num))\n",
    "abs_error = np.zeros((file_num, test_num))\n",
    "\n",
    "for k in n:\n",
    "    xtest = x_101[k].reshape(-1, 100, 1)\n",
    "    pred_x[k] = model.predict(xtest).T[1].flatten()\n",
    "    error[k] = pred_x[k] - t_101[k]\n",
    "    abs_error[k] = abs(pred_x[k] - t_101[k])\n",
    "    \n",
    "print(pred_x.shape)\n",
    "ave_101_3 = np.average(error, axis=0)\n",
    "std_101_3 = np.std(error, axis=0)"
   ]
  },
  {
   "cell_type": "code",
   "execution_count": 22,
   "metadata": {},
   "outputs": [
    {
     "data": {
      "image/png": "[encoded data removed]",
      "text/plain": [
       "<Figure size 432x288 with 1 Axes>"
      ]
     },
     "metadata": {
      "needs_background": "light"
     },
     "output_type": "display_data"
    },
    {
     "name": "stdout",
     "output_type": "stream",
     "text": [
      "0%:-0.043482422828674316±0.0\n",
      "10%:-0.0632537841796875±0.0367909757910502\n",
      "20%:-0.0715029776096344±0.0683642157442758\n",
      "30%:-0.09932287633419037±0.10418420263084993\n",
      "40%:-0.08275516033172607±0.15009053503888506\n",
      "50%:-0.04133184552192688±0.1523506784914504\n",
      "60%:0.002313518524169922±0.12716737927255914\n",
      "70%:-0.11422234773635864±0.14800261307791657\n",
      "80%:-0.07380972206592559±0.14257484504015777\n",
      "90%:-0.09495384991168976±0.15748882956221666\n",
      "100%:-0.027765113115310668±0.15995268910538954\n"
     ]
    }
   ],
   "source": [
    "#結果の表示\n",
    "plt.plot(test_nums, ave_101,  color=\"black\")\n",
    "plt.xlabel('NOISE(%)')          # 軸ラベル\n",
    "plt.ylabel('Error')\n",
    "plt.ylim(-2.0, 2.0)\n",
    "plt.show()\n",
    "plt.close()\n",
    "\n",
    "for i in range(0,110,10):\n",
    "    print_ave = str(i) + \"%:\" + str(ave_101_3[i])+ \"±\" + str(std_101_3[i])\n",
    "    print(print_ave)"
   ]
  },
  {
   "cell_type": "code",
   "execution_count": 8,
   "metadata": {},
   "outputs": [],
   "source": [
    "#学習パラメータの取得\n",
    "pred_x = np.zeros((file_num ,test_num))\n",
    "save_model_path = \"/Users/nagaiyuma/Desktop/parameters/201027/noise\"+str(NOISE)+\"-cnn3.h5\"\n",
    "model = load_model(save_model_path)"
   ]
  },
  {
   "cell_type": "code",
   "execution_count": 9,
   "metadata": {},
   "outputs": [
    {
     "name": "stdout",
     "output_type": "stream",
     "text": [
      "(20, 101)\n"
     ]
    }
   ],
   "source": [
    "ave_101_3 = np.zeros(test_num)\n",
    "std_101_3 = np.zeros(test_num)\n",
    "error = np.zeros((file_num, test_num))\n",
    "abs_error = np.zeros((file_num, test_num))\n",
    "\n",
    "for k in n:\n",
    "    xtest = x_101[k].reshape(-1, 100, 1)\n",
    "    pred_x[k] = model.predict(xtest).T[1].flatten()\n",
    "    error[k] = pred_x[k] - t_101[k]\n",
    "    abs_error[k] = abs(pred_x[k] - t_101[k])\n",
    "    \n",
    "print(pred_x.shape)\n",
    "ave_101_3 = np.average(error, axis=0)\n",
    "std_101_3 = np.std(error, axis=0)"
   ]
  },
  {
   "cell_type": "code",
   "execution_count": 10,
   "metadata": {},
   "outputs": [
    {
     "data": {
      "image/png": "[encoded data removed]",
      "text/plain": [
       "<Figure size 432x288 with 1 Axes>"
      ]
     },
     "metadata": {
      "needs_background": "light"
     },
     "output_type": "display_data"
    },
    {
     "name": "stdout",
     "output_type": "stream",
     "text": [
      "0%:-0.3269631862640381±0.0\n",
      "10%:-0.29416791796684266±0.04094199265232031\n",
      "20%:-0.2527174949645996±0.07028712393456876\n",
      "30%:-0.18971744775772095±0.11934254361302216\n",
      "40%:-0.18871006965637208±0.18514712702239086\n",
      "50%:-0.022107231616973876±0.20341277561983223\n",
      "60%:-0.020634037256240845±0.23459379820755719\n",
      "70%:0.027853447198867797±0.20931896915686005\n",
      "80%:0.0446311354637146±0.18531654523786653\n",
      "90%:0.11691731810569764±0.20519751229271202\n",
      "100%:0.28619676232337954±0.23968347522412065\n"
     ]
    }
   ],
   "source": [
    "#結果の表示\n",
    "plt.plot(test_nums, ave_101_3,  color=\"black\")\n",
    "plt.xlabel('NOISE(%)')          # 軸ラベル\n",
    "plt.ylabel('Error')\n",
    "plt.ylim(-2.0, 2.0)\n",
    "plt.show()\n",
    "plt.close()\n",
    "\n",
    "for i in range(0,110,10):\n",
    "    print_ave = str(i) + \"%:\" + str(ave_101_3[i])+ \"±\" + str(std_101_3[i])\n",
    "    print(print_ave)"
   ]
  },
  {
   "cell_type": "code",
   "execution_count": 13,
   "metadata": {},
   "outputs": [],
   "source": [
    "#結果の保存\n",
    "save_predict = \"/Users/nagaiyuma/Desktop/maindata/\"+date+\"noise\"+str(NOISE)+\"-100%_3vi.csv\"\n",
    "x_line = n\n",
    "save_data = np.zeros((3, test_num))\n",
    "save_data[0] = test_nums\n",
    "save_data[1] = ave_101_3\n",
    "save_data[2] = std_101_3\n",
    "save_data = save_data.T\n",
    "\n",
    "with open(save_predict,'w') as f:\n",
    "    writer = csv.writer(f, lineterminator='\\n')\n",
    "    writer.writerows(save_data)"
   ]
  },
  {
   "cell_type": "code",
   "execution_count": 14,
   "metadata": {},
   "outputs": [
    {
     "name": "stdout",
     "output_type": "stream",
     "text": [
      "[-0.07254942 -0.09410472 -0.11760066  0.04669524 -0.14426786 -0.1028764\n",
      "  0.04029247  0.03404678 -0.00916733  0.0993194   0.09797482 -0.03539926\n",
      " -0.13531297  0.10433618  0.13205051  0.01959645  0.1093308   0.0593795\n",
      " -0.11411283 -0.13497032 -0.06129445 -0.11270081 -0.03008241 -0.08582452\n",
      " -0.10405242  0.08167798  0.04814116  0.10299708 -0.03289297 -0.07689044\n",
      "  0.12167175 -0.0435137   0.12055285 -0.12248631 -0.02091593  0.07291571\n",
      " -0.05895254  0.14811564 -0.05238234  0.04140552  0.1406641  -0.03658176\n",
      "  0.02931796 -0.0769783   0.11245971  0.2573165   0.14647459  0.4399841\n",
      "  0.67079579  0.89616057  0.98623729  0.94267542  0.56291805  0.59214951\n",
      "  0.19660169  0.15746083 -0.03930159  0.0849718   0.15361222  0.09514373\n",
      " -0.01428568  0.02909294 -0.08439171 -0.05599324 -0.04718609 -0.03432575\n",
      "  0.04430104  0.08745037 -0.026845   -0.14629395  0.10884465  0.08056233\n",
      " -0.02676454  0.08168122  0.03634965 -0.07007633 -0.03597026 -0.09831377\n",
      " -0.12018555  0.0013013   0.09450721 -0.14220862 -0.04270202 -0.14789129\n",
      " -0.04587212 -0.00524666 -0.04637747  0.13390846  0.03269696  0.03138303\n",
      "  0.11232388  0.03010211 -0.013188   -0.00856537  0.12929356 -0.00507639\n",
      " -0.06452486 -0.02598488 -0.00841479 -0.07415202]\n"
     ]
    }
   ],
   "source": [
    "print(x_101[0][30])"
   ]
  },
  {
   "cell_type": "code",
   "execution_count": null,
   "metadata": {},
   "outputs": [],
   "source": []
  },
  {
   "cell_type": "code",
   "execution_count": null,
   "metadata": {},
   "outputs": [],
   "source": []
  }
 ],
 "metadata": {
  "kernelspec": {
   "display_name": "Python 3",
   "language": "python",
   "name": "python3"
  },
  "language_info": {
   "codemirror_mode": {
    "name": "ipython",
    "version": 3
   },
   "file_extension": ".py",
   "mimetype": "text/x-python",
   "name": "python",
   "nbconvert_exporter": "python",
   "pygments_lexer": "ipython3",
   "version": "3.7.3"
  }
 },
 "nbformat": 4,
 "nbformat_minor": 4
}
