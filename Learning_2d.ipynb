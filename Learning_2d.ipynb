{
 "cells": [
  {
   "cell_type": "code",
   "execution_count": 1,
   "metadata": {},
   "outputs": [
    {
     "name": "stderr",
     "output_type": "stream",
     "text": [
      "Using TensorFlow backend.\n"
     ]
    },
    {
     "name": "stdout",
     "output_type": "stream",
     "text": [
      "現在時刻： 2020-12-10 20:31:10.611862\n"
     ]
    }
   ],
   "source": [
    "import numpy as np\n",
    "\n",
    "import matplotlib.pyplot as plt\n",
    "from mpl_toolkits.mplot3d import Axes3D\n",
    "\n",
    "import keras\n",
    "from keras import layers\n",
    "from keras import models\n",
    "from keras.optimizers import RMSprop\n",
    "from keras.models import Sequential\n",
    "from keras.layers import Dense, Dropout\n",
    "from keras.optimizers import RMSprop\n",
    "from keras.layers import Conv2D, MaxPooling2D\n",
    "from keras.models import load_model\n",
    "\n",
    "import os #システム操作系\n",
    "from pathlib import Path #ファイル操作系\n",
    "\n",
    "from scipy.optimize import curve_fit    # フィッティング用\n",
    "\n",
    "import datetime\n",
    "import time\n",
    "\n",
    "import pandas as pd\n",
    "import pickle\n",
    "\n",
    "dt_now = datetime.datetime.now()\n",
    "print('現在時刻：', dt_now)"
   ]
  },
  {
   "cell_type": "code",
   "execution_count": 2,
   "metadata": {},
   "outputs": [
    {
     "name": "stdout",
     "output_type": "stream",
     "text": [
      "このファイルの存在するフォルダ： /Users/nagaiyuma/Documents/myprogram\n",
      "保存フォルダ： /Users/nagaiyuma/Documents/myprogram/Learnings\n"
     ]
    }
   ],
   "source": [
    "# このファイルの存在するフォルダの絶対パスを取得\n",
    "dir_name = str(Path().resolve())\n",
    "print('このファイルの存在するフォルダ：', dir_name)\n",
    "# 保存先フォルダのパス作成\n",
    "save_folder = os.path.join(dir_name, f'Learnings')\n",
    "print('保存フォルダ：', save_folder)\n",
    "# 保存先フォルダの作成(既に存在する場合は無視される)\n",
    "os.makedirs(save_folder, exist_ok=True)"
   ]
  },
  {
   "cell_type": "code",
   "execution_count": 3,
   "metadata": {},
   "outputs": [],
   "source": [
    "# グラフの初期設定\n",
    "plt.rcParams[\"figure.figsize\"] = [3.14, 3.14] # 図の縦横のサイズ([横(inch),縦(inch)])\n",
    "plt.rcParams[\"figure.dpi\"] = 200 # dpi(dots per inch)\n",
    "plt.rcParams[\"figure.facecolor\"] = 'white' # 図の背景色\n",
    "plt.rcParams[\"figure.edgecolor\"] = 'black' # 枠線の色\n",
    "plt.rcParams[\"font.family\"] = \"serif\"       # 使用するフォント\n",
    "plt.rcParams[\"font.serif\"] = \"Times New Roman\"\n",
    "plt.rcParams[\"font.size\"] = 14              # 基本となるフォントの大きさ\n",
    "plt.rcParams[\"xtick.direction\"] = \"in\"      # 目盛り線の向き、内側\"in\"か外側\"out\"かその両方\"inout\"か\n",
    "plt.rcParams[\"ytick.direction\"] = \"in\"      # 目盛り線の向き、内側\"in\"か外側\"out\"かその両方\"inout\"か\n",
    "plt.rcParams[\"xtick.bottom\"] = True         # 下部に目盛り線を描くかどうか\n",
    "plt.rcParams[\"ytick.left\"] = True           # 左部に目盛り線を描くかどうか\n",
    "plt.rcParams[\"xtick.major.size\"] = 2.0      # x軸主目盛り線の長さ\n",
    "plt.rcParams[\"ytick.major.size\"] = 2.0      # y軸主目盛り線の長さ\n",
    "plt.rcParams[\"xtick.major.width\"] = 0.3     # x軸主目盛り線の線幅\n",
    "plt.rcParams[\"ytick.major.width\"] = 0.3     # y軸主目盛り線の線幅\n",
    "plt.rcParams[\"xtick.minor.visible\"] = False # x軸副目盛り線を描くかどうか\n",
    "plt.rcParams[\"ytick.minor.visible\"] = False # y軸副目盛り線を描くかどうか\n",
    "plt.rcParams[\"xtick.minor.size\"] = 2.0      # x軸副目盛り線の長さ\n",
    "plt.rcParams[\"ytick.minor.size\"] = 2.0      # y軸副目盛り線の長さ\n",
    "plt.rcParams[\"xtick.minor.width\"] = 0.3     # x軸副目盛り線の線幅\n",
    "plt.rcParams[\"ytick.minor.width\"] = 0.3     # y軸副目盛り線の線幅\n",
    "plt.rcParams[\"xtick.labelsize\"] = 8        # 目盛りのフォントサイズ\n",
    "plt.rcParams[\"ytick.labelsize\"] = 8        # 目盛りのフォントサイズ\n",
    "plt.rcParams[\"xtick.major.pad\"] = 3.0      # x軸から目盛までの距離\n",
    "plt.rcParams[\"ytick.major.pad\"] = 4.0      # y軸から目盛までの距離\n",
    "plt.rcParams[\"axes.labelsize\"] = 10         # 軸ラベルのフォントサイズ\n",
    "plt.rcParams[\"axes.linewidth\"] = 0.4        # グラフ囲う線の太さ\n",
    "plt.rcParams[\"axes.grid\"] = False           # グリッドを表示するかどうか"
   ]
  },
  {
   "cell_type": "code",
   "execution_count": 4,
   "metadata": {},
   "outputs": [
    {
     "name": "stdout",
     "output_type": "stream",
     "text": [
      "[ 9.28827417e-01 -1.07953945e-01  5.97782015e+02  4.59929242e+02\n",
      "  5.75242649e+01  5.69547526e+01  5.18587130e-02]\n"
     ]
    }
   ],
   "source": [
    "#フィッティングパラメータ取得\n",
    "data_param_path = '/Users/nagaiyuma/Documents/myprogram/201209/2020-12-10_15-19_fit-param.pkl'\n",
    "with open(data_param_path, mode=\"rb\") as f:\n",
    "    param = pickle.load(f)\n",
    "\n",
    "print(param)"
   ]
  },
  {
   "cell_type": "code",
   "execution_count": 13,
   "metadata": {},
   "outputs": [],
   "source": [
    "train_num = 10000 #訓練データの数\n",
    "test_num = 1000 #テストデータの数\n",
    "data_size = 200 #配列の大きさ\n",
    "\n",
    "train_x = np.zeros((train_num,data_size,data_size))\n",
    "train_t = np.zeros((train_num, len(param)))\n",
    "test_x = np.zeros((test_num,data_size,data_size))\n",
    "test_t = np.zeros((test_num, len(param)))"
   ]
  },
  {
   "cell_type": "code",
   "execution_count": 9,
   "metadata": {},
   "outputs": [
    {
     "name": "stdout",
     "output_type": "stream",
     "text": [
      "[100. 100.]\n",
      "[100.1 100. ]\n",
      "[100.2 100. ]\n",
      "[100.3 100. ]\n",
      "[100.4 100. ]\n",
      "[100.5 100. ]\n",
      "[100.6 100. ]\n",
      "[100.7 100. ]\n",
      "[100.8 100. ]\n",
      "[100.9 100. ]\n",
      "経過時間:85.2913191318512[sec]\n"
     ]
    }
   ],
   "source": [
    "#訓練データ作成\n",
    "N = train_num #訓練データの個数\n",
    "\n",
    "def gaussian_beam_xy(X,i0,b0,x0,y0,wx,wy,h0):\n",
    "    x,y = X\n",
    "    return  (i0*np.exp((-2/(1-b0**2))*(((x-x0)/wx)**2+((y-y0)/wy)**2-2*b0*((x-x0)/wx)*((y-y0)/wy)))+ h0).flatten()\n",
    "#中心位置\n",
    "idx = np.zeros((2, N))\n",
    "idx[0] = np.arange(0.0, 1.0, 0.1).repeat(N/10)\n",
    "idx = idx.T\n",
    "\n",
    "#画像サイズ\n",
    "size = 100\n",
    "x_array = np.arange(0, size*2, 1.0)                         # x配列\n",
    "y_array = np.arange(0, size*2, 1.0)                         # y配列\n",
    "nx = len(x_array)\n",
    "ny = len(y_array)\n",
    "x_grid, y_grid = np.meshgrid(x_array, y_array)\n",
    "intensity = np.zeros((N,nx,ny))\n",
    "idx = idx + size #中心に持ってくる\n",
    "start = time.time()\n",
    "for n in range(N):\n",
    "    #初期パラメータ\n",
    "    i0 = param[0]\n",
    "    b0 = param[1]\n",
    "    x0 = idx[n][0]\n",
    "    y0 = idx[n][1]\n",
    "    wx = param[4]\n",
    "    wy = param[5]\n",
    "    h0 = param[6]\n",
    "    param = np.array([i0, b0, x0, y0, wx, wy, h0])  #初期値\n",
    "    train_t[n] = param\n",
    "    \n",
    "    #強度の計算\n",
    "    intensity[n] = gaussian_beam_xy((x_grid.T, y_grid.T), *param).reshape(nx,ny)\n",
    "\n",
    "intensity_noise = np.zeros((N, nx, ny))\n",
    "intensity_i = np.zeros(nx*ny)\n",
    "NOISE = np.zeros((N, nx*ny))\n",
    "\n",
    "for i in range(10):\n",
    "    intensity_i = intensity[int(i*N/10)].flatten()\n",
    "    print(idx[int(i*N/10)])\n",
    "    for k in range(nx*ny):\n",
    "        NOISE[int(i*N/10):int((i+1)*N/10),k] = (np.random.normal(loc=0,scale=0.00844*intensity_i[k],size=int(N/10))+0.00165)\n",
    "NOISE = NOISE.reshape(N,nx,ny)\n",
    "intensity_noise = intensity.reshape(N,nx,ny) + NOISE.reshape(N,nx,ny)\n",
    "\n",
    "train_x = intensity_noise.reshape(-1, 200, 200)\n",
    "\n",
    "elapsed_time = time.time() - start\n",
    "print (\"経過時間:{0}\".format(elapsed_time) + \"[sec]\")"
   ]
  },
  {
   "cell_type": "code",
   "execution_count": 10,
   "metadata": {},
   "outputs": [
    {
     "name": "stdout",
     "output_type": "stream",
     "text": [
      "[100. 100.]\n",
      "[100.1 100. ]\n",
      "[100.2 100. ]\n",
      "[100.3 100. ]\n",
      "[100.4 100. ]\n",
      "[100.5 100. ]\n",
      "[100.6 100. ]\n",
      "[100.7 100. ]\n",
      "[100.8 100. ]\n",
      "[100.9 100. ]\n",
      "経過時間:8.331423044204712[sec]\n"
     ]
    }
   ],
   "source": [
    "#テストデータ作成\n",
    "N = test_num #訓練データの個数\n",
    "\n",
    "def gaussian_beam_xy(X,i0,b0,x0,y0,wx,wy,h0):\n",
    "    x,y = X\n",
    "    return  (i0*np.exp((-2/(1-b0**2))*(((x-x0)/wx)**2+((y-y0)/wy)**2-2*b0*((x-x0)/wx)*((y-y0)/wy)))+ h0).flatten()\n",
    "#中心位置\n",
    "idx = np.zeros((2, N))\n",
    "idx[0] = np.arange(0.0, 1.0, 0.1).repeat(N/10)\n",
    "idx = idx.T\n",
    "\n",
    "#画像サイズ\n",
    "size = 100\n",
    "x_array = np.arange(0, size*2, 1.0)                         # x配列\n",
    "y_array = np.arange(0, size*2, 1.0)                         # y配列\n",
    "nx = len(x_array)\n",
    "ny = len(y_array)\n",
    "x_grid, y_grid = np.meshgrid(x_array, y_array)\n",
    "intensity = np.zeros((N,nx,ny))\n",
    "idx = idx + size #中心に持ってくる\n",
    "start = time.time()\n",
    "for n in range(N):\n",
    "    #初期パラメータ\n",
    "    i0 = param[0]\n",
    "    b0 = param[1]\n",
    "    x0 = idx[n][0]\n",
    "    y0 = idx[n][1]\n",
    "    wx = param[4]\n",
    "    wy = param[5]\n",
    "    h0 = param[6]\n",
    "    param = np.array([i0, b0, x0, y0, wx, wy, h0])  #初期値\n",
    "    test_t[n] = param\n",
    "    \n",
    "    #強度の計算\n",
    "    intensity[n] = gaussian_beam_xy((x_grid.T, y_grid.T), *param).reshape(nx,ny)\n",
    "\n",
    "intensity_noise = np.zeros((N, nx, ny))\n",
    "intensity_i = np.zeros(nx*ny)\n",
    "NOISE = np.zeros((N, nx*ny))\n",
    "for i in range(10):\n",
    "    intensity_i = intensity[int(i*N/10)].flatten()\n",
    "    print(idx[int(i*N/10)])\n",
    "    for k in range(nx*ny):\n",
    "        NOISE[int(i*N/10):int((i+1)*N/10),k] = (np.random.normal(loc=0,scale=0.00844*intensity_i[k],size=int(N/10))+0.00165)\n",
    "NOISE = NOISE.reshape(N,nx,ny)\n",
    "intensity_noise = intensity.reshape(N,nx,ny) + NOISE.reshape(N,nx,ny)\n",
    "\n",
    "test_x = intensity.reshape(-1, 200, 200)\n",
    "\n",
    "elapsed_time = time.time() - start\n",
    "print (\"経過時間:{0}\".format(elapsed_time) + \"[sec]\")"
   ]
  },
  {
   "cell_type": "code",
   "execution_count": null,
   "metadata": {},
   "outputs": [],
   "source": [
    "#強度分布の表示\n",
    "dt_now = datetime.datetime.now()\n",
    "print('現在時刻：', dt_now)\n",
    "\n",
    "save_name = dt_now.strftime(\"%Y-%m-%d_%H-%M\") +'_intensity_noise-3d.png'\n",
    "save_file = os.path.join(save_folder, save_name) # 保存先のファイルパス作成\n",
    "fig = plt.figure(figsize=(7,7))\n",
    "ax = fig.add_subplot(111, projection='3d')\n",
    "ax.set_xlabel(\"x[px]\", fontsize=16)\n",
    "ax.set_ylabel(\"y[px]\", fontsize=16)\n",
    "ax.set_zlabel(\"Intensity [a.u.]\", fontsize=16)\n",
    "plt.tick_params(labelsize=16)\n",
    "ax.grid(False)\n",
    "ax.scatter(x_grid.T, y_grid.T, intensity_noise[n], color='black', s=0.1)\n",
    "ax.w_xaxis.set_pane_color((1.0, 1.0, 1.0, 1.0))\n",
    "#fig.savefig(save_file, format=\"png\", bbox_inches=\"tight\")\n",
    "plt.show()\n",
    "print('保存ファイル名：', save_name)\n",
    "print('保存ファイルパス：', save_file)\n",
    "#カラーマップ表示\n",
    "save_name = dt_now.strftime(\"%Y-%m-%d_%H-%M\") +'_intensity-cmap.png'\n",
    "save_file = os.path.join(save_folder, save_name) # 保存先のファイルパス作成\n",
    "fig = plt.figure(figsize=(6,5))\n",
    "ax = fig.add_subplot(111)\n",
    "ax.set_xlabel(\"x[px]\", fontsize=16)\n",
    "ax.set_ylabel(\"y[px]\", fontsize=16)\n",
    "ax.tick_params(labelsize=16)\n",
    "mappable = ax.pcolormesh(x_grid.T, y_grid.T, intensity_noise[n].reshape(nx,ny), cmap='jet', vmin=0.0, vmax=1.0)\n",
    "cbar = fig.colorbar(mappable, ax=ax)\n",
    "cbar.set_label(\"Error\", fontsize=16)\n",
    "cbar.ax.tick_params(labelsize=16)\n",
    "#fig.savefig(save_file, format=\"png\", bbox_inches=\"tight\")\n",
    "plt.show()\n",
    "print('保存ファイル名：', save_name)\n",
    "print('保存ファイルパス：', save_file)"
   ]
  },
  {
   "cell_type": "code",
   "execution_count": 22,
   "metadata": {},
   "outputs": [
    {
     "name": "stdout",
     "output_type": "stream",
     "text": [
      "Model: \"sequential_5\"\n",
      "_________________________________________________________________\n",
      "Layer (type)                 Output Shape              Param #   \n",
      "=================================================================\n",
      "conv2d_11 (Conv2D)           (None, 200, 200, 100)     1000      \n",
      "_________________________________________________________________\n",
      "max_pooling2d_8 (MaxPooling2 (None, 100, 100, 100)     0         \n",
      "_________________________________________________________________\n",
      "conv2d_12 (Conv2D)           (None, 100, 100, 50)      45050     \n",
      "_________________________________________________________________\n",
      "max_pooling2d_9 (MaxPooling2 (None, 50, 50, 50)        0         \n",
      "_________________________________________________________________\n",
      "conv2d_13 (Conv2D)           (None, 50, 50, 50)        22550     \n",
      "_________________________________________________________________\n",
      "flatten_4 (Flatten)          (None, 125000)            0         \n",
      "_________________________________________________________________\n",
      "dense_10 (Dense)             (None, 1000)              125001000 \n",
      "_________________________________________________________________\n",
      "dropout_7 (Dropout)          (None, 1000)              0         \n",
      "_________________________________________________________________\n",
      "dense_11 (Dense)             (None, 100)               100100    \n",
      "_________________________________________________________________\n",
      "dropout_8 (Dropout)          (None, 100)               0         \n",
      "_________________________________________________________________\n",
      "dense_12 (Dense)             (None, 7)                 707       \n",
      "=================================================================\n",
      "Total params: 125,170,407\n",
      "Trainable params: 125,170,407\n",
      "Non-trainable params: 0\n",
      "_________________________________________________________________\n"
     ]
    }
   ],
   "source": [
    "#CNN3の実装\n",
    "batch_size = 200  # 訓練データを200ずつのデータに分けて学習させる\n",
    "epochs = 50 # 訓練データを繰り返し学習させる数\n",
    "train_x = train_x.reshape(-1,200,200,1)\n",
    "test_x = test_x.reshape(-1,200,200,1)\n",
    "#レイヤー構造\n",
    "model = Sequential()\n",
    "model.add(Conv2D(100, (3,3), padding='same', input_shape=(200, 200, 1), activation='relu', kernel_initializer=\"he_normal\"))\n",
    "model.add(MaxPooling2D((2,2), padding='same'))\n",
    "model.add(Conv2D(50, (3,3), padding='same', activation='relu', kernel_initializer=\"he_normal\"))\n",
    "model.add(MaxPooling2D((2,2), padding='same'))\n",
    "model.add(Conv2D(50, (3,3), padding='same', activation='relu', kernel_initializer=\"he_normal\"))\n",
    "model.add(layers.Flatten())\n",
    "model.add(Dense(1000, activation='relu', kernel_initializer=\"he_normal\"))\n",
    "model.add(Dropout(0.2))\n",
    "model.add(Dense(100, activation='relu', kernel_initializer=\"he_normal\"))\n",
    "model.add(Dropout(0.2))\n",
    "model.add(Dense(len(param), activation='relu', kernel_initializer=\"he_normal\"))\n",
    "\n",
    "model.summary()"
   ]
  },
  {
   "cell_type": "code",
   "execution_count": null,
   "metadata": {},
   "outputs": [
    {
     "name": "stdout",
     "output_type": "stream",
     "text": [
      "WARNING:tensorflow:From /Users/nagaiyuma/anaconda3/lib/python3.7/site-packages/keras/backend/tensorflow_backend.py:422: The name tf.global_variables is deprecated. Please use tf.compat.v1.global_variables instead.\n",
      "\n",
      "Train on 10000 samples, validate on 1000 samples\n",
      "Epoch 1/50\n"
     ]
    }
   ],
   "source": [
    "model.compile(loss='mse',\n",
    " optimizer='adam',\n",
    " metrics=['mae'])\n",
    "\n",
    "callbacks = [keras.callbacks.TensorBoard(log_dir='./logs',\n",
    "                            histogram_freq=1, \n",
    "                            batch_size=batch_size, \n",
    "                            write_graph=True, \n",
    "                            write_grads=True)]\n",
    "\n",
    "history = model.fit(train_x, train_t,\n",
    " batch_size=batch_size,\n",
    " epochs=epochs,\n",
    " verbose=1,\n",
    " validation_data=(test_x, test_t))\n",
    "\n",
    "score = model.evaluate(test_x, test_t, verbose=0)\n",
    "print('Test loss:', score[0])\n",
    "print('Test accuracy:', score[1])\n"
   ]
  },
  {
   "cell_type": "code",
   "execution_count": null,
   "metadata": {},
   "outputs": [],
   "source": [
    "#modelの保存\n",
    "dt_now = datetime.datetime.now()\n",
    "print('現在時刻：', dt_now)\n",
    "#損失関数とmaeの推移\n",
    "save_name = dt_now.strftime(\"%Y-%m-%d_%H-%M\") +f'_noise{NOISE}.h5'\n",
    "save_file = os.path.join(save_folder, save_name) # 保存先のファイルパス作成\n",
    "model.save(save_file)\n",
    "print('保存ファイル名：', save_name)\n",
    "print('保存ファイルパス：', save_file)\n",
    "\n",
    "#historyの保存\n",
    "mae = history.history['mae']\n",
    "val_mae = history.history['val_mae']\n",
    "loss = history.history['loss']\n",
    "val_loss = history.history['val_loss']\n",
    "epochs = range(1, len(mae) + 1)\n",
    "save_data = np.array((epochs, mae, val_mae, loss, val_loss))\n",
    "dt_now = datetime.datetime.now()\n",
    "print('現在時刻：', dt_now)\n",
    "save_name = dt_now.strftime(\"%Y-%m-%d_%H-%M\") +f'_noise{NOISE}.json'\n",
    "save_file = os.path.join(save_folder, save_name) # 保存先のファイルパス作成\n",
    "hist_df = pd.DataFrame(history.history) \n",
    "with open(save_file, mode='w') as f:\n",
    "    hist_df.to_json(f)\n",
    "print('保存ファイル名：', save_name)\n",
    "print('保存ファイルパス：', save_file)\n",
    "\n",
    "#損失関数の推移\n",
    "save_name = dt_now.strftime(\"%Y-%m-%d_%H-%M\") +f'_{NOISE}_loss.svg'\n",
    "save_file = os.path.join(save_folder, save_name) # 保存先のファイルパス作成\n",
    "fig = plt.figure()\n",
    "ax = fig.add_subplot(111)\n",
    "ax.scatter(epochs, loss,  color=\"black\", label = 'Train')\n",
    "ax.scatter(epochs, val_loss,  color=\"red\", label = 'Valdation')\n",
    "ax.legend(frameon=False)\n",
    "ax.set_xlabel('Epoch',fontsize=14)          # 軸ラベル\n",
    "ax.set_ylabel('Loss',fontsize=14)\n",
    "ax.set_ylim(0, 0.5)      # y軸の表示範囲\n",
    "plt.tick_params(labelsize=14)\n",
    "ax.set_aspect(1./ax.get_data_ratio()) # グラフを正方形にする\n",
    "fig.savefig(save_file, format=\"svg\", bbox_inches=\"tight\")\n",
    "fig.show()\n",
    "print('保存ファイル名：', save_name)\n",
    "print('保存ファイルパス：', save_file)\n",
    "\n",
    "#maeの推移\n",
    "save_name = dt_now.strftime(\"%Y-%m-%d_%H-%M\") +f'_{NOISE}_mae.svg'\n",
    "save_file = os.path.join(save_folder, save_name) # 保存先のファイルパス作成\n",
    "fig = plt.figure()\n",
    "ax = fig.add_subplot(111)\n",
    "ax.scatter(epochs, mae,  color=\"black\", label = 'Train')\n",
    "ax.scatter(epochs, val_mae,  color=\"red\", label = 'Valdation')\n",
    "ax.legend(frameon=False)\n",
    "ax.set_xlabel('Epoch',fontsize=14)          # 軸ラベル\n",
    "ax.set_ylabel('MAE',fontsize=14)\n",
    "ax.set_ylim(0, 0.5)      # y軸の表示範囲\n",
    "plt.tick_params(labelsize=14)\n",
    "ax.set_aspect(1./ax.get_data_ratio()) # グラフを正方形にする\n",
    "fig.savefig(save_file, format=\"svg\", bbox_inches=\"tight\")\n",
    "fig.show()\n",
    "print('保存ファイル名：', save_name)\n",
    "print('保存ファイルパス：', save_file)"
   ]
  },
  {
   "cell_type": "code",
   "execution_count": 5,
   "metadata": {},
   "outputs": [
    {
     "name": "stdout",
     "output_type": "stream",
     "text": [
      "[0. 0.]\n"
     ]
    }
   ],
   "source": [
    "N=10\n",
    "idx = np.zeros((2, N))\n",
    "idx[0] = np.arange(0.0, 1.0, 0.1).repeat(N/10)\n",
    "idx = idx.T"
   ]
  },
  {
   "cell_type": "code",
   "execution_count": null,
   "metadata": {},
   "outputs": [],
   "source": []
  }
 ],
 "metadata": {
  "kernelspec": {
   "display_name": "Python 3",
   "language": "python",
   "name": "python3"
  },
  "language_info": {
   "codemirror_mode": {
    "name": "ipython",
    "version": 3
   },
   "file_extension": ".py",
   "mimetype": "text/x-python",
   "name": "python",
   "nbconvert_exporter": "python",
   "pygments_lexer": "ipython3",
   "version": "3.7.3"
  }
 },
 "nbformat": 4,
 "nbformat_minor": 4
}
