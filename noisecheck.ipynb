{
 "cells": [
  {
   "cell_type": "code",
   "execution_count": 7,
   "metadata": {},
   "outputs": [
    {
     "name": "stdout",
     "output_type": "stream",
     "text": [
      "2020-11-13\n"
     ]
    }
   ],
   "source": [
    "import datetime\n",
    "import numpy as np\n",
    "import datetime\n",
    "import matplotlib.pyplot as plt\n",
    "from createdatas import gaussian_beam\n",
    "import os #システム操作系\n",
    "from pathlib import Path #ファイル操作系\n",
    "date = str(datetime.date.today())\n",
    "print(date)"
   ]
  },
  {
   "cell_type": "code",
   "execution_count": 2,
   "metadata": {},
   "outputs": [],
   "source": [
    "NOISE = 30\n",
    "\n",
    "#ガウス関数の動作確認\n",
    "i0 = 1.0\n",
    "x0 = 0.0\n",
    "y0 = 0.0\n",
    "w0 = 5.0\n",
    "h0 = 0.0\n",
    "# ガウシアンビームの関数の定義\n",
    "def gaussian_beam(x,a,b,c,d):\n",
    "    return  a * np.exp(-2*(x-b)*(x-b)/c/c) + d\n",
    "\n",
    "param_ini_x = np.array([i0, x0, w0, h0])  # フィッティングの初期値 (ここではデータから推定は行わない)\n",
    "param_ini_y = np.array([i0, y0, w0, h0])\n",
    "# x配列とy配列\n",
    "x_array = np.arange(-50, 50, 1.0)                         # x配列\n",
    "y_array = np.arange(-50, 50, 1.0)                         # y配列\n",
    "nx = len(x_array)\n",
    "ny = len(y_array)\n",
    "intensity = np.zeros((nx, ny))                            # ノイズを含まない2次元強度分布\n",
    "intensity = np.zeros((nx, ny))                            # ノイズを含まない2次元強度分布\n",
    "x_grid, y_grid = np.meshgrid(x_array, y_array)\n",
    "intensity = i0 * np.exp(-2*((x_grid-x0)**2 + (y_grid-y0)**2)/w0**2).T\n",
    "profile_y_1 = np.zeros(ny)\n",
    "\n",
    "# 2次元の強度分布にノイズを付与\n",
    "noise = (np.random.rand(nx*ny)-0.5)*i0*NOISE*0.01   #プラスマイナスNOISE%のノイズ(一様分布), (np.random.rand(nx*ny)-0.5)*2の部分が-1から1までの乱数になる\n",
    "noise = noise.reshape((nx,ny))\n",
    "intensity_noise = intensity + noise\n",
    "\n",
    "# 最大値の探索 & その位置の強度プロファイルの取得\n",
    "idx = np.unravel_index(np.argmax(intensity_noise), intensity_noise.shape)\n",
    "profile_y_1 = intensity_noise[idx[0],:]\n",
    "profile_y_2 = intensity[idx[0],:]"
   ]
  },
  {
   "cell_type": "code",
   "execution_count": 9,
   "metadata": {},
   "outputs": [],
   "source": [
    "#　テストデータ取得\n",
    "data_size = 100 #配列の大きさ\n",
    "x = np.zeros(data_size)\n",
    "\n",
    "file_path = \"/Users/nagaiyuma/Desktop/201021/5.txt\"\n",
    "with open(file_path) as f:\n",
    "    file_str = f.read().splitlines()\n",
    "    f.close\n",
    "\n",
    "    for i in range(0, data_size):\n",
    "        x[i] = float(file_str[i])"
   ]
  },
  {
   "cell_type": "code",
   "execution_count": 3,
   "metadata": {},
   "outputs": [
    {
     "ename": "NameError",
     "evalue": "name 'x' is not defined",
     "output_type": "error",
     "traceback": [
      "\u001b[0;31m---------------------------------------------------------------------------\u001b[0m",
      "\u001b[0;31mNameError\u001b[0m                                 Traceback (most recent call last)",
      "\u001b[0;32m<ipython-input-3-bc341f976327>\u001b[0m in \u001b[0;36m<module>\u001b[0;34m\u001b[0m\n\u001b[1;32m      8\u001b[0m \u001b[0mplt\u001b[0m\u001b[0;34m.\u001b[0m\u001b[0mylim\u001b[0m\u001b[0;34m(\u001b[0m\u001b[0;34m-\u001b[0m\u001b[0;36m0.5\u001b[0m\u001b[0;34m,\u001b[0m \u001b[0;36m2.0\u001b[0m\u001b[0;34m)\u001b[0m      \u001b[0;31m# y軸の表示範囲\u001b[0m\u001b[0;34m\u001b[0m\u001b[0;34m\u001b[0m\u001b[0m\n\u001b[1;32m      9\u001b[0m \u001b[0mplt\u001b[0m\u001b[0;34m.\u001b[0m\u001b[0msubplot\u001b[0m\u001b[0;34m(\u001b[0m\u001b[0;36m1\u001b[0m\u001b[0;34m,\u001b[0m\u001b[0;36m2\u001b[0m\u001b[0;34m,\u001b[0m\u001b[0;36m2\u001b[0m\u001b[0;34m)\u001b[0m\u001b[0;34m\u001b[0m\u001b[0;34m\u001b[0m\u001b[0m\n\u001b[0;32m---> 10\u001b[0;31m \u001b[0mplt\u001b[0m\u001b[0;34m.\u001b[0m\u001b[0mplot\u001b[0m\u001b[0;34m(\u001b[0m\u001b[0mx_array\u001b[0m\u001b[0;34m,\u001b[0m \u001b[0mx\u001b[0m\u001b[0;34m,\u001b[0m  \u001b[0mcolor\u001b[0m\u001b[0;34m=\u001b[0m\u001b[0;34m\"black\"\u001b[0m\u001b[0;34m,\u001b[0m \u001b[0mlabel\u001b[0m \u001b[0;34m=\u001b[0m \u001b[0;34m'x0 = 0.0'\u001b[0m\u001b[0;34m)\u001b[0m\u001b[0;34m\u001b[0m\u001b[0;34m\u001b[0m\u001b[0m\n\u001b[0m\u001b[1;32m     11\u001b[0m \u001b[0mplt\u001b[0m\u001b[0;34m.\u001b[0m\u001b[0mxlabel\u001b[0m\u001b[0;34m(\u001b[0m\u001b[0;34m'x'\u001b[0m\u001b[0;34m)\u001b[0m          \u001b[0;31m# 軸ラベル\u001b[0m\u001b[0;34m\u001b[0m\u001b[0;34m\u001b[0m\u001b[0m\n\u001b[1;32m     12\u001b[0m \u001b[0mplt\u001b[0m\u001b[0;34m.\u001b[0m\u001b[0mylabel\u001b[0m\u001b[0;34m(\u001b[0m\u001b[0;34m'Intensity_vi'\u001b[0m\u001b[0;34m)\u001b[0m\u001b[0;34m\u001b[0m\u001b[0;34m\u001b[0m\u001b[0m\n",
      "\u001b[0;31mNameError\u001b[0m: name 'x' is not defined"
     ]
    },
    {
     "data": {
      "image/png": "[encoded data removed]",
      "text/plain": [
       "<Figure size 432x288 with 2 Axes>"
      ]
     },
     "metadata": {
      "needs_background": "light"
     },
     "output_type": "display_data"
    }
   ],
   "source": [
    "#表示と保存\n",
    "savename = date + \"noise%dcheck.png\"%(NOISE)\n",
    "plt.subplots_adjust(wspace=0.4, hspace=0.6)\n",
    "plt.subplot(1,2,1)\n",
    "plt.plot(x_array, profile_y_1,  color=\"black\", label = 'x0 = 0.0')\n",
    "plt.xlabel('x')          # 軸ラベル\n",
    "plt.ylabel('Intensity_py')\n",
    "plt.ylim(-0.5, 2.0)      # y軸の表示範囲\n",
    "plt.subplot(1,2,2)\n",
    "plt.plot(x_array, x,  color=\"black\", label = 'x0 = 0.0')\n",
    "plt.xlabel('x')          # 軸ラベル\n",
    "plt.ylabel('Intensity_vi')\n",
    "plt.ylim(-0.5, 2.0)\n",
    "plt.savefig(savename)\n",
    "plt.show()\n",
    "plt.close()"
   ]
  },
  {
   "cell_type": "code",
   "execution_count": 3,
   "metadata": {},
   "outputs": [
    {
     "ename": "FileNotFoundError",
     "evalue": "[Errno 2] No such file or directory: '/Users/nagaiyuma/Desktop/201021/_5.txt'",
     "output_type": "error",
     "traceback": [
      "\u001b[0;31m---------------------------------------------------------------------------\u001b[0m",
      "\u001b[0;31mFileNotFoundError\u001b[0m                         Traceback (most recent call last)",
      "\u001b[0;32m<ipython-input-3-03dded04971c>\u001b[0m in \u001b[0;36m<module>\u001b[0;34m\u001b[0m\n\u001b[1;32m      4\u001b[0m \u001b[0;34m\u001b[0m\u001b[0m\n\u001b[1;32m      5\u001b[0m \u001b[0mfile_path\u001b[0m \u001b[0;34m=\u001b[0m \u001b[0;34m\"/Users/nagaiyuma/Desktop/201021/_5.txt\"\u001b[0m\u001b[0;34m\u001b[0m\u001b[0;34m\u001b[0m\u001b[0m\n\u001b[0;32m----> 6\u001b[0;31m \u001b[0;32mwith\u001b[0m \u001b[0mopen\u001b[0m\u001b[0;34m(\u001b[0m\u001b[0mfile_path\u001b[0m\u001b[0;34m)\u001b[0m \u001b[0;32mas\u001b[0m \u001b[0mf\u001b[0m\u001b[0;34m:\u001b[0m\u001b[0;34m\u001b[0m\u001b[0;34m\u001b[0m\u001b[0m\n\u001b[0m\u001b[1;32m      7\u001b[0m     \u001b[0mfile_str\u001b[0m \u001b[0;34m=\u001b[0m \u001b[0mf\u001b[0m\u001b[0;34m.\u001b[0m\u001b[0mread\u001b[0m\u001b[0;34m(\u001b[0m\u001b[0;34m)\u001b[0m\u001b[0;34m.\u001b[0m\u001b[0msplitlines\u001b[0m\u001b[0;34m(\u001b[0m\u001b[0;34m)\u001b[0m\u001b[0;34m\u001b[0m\u001b[0;34m\u001b[0m\u001b[0m\n\u001b[1;32m      8\u001b[0m     \u001b[0mf\u001b[0m\u001b[0;34m.\u001b[0m\u001b[0mclose\u001b[0m\u001b[0;34m\u001b[0m\u001b[0;34m\u001b[0m\u001b[0m\n",
      "\u001b[0;31mFileNotFoundError\u001b[0m: [Errno 2] No such file or directory: '/Users/nagaiyuma/Desktop/201021/_5.txt'"
     ]
    }
   ],
   "source": [
    "#元のガウス関数-viデータ取得\n",
    "data_size = 100 #配列の大きさ\n",
    "_x = np.zeros(data_size)\n",
    "\n",
    "file_path = \"/Users/nagaiyuma/Desktop/201021/_5.txt\"\n",
    "with open(file_path) as f:\n",
    "    file_str = f.read().splitlines()\n",
    "    f.close\n",
    "\n",
    "    for i in range(0, data_size):\n",
    "        _x[i] = float(file_str[i])"
   ]
  },
  {
   "cell_type": "code",
   "execution_count": 16,
   "metadata": {},
   "outputs": [
    {
     "data": {
      "image/png": "[encoded data removed]",
      "text/plain": [
       "<Figure size 432x288 with 2 Axes>"
      ]
     },
     "metadata": {
      "needs_background": "light"
     },
     "output_type": "display_data"
    }
   ],
   "source": [
    "#表示と保存\n",
    "savename = date + \"check.png\"\n",
    "plt.subplots_adjust(wspace=0.4, hspace=0.6)\n",
    "plt.subplot(1,2,1)\n",
    "plt.plot(x_array, profile_y_2,  color=\"black\", label = 'x0 = 0.0')\n",
    "plt.xlabel('x')          # 軸ラベル\n",
    "plt.ylabel('Intensity_py')\n",
    "plt.ylim(-0.5, 2.0)      # y軸の表示範囲\n",
    "plt.subplot(1,2,2)\n",
    "plt.plot(x_array, _x,  color=\"black\", label = 'x0 = 0.0')\n",
    "plt.xlabel('x')          # 軸ラベル\n",
    "plt.ylabel('Intensity_vi')\n",
    "plt.ylim(-0.5, 2.0)\n",
    "plt.savefig(savename)\n",
    "plt.show()\n",
    "plt.close()"
   ]
  },
  {
   "cell_type": "code",
   "execution_count": 6,
   "metadata": {},
   "outputs": [
    {
     "name": "stdout",
     "output_type": "stream",
     "text": [
      "このファイルの存在するフォルダ： /Users/nagaiyuma/Documents/myprogram\n",
      "保存フォルダ： /Users/nagaiyuma/Documents/myprogram/savefig30%\n"
     ]
    }
   ],
   "source": [
    "# このファイルの存在するフォルダの絶対パスを取得\n",
    "dir_name = str(Path().resolve())\n",
    "print('このファイルの存在するフォルダ：', dir_name)\n",
    "\n",
    "# 保存先フォルダのパス作成\n",
    "save_folder = os.path.join(dir_name, f'savefig{NOISE}%')\n",
    "print('保存フォルダ：', save_folder)\n",
    "\n",
    "# 保存先フォルダの作成(既に存在する場合は無視される)\n",
    "os.makedirs(save_folder, exist_ok=True)"
   ]
  },
  {
   "cell_type": "code",
   "execution_count": 12,
   "metadata": {},
   "outputs": [
    {
     "name": "stdout",
     "output_type": "stream",
     "text": [
      "経過時間:2.6987738609313965[sec]\n",
      "平均絶対誤差: 0.116108 ± 0.087896\n",
      "現在時刻： 2020-11-13 17:18:40.707697\n",
      "保存ファイル名： 2020-11-13_17-18.svg\n",
      "保存ファイルパス： /Users/nagaiyuma/Documents/myprogram/savefig30%/2020-11-13_17-18.svg\n"
     ]
    },
    {
     "data": {
      "image/png": "[encoded data removed]",
      "text/plain": [
       "<Figure size 432x288 with 1 Axes>"
      ]
     },
     "metadata": {
      "needs_background": "light"
     },
     "output_type": "display_data"
    }
   ],
   "source": [
    "from createdatas2 import createdata2\n",
    "\n",
    "test_num = 1000 #データ数\n",
    "data_size = 100 #配列の大きさ\n",
    "fit_param_x = np.zeros((test_num, 4))\n",
    "fit_param_y = np.zeros((test_num, 4))\n",
    "NOISE = 30\n",
    "\n",
    "x = np.zeros((test_num, data_size))\n",
    "y = np.zeros((test_num, data_size))\n",
    "t = np.zeros((test_num, 3))\n",
    "ty = np.zeros((test_num, 3))\n",
    "\n",
    "createdata2(test_num, NOISE, data_size, x, y, t, ty, fit_param_x, fit_param_y)\n",
    "py_noise = (x - profile_y_2).flatten()\n",
    "\n",
    "dt_now = datetime.datetime.now()\n",
    "print('現在時刻：', dt_now)\n",
    "#損失関数とmaeの推移\n",
    "save_name = dt_now.strftime(\"%Y-%m-%d_%H-%M\") +'.svg'\n",
    "save_file = os.path.join(save_folder, save_name) # 保存先のファイルパス作成\n",
    "print('保存ファイル名：', save_name)\n",
    "print('保存ファイルパス：', save_file)\n",
    "\n",
    "# ヒストグラムのグラフを作成\n",
    "plt.figure()\n",
    "plt.hist(py_noise, bins=500, color='black')\n",
    "plt.xlabel('Noise')\n",
    "plt.ylabel('Frequency_py')\n",
    "plt.xlim(-0.2, 0.2)\n",
    "plt.savefig(savename)\n",
    "plt.show()\n",
    "plt.close()"
   ]
  },
  {
   "cell_type": "code",
   "execution_count": 16,
   "metadata": {},
   "outputs": [
    {
     "name": "stdout",
     "output_type": "stream",
     "text": [
      "(2, 1000)\n"
     ]
    }
   ],
   "source": [
    "save_data = np.array((x.T[0],t.T[0]))\n",
    "print(save_data.shape)"
   ]
  },
  {
   "cell_type": "code",
   "execution_count": 22,
   "metadata": {},
   "outputs": [
    {
     "data": {
      "image/png": "[encoded data removed]",
      "text/plain": [
       "<Figure size 432x288 with 1 Axes>"
      ]
     },
     "metadata": {
      "needs_background": "light"
     },
     "output_type": "display_data"
    },
    {
     "data": {
      "image/png": "[encoded data removed]",
      "text/plain": [
       "<Figure size 432x288 with 1 Axes>"
      ]
     },
     "metadata": {
      "needs_background": "light"
     },
     "output_type": "display_data"
    }
   ],
   "source": [
    "py_noise = profile_y_1 - profile_y_2\n",
    "vi_noise = x - _x\n",
    "\n",
    "# ヒストグラムのグラフを作成\n",
    "plt.figure()\n",
    "save_name = \"py_noise%d_histogram.png\" % (NOISE)\n",
    "plt.hist(py_noise, bins=100, color='black')\n",
    "plt.xlabel('Noise')\n",
    "plt.ylabel('Frequency_py')\n",
    "plt.xlim(-0.2, 0.2)\n",
    "plt.savefig(savename)\n",
    "plt.show()\n",
    "plt.close()\n",
    "\n",
    "plt.figure()\n",
    "savename = \"vi_noise%d_histogram.png\" % (NOISE)\n",
    "plt.hist(vi_noise, bins=100, color='black')\n",
    "plt.xlabel('Noise')\n",
    "plt.ylabel('Frequency_vi')\n",
    "plt.xlim(-0.2, 0.2)\n",
    "plt.savefig(savename)\n",
    "plt.show()\n",
    "plt.close()"
   ]
  },
  {
   "cell_type": "code",
   "execution_count": 4,
   "metadata": {},
   "outputs": [
    {
     "name": "stdout",
     "output_type": "stream",
     "text": [
      "経過時間:2.410696029663086[sec]\n",
      "平均絶対誤差: 0.113517 ± 0.084659\n",
      "(100, 100)\n"
     ]
    }
   ],
   "source": [
    "#10,000データの確認\n",
    "test_num = 100 #データ数\n",
    "data_size = 100 #配列の大きさ\n",
    "fit_param_x = np.zeros((test_num, 4))\n",
    "fit_param_y = np.zeros((test_num, 4))\n",
    "NOISE = 30\n",
    "\n",
    "x = np.zeros((test_num, data_size))\n",
    "y = np.zeros((test_num, data_size))\n",
    "t = np.zeros((test_num, 3))\n",
    "ty = np.zeros((test_num, 3))\n",
    "\n",
    "createdata(test_num, NOISE, data_size, x, y, t, ty, fit_param_x, fit_param_y)\n",
    "\n",
    "print(x.shape)"
   ]
  },
  {
   "cell_type": "code",
   "execution_count": 9,
   "metadata": {},
   "outputs": [
    {
     "data": {
      "image/png": "[encoded data removed]",
      "text/plain": [
       "<Figure size 432x288 with 1 Axes>"
      ]
     },
     "metadata": {
      "needs_background": "light"
     },
     "output_type": "display_data"
    }
   ],
   "source": [
    "py_noise = (x - profile_y_2).flatten()\n",
    "\n",
    "# ヒストグラムのグラフを作成\n",
    "plt.figure()\n",
    "savename = date + \"py_noise%d_histogram.png\" % (NOISE)\n",
    "plt.hist(py_noise, bins=500, color='black')\n",
    "plt.xlabel('Noise')\n",
    "plt.ylabel('Frequency_py')\n",
    "plt.xlim(-0.5, 0.5)\n",
    "plt.savefig(savename)\n",
    "plt.show()\n",
    "plt.close()"
   ]
  },
  {
   "cell_type": "code",
   "execution_count": 6,
   "metadata": {},
   "outputs": [
    {
     "name": "stdout",
     "output_type": "stream",
     "text": [
      "(100, 100)\n",
      "(100, 100)\n"
     ]
    }
   ],
   "source": [
    "test_num = 100 #データ数\n",
    "data_size = 100 #配列の大きさ\n",
    "\n",
    "_x = np.zeros((test_num, data_size))\n",
    "x1 = np.zeros((test_num, data_size))\n",
    "test_nums = range(0, test_num)\n",
    "\n",
    "def _testdata(x, t):    \n",
    "    for key in test_nums:\n",
    "        file_path = \"/Users/nagaiyuma/Desktop/201026/x_\" + str(test_nums[key]) + \".txt\"\n",
    "        with open(file_path) as f:\n",
    "            file_str = f.read().splitlines()\n",
    "            f.close\n",
    "\n",
    "        for i in range(0, data_size):\n",
    "            x[key][i] = float(file_str[i])\n",
    "\n",
    "    for key in test_nums:\n",
    "        file_path = \"/Users/nagaiyuma/Desktop/201026/_\" + str(test_nums[key]) + \".txt\"\n",
    "        with open(file_path) as f:\n",
    "            file_str = f.read().splitlines()\n",
    "            f.close\n",
    "            \n",
    "        for i in range(0, data_size):\n",
    "            _x[key][i] = float(file_str[i])\n",
    "\n",
    "    return x, _x\n",
    "\n",
    "\n",
    "_testdata(x1, _x)\n",
    "\n",
    "print(x1.shape)\n",
    "print(_x.shape)"
   ]
  },
  {
   "cell_type": "code",
   "execution_count": 7,
   "metadata": {},
   "outputs": [
    {
     "data": {
      "image/png": "[encoded data removed]",
      "text/plain": [
       "<Figure size 432x288 with 1 Axes>"
      ]
     },
     "metadata": {
      "needs_background": "light"
     },
     "output_type": "display_data"
    }
   ],
   "source": [
    "vi_noise = (x1 - _x).flatten()\n",
    "plt.figure()\n",
    "savename = date + \"vi_noise%d_histogram.png\" % (NOISE)\n",
    "plt.hist(vi_noise, bins=500, color='black')\n",
    "plt.xlabel('Noise')\n",
    "plt.ylabel('Frequency_vi')\n",
    "plt.xlim(-0.5, 0.5)\n",
    "plt.savefig(savename)\n",
    "plt.show()\n",
    "plt.close()"
   ]
  },
  {
   "cell_type": "code",
   "execution_count": 8,
   "metadata": {},
   "outputs": [
    {
     "name": "stdout",
     "output_type": "stream",
     "text": [
      "0.0033973696223239583±0.013104206975195118\n"
     ]
    }
   ],
   "source": [
    "ave = np.average(abs(_x-profile_y_2))\n",
    "std = np.std(_x-profile_y_2)\n",
    "print(str(ave) + \"±\" + str(std))"
   ]
  },
  {
   "cell_type": "code",
   "execution_count": 34,
   "metadata": {},
   "outputs": [
    {
     "data": {
      "image/png": "[encoded data removed]",
      "text/plain": [
       "<Figure size 432x288 with 2 Axes>"
      ]
     },
     "metadata": {
      "needs_background": "light"
     },
     "output_type": "display_data"
    }
   ],
   "source": [
    "#表示と保存\n",
    "savename = date + \"check.png\"\n",
    "plt.subplots_adjust(wspace=0.4, hspace=0.6)\n",
    "plt.subplot(1,2,1)\n",
    "plt.plot(x_array, profile_y_2,  color=\"black\", label = 'x0 = 0.0')\n",
    "plt.xlabel('x')          # 軸ラベル\n",
    "plt.ylabel('Intensity_py')\n",
    "plt.ylim(-0.5, 2.0)      # y軸の表示範囲\n",
    "plt.subplot(1,2,2)\n",
    "plt.plot(x_array, _x[8],  color=\"black\", label = 'x0 = 0.0')\n",
    "plt.xlabel('x')          # 軸ラベル\n",
    "plt.ylabel('Intensity_vi')\n",
    "plt.ylim(-0.5, 2.0)\n",
    "plt.savefig(savename)\n",
    "plt.show()\n",
    "plt.close()"
   ]
  },
  {
   "cell_type": "code",
   "execution_count": 32,
   "metadata": {},
   "outputs": [
    {
     "name": "stdout",
     "output_type": "stream",
     "text": [
      "[0.    0.    0.    0.    0.    0.    0.    0.    0.    0.    0.    0.\n",
      " 0.    0.    0.    0.    0.    0.    0.    0.    0.    0.    0.    0.\n",
      " 0.    0.    0.    0.    0.    0.    0.    0.    0.    0.    0.    0.\n",
      " 0.    0.    0.    0.    0.    0.002 0.006 0.02  0.056 0.135 0.278 0.487\n",
      " 0.726 0.923 1.    0.923 0.726 0.487 0.278 0.135 0.056 0.02  0.006 0.002\n",
      " 0.    0.    0.    0.    0.    0.    0.    0.    0.    0.    0.    0.\n",
      " 0.    0.    0.    0.    0.    0.    0.    0.    0.    0.    0.    0.\n",
      " 0.    0.    0.    0.    0.    0.    0.    0.    0.    0.    0.    0.\n",
      " 0.    0.    0.    0.   ]\n"
     ]
    }
   ],
   "source": [
    "print(_x[0])"
   ]
  },
  {
   "cell_type": "code",
   "execution_count": null,
   "metadata": {},
   "outputs": [],
   "source": [
    "for n in range(N):        # 繰り返し精度を調べるために各ノイズ割合でN回実行\n",
    "    center = data_size/2\n",
    "    # x配列とy配列\n",
    "    x_array = np.arange(-center, center, 1.0)                         # x配列\n",
    "    y_array = np.arange(-center, center, 1.0)                         # y配列\n",
    "    nx = len(x_array)\n",
    "    ny = len(y_array)\n",
    "    intensity = np.zeros((nx, ny))                            # ノイズを含まない2次元強度分布\n",
    "    x0 = x0 + center\n",
    "    y0 = y0 + center\n",
    "    for i in range(nx):\n",
    "        for j in range(ny):\n",
    "            intensity[i][j] = i0 * np.exp(-2*((i-x0)*(i-x0) + (j-y0)*(j-y0))/w0/w0)\n",
    "    x0 = x0 - center\n",
    "    y0 = y0 - center\n",
    "    # 最大強度を取る位置における強度プロファイル\n",
    "    profile_x = np.zeros(nx)\n",
    "    profile_y = np.zeros(ny)\n",
    "    \n",
    "\n",
    "    # 2次元の強度分布にノイズを付与\n",
    "    noise = (np.random.rand(nx*ny)-0.5)*i0*NOISE*0.01   #プラスマイナスNOISE%のノイズ(一様分布), (np.random.rand(nx*ny)-0.5)*2の部分が-1から1までの乱数になる\n",
    "    noise = noise.reshape((nx,ny))\n",
    "    intensity_noise = intensity + noise\n",
    "\n",
    "    # 最大値の探索 & その位置の強度プロファイルの取得\n",
    "    idx = np.unravel_index(np.argmax(intensity_noise), intensity_noise.shape)\n",
    "    profile_x= intensity_noise[:,idx[1]]\n",
    "    profile_y = intensity_noise[idx[0],:]\n",
    "    x[n] = profile_x\n",
    "    y[n] = profile_y\n",
    "    tx[n] = (i0, x0 + 1.0, w0)"
   ]
  }
 ],
 "metadata": {
  "kernelspec": {
   "display_name": "Python 3",
   "language": "python",
   "name": "python3"
  },
  "language_info": {
   "codemirror_mode": {
    "name": "ipython",
    "version": 3
   },
   "file_extension": ".py",
   "mimetype": "text/x-python",
   "name": "python",
   "nbconvert_exporter": "python",
   "pygments_lexer": "ipython3",
   "version": "3.7.3"
  }
 },
 "nbformat": 4,
 "nbformat_minor": 4
}
