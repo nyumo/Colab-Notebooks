{
 "cells": [
  {
   "cell_type": "code",
   "execution_count": 1,
   "metadata": {},
   "outputs": [
    {
     "name": "stderr",
     "output_type": "stream",
     "text": [
      "Using TensorFlow backend.\n"
     ]
    }
   ],
   "source": [
    "import numpy as np\n",
    "from scipy.optimize import curve_fit    # フィッティング用\n",
    "import numpy as np\n",
    "import matplotlib.pyplot as plt\n",
    "import keras\n",
    "from keras.models import load_model\n",
    "import os\n",
    "from keras import layers\n",
    "from keras import models\n",
    "from keras.models import Sequential\n",
    "from keras.layers import Dense, Dropout\n",
    "from keras.optimizers import RMSprop\n",
    "import tensorflow as tf\n",
    "import time\n",
    "import csv\n",
    "\n",
    "os.environ['KMP_DUPLICATE_LIB_OK']='TRUE' #意味はわからん"
   ]
  },
  {
   "cell_type": "code",
   "execution_count": 7,
   "metadata": {},
   "outputs": [],
   "source": [
    "start = time.time()\n",
    "\n",
    "# ガウシアンビームの関数の定義\n",
    "def gaussian_beam(x,a,b,c,d):\n",
    "    return  a * np.exp(-2*(x-b)*(x-b)/c/c) + d\n",
    "\n",
    "def createdata(N, NOISE, x, y, tx, ty, fit_param_x, fit_param_y):\n",
    "    start = time.time()\n",
    "    \n",
    "    # ガウシアンビームのパラメータ\n",
    "    i0 = 1.0\n",
    "    x0 = 0.0\n",
    "    y0 = 0.0\n",
    "    w0 = 5.0\n",
    "    h0 = 0.0\n",
    "    param_ini_x = np.array([i0, x0, w0, h0])  # フィッティングの初期値 (ここではデータから推定は行わない)\n",
    "    param_ini_y = np.array([i0, y0, w0, h0])\n",
    "    \n",
    "    k = 1\n",
    "\n",
    "    for n in range(N):        # 繰り返し精度を調べるために各ノイズ割合でN回実行\n",
    "        \n",
    "        center = data_size/2\n",
    "        # x配列とy配列\n",
    "        x_array = np.arange(-center, center, 1.0)                         # x配列\n",
    "        y_array = np.arange(-center, center, 1.0)                         # y配列\n",
    "        nx = len(x_array)\n",
    "        ny = len(y_array)\n",
    "        intensity = np.zeros((nx, ny))                            # ノイズを含まない2次元強度分布\n",
    "        x0 = x0 + center\n",
    "        y0 = y0 + center\n",
    "        for i in range(nx):\n",
    "            for j in range(ny):\n",
    "                intensity[i][j] = i0 * np.exp(-2*((i-x0)*(i-x0) + (j-y0)*(j-y0))/w0/w0)\n",
    "        x0 = x0 - center\n",
    "        y0 = y0 - center\n",
    "        # 最大強度を取る位置における強度プロファイル\n",
    "        profile_x = np.zeros(nx)\n",
    "        profile_y = np.zeros(ny)\n",
    "    \n",
    "\n",
    "        # 2次元の強度分布にノイズを付与\n",
    "        noise = (np.random.rand(nx*ny)-0.5)*i0*NOISE*0.01   #プラスマイナスNOISE%のノイズ(一様分布), (np.random.rand(nx*ny)-0.5)*2の部分が-1から1までの乱数になる\n",
    "        noise = noise.reshape((nx,ny))\n",
    "        intensity_noise = intensity + noise\n",
    "\n",
    "        # 最大値の探索 & その位置の強度プロファイルの取得\n",
    "        idx = np.unravel_index(np.argmax(intensity_noise), intensity_noise.shape)\n",
    "        profile_x= intensity_noise[:,idx[1]]\n",
    "        profile_y = intensity_noise[idx[0],:]\n",
    "        x[n] = profile_x\n",
    "        y[n] = profile_y\n",
    "        tx[n] = (i0, x0 + 1.0, w0)\n",
    "\n",
    "        # x方向のプロファイルの非線形フィッティング\n",
    "        param, cov  = curve_fit(gaussian_beam, x_array, profile_x, p0=param_ini_x, maxfev=2000)\n",
    "        fit_param_x[n][0] = param[0]\n",
    "        fit_param_x[n][1] = param[1]\n",
    "        fit_param_x[n][2] = param[2]\n",
    "        fit_param_x[n][3] = param[3]\n",
    "        # y方向のプロファイルの非線形フィッティング\n",
    "        param, cov  = curve_fit(gaussian_beam, y_array, profile_y, p0=param_ini_y, maxfev=2000)\n",
    "        fit_param_y[n][0] = param[0]\n",
    "        fit_param_y[n][1] = param[1]\n",
    "        fit_param_y[n][2] = param[2]\n",
    "        fit_param_y[n][3] = param[3]\n",
    "        #中心位置の変化\n",
    "        i = N*k / 20\n",
    "        if n > i:\n",
    "            x0 = x0 \n",
    "            y0 = y0 \n",
    "            k = k+1\n",
    "            print(x0_N[n])\n",
    "        elif n == N-1:\n",
    "            elapsed_time = time.time() - start\n",
    "            print (\"経過時間:{0}\".format(elapsed_time) + \"[sec]\")\n",
    "            fit_ave = np.average(abs(fit_param_x.T[1]-tx.T[1]))\n",
    "            fit_std = np.std(abs(fit_param_x.T[1]-tx.T[1]))\n",
    "            fitting = \"平均絶対誤差: %f ± %f\" % (fit_ave, fit_std)\n",
    "            print(fitting)\n",
    "        else:\n",
    "            x0 = x0\n",
    "    return x, y, tx, ty"
   ]
  },
  {
   "cell_type": "code",
   "execution_count": 3,
   "metadata": {},
   "outputs": [],
   "source": [
    "train_num = 10000 #訓練データの数\n",
    "test_num = 1000 #テストデータの数\n",
    "data_size = 100 #配列の大きさ\n",
    "NOISE = 30\n",
    "x_test = np.zeros((test_num,data_size))\n",
    "y_test = np.zeros((test_num,data_size))\n",
    "t_test = np.zeros((test_num, 3))\n",
    "ty = np.zeros((test_num, 3))\n",
    "fit_param_x = np.zeros((test_num, 4))\n",
    "fit_param_y = np.zeros((test_num, 4))\n",
    "\n",
    "#createdata(test_num, NOISE, x_test, y_test, t_test, ty, fit_param_x, fit_param_y)"
   ]
  },
  {
   "cell_type": "code",
   "execution_count": 1,
   "metadata": {},
   "outputs": [
    {
     "data": {
      "text/plain": [
       "CompletedProcess(args=['jupyter', 'nbconvert', '--to', 'script', '*.ipynb'], returncode=0)"
      ]
     },
     "execution_count": 1,
     "metadata": {},
     "output_type": "execute_result"
    }
   ],
   "source": [
    "import subprocess\n",
    "subprocess.run(['jupyter', 'nbconvert', '--to', 'script', '*.ipynb'])"
   ]
  },
  {
   "cell_type": "code",
   "execution_count": 4,
   "metadata": {},
   "outputs": [
    {
     "name": "stdout",
     "output_type": "stream",
     "text": [
      "経過時間:19.90097689628601[sec]\n",
      "平均絶対誤差: 0.111801 ± 0.084451\n",
      "[[1.  0.  5. ]\n",
      " [1.  0.  5. ]\n",
      " [1.  0.  5. ]\n",
      " ...\n",
      " [1.  1.9 5. ]\n",
      " [1.  1.9 5. ]\n",
      " [1.  1.9 5. ]]\n"
     ]
    }
   ],
   "source": [
    "from createdatas import createdata\n",
    "createdata(test_num, NOISE, data_size, x_test, y_test, t_test, ty, fit_param_x, fit_param_y)\n",
    "print(t_test)"
   ]
  },
  {
   "cell_type": "code",
   "execution_count": 8,
   "metadata": {},
   "outputs": [
    {
     "ename": "NameError",
     "evalue": "name 'x0_N' is not defined",
     "output_type": "error",
     "traceback": [
      "\u001b[0;31m---------------------------------------------------------------------------\u001b[0m",
      "\u001b[0;31mNameError\u001b[0m                                 Traceback (most recent call last)",
      "\u001b[0;32m<ipython-input-8-2d61134a2f1b>\u001b[0m in \u001b[0;36m<module>\u001b[0;34m\u001b[0m\n\u001b[1;32m     11\u001b[0m \u001b[0mty\u001b[0m \u001b[0;34m=\u001b[0m \u001b[0mnp\u001b[0m\u001b[0;34m.\u001b[0m\u001b[0mzeros\u001b[0m\u001b[0;34m(\u001b[0m\u001b[0;34m(\u001b[0m\u001b[0mtest_num\u001b[0m\u001b[0;34m,\u001b[0m \u001b[0;36m3\u001b[0m\u001b[0;34m)\u001b[0m\u001b[0;34m)\u001b[0m\u001b[0;34m\u001b[0m\u001b[0;34m\u001b[0m\u001b[0m\n\u001b[1;32m     12\u001b[0m \u001b[0;34m\u001b[0m\u001b[0m\n\u001b[0;32m---> 13\u001b[0;31m \u001b[0mcreatedata\u001b[0m\u001b[0;34m(\u001b[0m\u001b[0mtest_num\u001b[0m\u001b[0;34m,\u001b[0m \u001b[0mNOISE\u001b[0m\u001b[0;34m,\u001b[0m \u001b[0mx\u001b[0m\u001b[0;34m,\u001b[0m \u001b[0my\u001b[0m\u001b[0;34m,\u001b[0m \u001b[0mt\u001b[0m\u001b[0;34m,\u001b[0m \u001b[0mty\u001b[0m\u001b[0;34m,\u001b[0m \u001b[0mfit_param_x\u001b[0m\u001b[0;34m,\u001b[0m \u001b[0mfit_param_y\u001b[0m\u001b[0;34m)\u001b[0m\u001b[0;34m\u001b[0m\u001b[0;34m\u001b[0m\u001b[0m\n\u001b[0m",
      "\u001b[0;32m<ipython-input-7-ceffb25be19d>\u001b[0m in \u001b[0;36mcreatedata\u001b[0;34m(N, NOISE, x, y, tx, ty, fit_param_x, fit_param_y)\u001b[0m\n\u001b[1;32m     71\u001b[0m             \u001b[0my0\u001b[0m \u001b[0;34m=\u001b[0m \u001b[0my0\u001b[0m\u001b[0;34m\u001b[0m\u001b[0;34m\u001b[0m\u001b[0m\n\u001b[1;32m     72\u001b[0m             \u001b[0mk\u001b[0m \u001b[0;34m=\u001b[0m \u001b[0mk\u001b[0m\u001b[0;34m+\u001b[0m\u001b[0;36m1\u001b[0m\u001b[0;34m\u001b[0m\u001b[0;34m\u001b[0m\u001b[0m\n\u001b[0;32m---> 73\u001b[0;31m             \u001b[0mprint\u001b[0m\u001b[0;34m(\u001b[0m\u001b[0mx0_N\u001b[0m\u001b[0;34m[\u001b[0m\u001b[0mn\u001b[0m\u001b[0;34m]\u001b[0m\u001b[0;34m)\u001b[0m\u001b[0;34m\u001b[0m\u001b[0;34m\u001b[0m\u001b[0m\n\u001b[0m\u001b[1;32m     74\u001b[0m         \u001b[0;32melif\u001b[0m \u001b[0mn\u001b[0m \u001b[0;34m==\u001b[0m \u001b[0mN\u001b[0m\u001b[0;34m-\u001b[0m\u001b[0;36m1\u001b[0m\u001b[0;34m:\u001b[0m\u001b[0;34m\u001b[0m\u001b[0;34m\u001b[0m\u001b[0m\n\u001b[1;32m     75\u001b[0m             \u001b[0melapsed_time\u001b[0m \u001b[0;34m=\u001b[0m \u001b[0mtime\u001b[0m\u001b[0;34m.\u001b[0m\u001b[0mtime\u001b[0m\u001b[0;34m(\u001b[0m\u001b[0;34m)\u001b[0m \u001b[0;34m-\u001b[0m \u001b[0mstart\u001b[0m\u001b[0;34m\u001b[0m\u001b[0;34m\u001b[0m\u001b[0m\n",
      "\u001b[0;31mNameError\u001b[0m: name 'x0_N' is not defined"
     ]
    }
   ],
   "source": [
    "#10,000データの確認\n",
    "test_num = 100 #データ数\n",
    "data_size = 100 #配列の大きさ\n",
    "fit_param_x = np.zeros((test_num, 4))\n",
    "fit_param_y = np.zeros((test_num, 4))\n",
    "NOISE = 30\n",
    "\n",
    "x = np.zeros((test_num, data_size))\n",
    "y = np.zeros((test_num, data_size))\n",
    "t = np.zeros((test_num, 3))\n",
    "ty = np.zeros((test_num, 3))\n",
    "\n",
    "createdata(test_num, NOISE, x, y, t, ty, fit_param_x, fit_param_y)"
   ]
  },
  {
   "cell_type": "code",
   "execution_count": null,
   "metadata": {},
   "outputs": [],
   "source": []
  }
 ],
 "metadata": {
  "kernelspec": {
   "display_name": "Python 3",
   "language": "python",
   "name": "python3"
  },
  "language_info": {
   "codemirror_mode": {
    "name": "ipython",
    "version": 3
   },
   "file_extension": ".py",
   "mimetype": "text/x-python",
   "name": "python",
   "nbconvert_exporter": "python",
   "pygments_lexer": "ipython3",
   "version": "3.8.8"
  }
 },
 "nbformat": 4,
 "nbformat_minor": 4
}
