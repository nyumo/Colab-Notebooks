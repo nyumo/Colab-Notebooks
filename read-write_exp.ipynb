{
 "cells": [
  {
   "cell_type": "code",
   "execution_count": 1,
   "metadata": {},
   "outputs": [
    {
     "name": "stdout",
     "output_type": "stream",
     "text": [
      "現在時刻： 2021-01-22 13:25:04.429860\n"
     ]
    }
   ],
   "source": [
    "import datetime\n",
    "import csv\n",
    "import pickle\n",
    "import numpy as np\n",
    "import os #システム操作系\n",
    "from pathlib import Path #ファイル操作系\n",
    "from scipy.stats import norm\n",
    "\n",
    "dt_now = datetime.datetime.now()\n",
    "print('現在時刻：', dt_now)"
   ]
  },
  {
   "cell_type": "code",
   "execution_count": 2,
   "metadata": {},
   "outputs": [
    {
     "name": "stdout",
     "output_type": "stream",
     "text": [
      "このファイルの存在するフォルダ： /Users/nagaiyuma/Documents/myprogram\n",
      "保存フォルダ： /Users/nagaiyuma/Documents/myprogram/exp\n"
     ]
    }
   ],
   "source": [
    "# このファイルの存在するフォルダの絶対パスを取得\n",
    "dir_name = str(Path().resolve())\n",
    "print('このファイルの存在するフォルダ：', dir_name)\n",
    "\n",
    "# 保存先フォルダのパス作成\n",
    "save_folder = os.path.join(dir_name, 'exp')\n",
    "print('保存フォルダ：', save_folder)\n",
    "\n",
    "# 保存先フォルダの作成(既に存在する場合は無視される)\n",
    "os.makedirs(save_folder, exist_ok=True)"
   ]
  },
  {
   "cell_type": "code",
   "execution_count": 15,
   "metadata": {},
   "outputs": [
    {
     "name": "stdout",
     "output_type": "stream",
     "text": [
      "/Users/nagaiyuma/Downloads/5/0.csv\n",
      "/Users/nagaiyuma/Downloads/5/1.csv\n",
      "/Users/nagaiyuma/Downloads/5/2.csv\n",
      "/Users/nagaiyuma/Downloads/5/3.csv\n",
      "/Users/nagaiyuma/Downloads/5/4.csv\n",
      "/Users/nagaiyuma/Downloads/5/5.csv\n",
      "/Users/nagaiyuma/Downloads/5/6.csv\n",
      "/Users/nagaiyuma/Downloads/5/7.csv\n",
      "/Users/nagaiyuma/Downloads/5/8.csv\n",
      "/Users/nagaiyuma/Downloads/5/9.csv\n",
      "/Users/nagaiyuma/Downloads/5/10.csv\n",
      "/Users/nagaiyuma/Downloads/5/11.csv\n",
      "/Users/nagaiyuma/Downloads/5/12.csv\n",
      "/Users/nagaiyuma/Downloads/5/13.csv\n",
      "/Users/nagaiyuma/Downloads/5/14.csv\n",
      "/Users/nagaiyuma/Downloads/5/15.csv\n",
      "/Users/nagaiyuma/Downloads/5/16.csv\n",
      "/Users/nagaiyuma/Downloads/5/17.csv\n",
      "/Users/nagaiyuma/Downloads/5/18.csv\n",
      "/Users/nagaiyuma/Downloads/5/19.csv\n",
      "/Users/nagaiyuma/Downloads/5/20.csv\n",
      "/Users/nagaiyuma/Downloads/5/21.csv\n",
      "/Users/nagaiyuma/Downloads/5/22.csv\n",
      "/Users/nagaiyuma/Downloads/5/23.csv\n",
      "/Users/nagaiyuma/Downloads/5/24.csv\n",
      "/Users/nagaiyuma/Downloads/5/25.csv\n",
      "/Users/nagaiyuma/Downloads/5/26.csv\n",
      "/Users/nagaiyuma/Downloads/5/27.csv\n",
      "/Users/nagaiyuma/Downloads/5/28.csv\n",
      "/Users/nagaiyuma/Downloads/5/29.csv\n",
      "/Users/nagaiyuma/Downloads/5/30.csv\n",
      "/Users/nagaiyuma/Downloads/5/31.csv\n",
      "/Users/nagaiyuma/Downloads/5/32.csv\n",
      "/Users/nagaiyuma/Downloads/5/33.csv\n",
      "/Users/nagaiyuma/Downloads/5/34.csv\n",
      "/Users/nagaiyuma/Downloads/5/35.csv\n",
      "/Users/nagaiyuma/Downloads/5/36.csv\n",
      "/Users/nagaiyuma/Downloads/5/37.csv\n",
      "/Users/nagaiyuma/Downloads/5/38.csv\n",
      "/Users/nagaiyuma/Downloads/5/39.csv\n",
      "/Users/nagaiyuma/Downloads/5/40.csv\n",
      "/Users/nagaiyuma/Downloads/5/41.csv\n",
      "/Users/nagaiyuma/Downloads/5/42.csv\n",
      "/Users/nagaiyuma/Downloads/5/43.csv\n",
      "/Users/nagaiyuma/Downloads/5/44.csv\n",
      "/Users/nagaiyuma/Downloads/5/45.csv\n",
      "/Users/nagaiyuma/Downloads/5/46.csv\n",
      "/Users/nagaiyuma/Downloads/5/47.csv\n",
      "/Users/nagaiyuma/Downloads/5/48.csv\n",
      "/Users/nagaiyuma/Downloads/5/49.csv\n",
      "保存ファイル名： exp_z=5.pkl\n"
     ]
    }
   ],
   "source": [
    "#実験データ読み込み\n",
    "data_num    = 50\n",
    "data_size_x = 1360\n",
    "data_size_y = 1024\n",
    "exp = np.zeros((data_num,data_size_x,data_size_y))\n",
    "z=5\n",
    "experiments = np.zeros((data_num, data_size_x, data_size_y))\n",
    "for i in range(data_num):\n",
    "    #data_path = f'/Users/nagaiyuma/Dropbox (optim)/personal_temp/03_B/nagai/exp_data/0.csv'\n",
    "    data_path = f'/Users/nagaiyuma/Downloads/{z}/{i}.csv'\n",
    "    print(data_path)\n",
    "    with open(data_path) as f:\n",
    "        reader = csv.reader(f, quoting=csv.QUOTE_NONNUMERIC)\n",
    "        exp[i] = np.array([row for row in reader])\n",
    "        \n",
    "#データ書き込み\n",
    "save_name = f'exp_z={z}.pkl'\n",
    "with open(save_name, mode='wb') as f:\n",
    "    pickle.dump(exp, f)\n",
    "print('保存ファイル名：', save_name)"
   ]
  },
  {
   "cell_type": "code",
   "execution_count": null,
   "metadata": {},
   "outputs": [],
   "source": []
  }
 ],
 "metadata": {
  "kernelspec": {
   "display_name": "Python 3",
   "language": "python",
   "name": "python3"
  },
  "language_info": {
   "codemirror_mode": {
    "name": "ipython",
    "version": 3
   },
   "file_extension": ".py",
   "mimetype": "text/x-python",
   "name": "python",
   "nbconvert_exporter": "python",
   "pygments_lexer": "ipython3",
   "version": "3.7.3"
  }
 },
 "nbformat": 4,
 "nbformat_minor": 4
}
