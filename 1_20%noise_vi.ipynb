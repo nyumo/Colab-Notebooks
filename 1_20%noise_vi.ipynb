{
 "cells": [
  {
   "cell_type": "code",
   "execution_count": 1,
   "metadata": {},
   "outputs": [
    {
     "name": "stderr",
     "output_type": "stream",
     "text": [
      "Using TensorFlow backend.\n"
     ]
    },
    {
     "name": "stdout",
     "output_type": "stream",
     "text": [
      "80\n",
      "2020-10-27\n"
     ]
    }
   ],
   "source": [
    "import numpy as np\n",
    "import keras\n",
    "from keras.models import load_model\n",
    "import csv\n",
    "from createdatas import gaussian_beam, createdata\n",
    "import datetime\n",
    "import matplotlib.pyplot as plt\n",
    "from scipy.optimize import curve_fit    # フィッティング用\n",
    "date = str(datetime.date.today())\n",
    "NOISE = 80 #学習noise%\n",
    "MAX = 10 #上限%\n",
    "print(NOISE)\n",
    "print(date)"
   ]
  },
  {
   "cell_type": "code",
   "execution_count": 5,
   "metadata": {},
   "outputs": [
    {
     "name": "stdout",
     "output_type": "stream",
     "text": [
      "(20, 101, 100)\n",
      "(20, 101)\n"
     ]
    }
   ],
   "source": [
    "#　テストデータ取得\n",
    "file_num = 20 #テストファイル数20\n",
    "test_num = 101 #データ数(0%~100%)\n",
    "data_size = 100 #配列の大きさ\n",
    "\n",
    "t_101 = np.zeros((file_num ,test_num))\n",
    "x_101 = np.zeros((file_num, test_num, data_size))\n",
    "n = range(0, file_num)\n",
    "test_nums = range(0, test_num)\n",
    "\n",
    "def _testdata(x, t):\n",
    "    for k in n:\n",
    "        \n",
    "        for key in test_nums:\n",
    "            file_path = \"/Users/nagaiyuma/Desktop/10%/\" + str(n[k]) + \"/x_\" + str(test_nums[key]) + \".txt\"\n",
    "            with open(file_path) as f:\n",
    "                file_str = f.read().splitlines()\n",
    "                f.close\n",
    "\n",
    "            for i in range(0, data_size):\n",
    "                x[k][key][i] = float(file_str[i])\n",
    "\n",
    "        for key in test_nums:\n",
    "            file_path = \"/Users/nagaiyuma/Desktop/10%/\" + str(n[k]) + \"/t_\" + str(test_nums[key]) + \".txt\"\n",
    "            with open(file_path) as f:\n",
    "                file_str = f.read()\n",
    "                f.close\n",
    "\n",
    "            t[k][key] = float(file_str)\n",
    "\n",
    "    return x, t\n",
    "\n",
    "\n",
    "_testdata(x_101, t_101)\n",
    "\n",
    "print(x_101.shape)\n",
    "print(t_101.shape)"
   ]
  },
  {
   "cell_type": "code",
   "execution_count": 6,
   "metadata": {},
   "outputs": [
    {
     "data": {
      "image/png": "[encoded data removed]",
      "text/plain": [
       "<Figure size 432x288 with 2 Axes>"
      ]
     },
     "metadata": {
      "needs_background": "light"
     },
     "output_type": "display_data"
    }
   ],
   "source": [
    "#表示\n",
    "x_array = np.arange(-50, 50, 1.0)   \n",
    "plt.subplots_adjust(wspace=0.4, hspace=0.6)\n",
    "plt.subplot(1,2,1)\n",
    "plt.plot(x_array, x_101[0][0],  color=\"black\", label = 'x0 = 0.0')\n",
    "plt.xlabel('x')          # 軸ラベル\n",
    "plt.ylabel('Intensity_py')\n",
    "plt.ylim(-0.5, 2.0)      # y軸の表示範囲\n",
    "plt.subplot(1,2,2)\n",
    "plt.plot(x_array, x_101[0][100],  color=\"black\", label = 'x0 = 0.0')\n",
    "plt.xlabel('x')          # 軸ラベル\n",
    "plt.ylabel('Intensity_vi')\n",
    "plt.ylim(-0.5, 2.0)\n",
    "plt.show()\n",
    "plt.close()"
   ]
  },
  {
   "cell_type": "code",
   "execution_count": 7,
   "metadata": {},
   "outputs": [
    {
     "name": "stdout",
     "output_type": "stream",
     "text": [
      "WARNING:tensorflow:From /Users/nagaiyuma/anaconda3/lib/python3.7/site-packages/keras/backend/tensorflow_backend.py:4070: The name tf.nn.max_pool is deprecated. Please use tf.nn.max_pool2d instead.\n",
      "\n",
      "WARNING:tensorflow:From /Users/nagaiyuma/anaconda3/lib/python3.7/site-packages/keras/backend/tensorflow_backend.py:422: The name tf.global_variables is deprecated. Please use tf.compat.v1.global_variables instead.\n",
      "\n"
     ]
    }
   ],
   "source": [
    "#学習パラメータの取得\n",
    "pred_x = np.zeros((file_num ,test_num))\n",
    "save_model_path = \"/Users/nagaiyuma/Desktop/parameters/noise\"+str(NOISE)+\"-cnn1.h5\"\n",
    "model = load_model(save_model_path)"
   ]
  },
  {
   "cell_type": "code",
   "execution_count": 8,
   "metadata": {},
   "outputs": [
    {
     "name": "stdout",
     "output_type": "stream",
     "text": [
      "(20, 101)\n"
     ]
    }
   ],
   "source": [
    "ave_101 = np.zeros(test_num)\n",
    "std_101 = np.zeros(test_num)\n",
    "error = np.zeros((file_num, test_num))\n",
    "abs_error = np.zeros((file_num, test_num))\n",
    "\n",
    "for k in n:\n",
    "    xtest = x_101[k].reshape(-1, 100, 1)\n",
    "    pred_x[k] = model.predict(xtest).flatten()\n",
    "    error[k] = pred_x[k] - t_101[k]\n",
    "    abs_error[k] = abs(pred_x[k] - t_101[k])\n",
    "    \n",
    "print(pred_x.shape)\n",
    "ave_101 = np.average(error, axis=0)\n",
    "std_101 = np.std(error, axis=0)"
   ]
  },
  {
   "cell_type": "code",
   "execution_count": 9,
   "metadata": {},
   "outputs": [
    {
     "data": {
      "image/png": "[encoded data removed]",
      "text/plain": [
       "<Figure size 432x288 with 1 Axes>"
      ]
     },
     "metadata": {
      "needs_background": "light"
     },
     "output_type": "display_data"
    },
    {
     "name": "stdout",
     "output_type": "stream",
     "text": [
      "0.0%:-0.06034153699874878±0.0\n",
      "1.0%:-0.0584841787815094±0.005720372464685688\n",
      "2.0%:-0.05805434286594391±0.01188437867689708\n",
      "3.0%:-0.060863366723060607±0.019305046452213356\n",
      "4.0%:-0.061732086539268496±0.01919626666465463\n",
      "5.0%:-0.05078352093696594±0.020855519286195542\n",
      "6.0%:-0.0559151828289032±0.03457562085113758\n",
      "7.0%:-0.028924062848091125±0.023845967927950837\n",
      "8.0%:-0.022301545739173888±0.041581688350577975\n",
      "9.0%:-0.03593024313449859±0.03551486765603096\n",
      "10.0%:-0.027411481738090514±0.0530025991629494\n"
     ]
    }
   ],
   "source": [
    "#結果の表示\n",
    "x = np.arange(0, 10.1,0.1)\n",
    "plt.plot(x, ave_101,  color=\"black\")\n",
    "plt.xlabel('NOISE(%)')          # 軸ラベル\n",
    "plt.ylabel('Error')\n",
    "plt.ylim(-0.5, 0.5)\n",
    "plt.show()\n",
    "plt.close()\n",
    "\n",
    "for i in range(0,test_num,10):\n",
    "    print_ave = str(x[i]) + \"%:\" + str(ave_101[i])+ \"±\" + str(std_101[i])\n",
    "    print(print_ave)"
   ]
  },
  {
   "cell_type": "code",
   "execution_count": 10,
   "metadata": {},
   "outputs": [],
   "source": [
    "#結果の保存\n",
    "save_predict = \"/Users/nagaiyuma/Desktop/maindata/\"+date+\"noise%d_%dvi.csv\" %(NOISE, MAX)\n",
    "save_data = np.zeros((3, test_num))\n",
    "save_data[0] = x\n",
    "save_data[1] = ave_101\n",
    "save_data[2] = std_101\n",
    "save_data = save_data.T\n",
    "\n",
    "with open(save_predict,'w') as f:\n",
    "    writer = csv.writer(f, lineterminator='\\n')\n",
    "    writer.writerows(save_data)"
   ]
  },
  {
   "cell_type": "code",
   "execution_count": 11,
   "metadata": {},
   "outputs": [
    {
     "data": {
      "image/png": "[encoded data removed]",
      "text/plain": [
       "<Figure size 432x288 with 1 Axes>"
      ]
     },
     "metadata": {
      "needs_background": "light"
     },
     "output_type": "display_data"
    },
    {
     "name": "stdout",
     "output_type": "stream",
     "text": [
      "0.0%:-4.4171386496305376e-17±1.232595164407831e-32\n",
      "1.0%:0.0006981476012021311±0.004600985976490515\n",
      "2.0%:0.0019746058784526695±0.008800230517500474\n",
      "3.0%:-0.00041892834737990403±0.014606179287369965\n",
      "4.0%:-0.005072657443146022±0.017490391910446594\n",
      "5.0%:0.0006333775757125453±0.024910794134494457\n",
      "6.0%:-0.012149335694412653±0.03543080533646389\n",
      "7.0%:0.01367237689886612±0.03199331627574566\n",
      "8.0%:0.01259979456774048±0.0382838227047113\n",
      "9.0%:-0.0007473352081443531±0.040112594163339725\n",
      "10.0%:-0.005675943649089586±0.04369479922391404\n"
     ]
    }
   ],
   "source": [
    "# ガウシアンビームのパラメータ\n",
    "i0 = 1.0\n",
    "x0 = 0.0\n",
    "y0 = 0.0\n",
    "w0 = 5.0\n",
    "h0 = 0.0\n",
    "center = data_size/2\n",
    "param_ini_x = np.array([i0, x0, w0, h0])  # フィッティングの初期値 (ここではデータから推定は行わない)\n",
    "x_array = np.arange(-center, center, 1.0)\n",
    "fit_param_x = np.zeros((test_num, 4))\n",
    "error = np.zeros((file_num, test_num))\n",
    "\n",
    "t_fit = t_101 - 1 #x = 0の補正\n",
    "for i in range(file_num):\n",
    "    for k in range(test_num):\n",
    "        profile_x = x_101[i][k]\n",
    "        param, cov  = curve_fit(gaussian_beam, x_array, profile_x, p0=param_ini_x, maxfev=2000)\n",
    "        fit_param_x[n][0] = param[0]\n",
    "        fit_param_x[n][1] = param[1]\n",
    "        fit_param_x[n][2] = param[2]\n",
    "        fit_param_x[n][3] = param[3]\n",
    "        \n",
    "        error[i][k] = param[1]-t_fit[i][k]\n",
    "    \n",
    "ave_fit = np.average(error, axis=0)\n",
    "std_fit= np.std(error, axis=0)\n",
    "\n",
    "#結果の表示\n",
    "plt.plot(x, ave_fit,  color=\"black\")\n",
    "plt.xlabel('NOISE(%)')          # 軸ラベル\n",
    "plt.ylabel('Error')\n",
    "plt.ylim(-0.5, 0.5)\n",
    "plt.show()\n",
    "plt.close()\n",
    "\n",
    "for i in range(0,test_num,10):\n",
    "    print_ave = str(x[i]) + \"%:\" + str(ave_fit[i])+ \"±\" + str(std_fit[i])\n",
    "    print(print_ave)"
   ]
  },
  {
   "cell_type": "code",
   "execution_count": 12,
   "metadata": {},
   "outputs": [],
   "source": [
    "#結果の保存\n",
    "save_predict = \"/Users/nagaiyuma/Desktop/maindata/\"+date+\"-%d_fitvi.csv\" %(MAX)\n",
    "x_line = n\n",
    "save_data = np.zeros((3, test_num))\n",
    "save_data[0] = x\n",
    "save_data[1] = ave_fit\n",
    "save_data[2] = std_fit\n",
    "save_data = save_data.T\n",
    "\n",
    "with open(save_predict,'w') as f:\n",
    "    writer = csv.writer(f, lineterminator='\\n')\n",
    "    writer.writerows(save_data)"
   ]
  },
  {
   "cell_type": "code",
   "execution_count": 13,
   "metadata": {},
   "outputs": [],
   "source": [
    "#学習パラメータの取得\n",
    "pred_x = np.zeros((file_num ,test_num))\n",
    "save_model_path = \"/Users/nagaiyuma/Desktop/parameters/noise\"+str(NOISE)+\"-cnn3.h5\"\n",
    "model = load_model(save_model_path)"
   ]
  },
  {
   "cell_type": "code",
   "execution_count": 14,
   "metadata": {},
   "outputs": [],
   "source": [
    "ave_101_3 = np.zeros(test_num)\n",
    "std_101_3 = np.zeros(test_num)\n",
    "error = np.zeros((file_num, test_num))\n",
    "abs_error = np.zeros((file_num, test_num))\n",
    "\n",
    "for k in n:\n",
    "    xtest = x_101[k].reshape(-1, 100, 1)\n",
    "    pred_x[k] = model.predict(xtest).T[1].flatten()\n",
    "    error[k] = pred_x[k] - t_101[k]\n",
    "    abs_error[k] = abs(pred_x[k] - t_101[k])\n",
    "\n",
    "ave_101_3 = np.average(error, axis=0)\n",
    "std_101_3 = np.std(error, axis=0)"
   ]
  },
  {
   "cell_type": "code",
   "execution_count": 15,
   "metadata": {},
   "outputs": [
    {
     "data": {
      "image/png": "[encoded data removed]",
      "text/plain": [
       "<Figure size 432x288 with 1 Axes>"
      ]
     },
     "metadata": {
      "needs_background": "light"
     },
     "output_type": "display_data"
    },
    {
     "name": "stdout",
     "output_type": "stream",
     "text": [
      "0.0%:-0.07143962383270264±0.0\n",
      "1.0%:-0.07169510126113891±0.0027020180419208236\n",
      "2.0%:-0.07091214656829833±0.004616616530699088\n",
      "3.0%:-0.07542237639427185±0.009733388855251537\n",
      "4.0%:-0.07686548233032227±0.008663161204696693\n",
      "5.0%:-0.07710132002830505±0.012629167159632578\n",
      "6.0%:-0.08164955377578735±0.017738263515736864\n",
      "7.0%:-0.06942346096038818±0.018314879690590737\n",
      "8.0%:-0.07363920509815217±0.021075917603110773\n",
      "9.0%:-0.076816987991333±0.020291829368478096\n",
      "10.0%:-0.08521420061588288±0.02640378770792124\n"
     ]
    }
   ],
   "source": [
    "#結果の表示\n",
    "plt.plot(test_nums, ave_101,  color=\"black\")\n",
    "plt.xlabel('NOISE(%)')          # 軸ラベル\n",
    "plt.ylabel('Error')\n",
    "plt.ylim(-2.0, 2.0)\n",
    "plt.show()\n",
    "plt.close()\n",
    "\n",
    "for i in range(0,test_num,10):\n",
    "    print_ave = str(x[i]) + \"%:\" + str(ave_101_3[i])+ \"±\" + str(std_101_3[i])\n",
    "    print(print_ave)"
   ]
  },
  {
   "cell_type": "code",
   "execution_count": 16,
   "metadata": {},
   "outputs": [],
   "source": [
    "#結果の保存\n",
    "save_predict = \"/Users/nagaiyuma/Desktop/maindata/\"+date+\"noise%d-%d_3vi.csv\" %(NOISE, MAX)\n",
    "save_data = np.zeros((3, test_num))\n",
    "save_data[0] = x\n",
    "save_data[1] = ave_101_3\n",
    "save_data[2] = std_101_3\n",
    "save_data = save_data.T\n",
    "\n",
    "with open(save_predict,'w') as f:\n",
    "    writer = csv.writer(f, lineterminator='\\n')\n",
    "    writer.writerows(save_data)"
   ]
  },
  {
   "cell_type": "code",
   "execution_count": null,
   "metadata": {},
   "outputs": [],
   "source": []
  }
 ],
 "metadata": {
  "kernelspec": {
   "display_name": "Python 3",
   "language": "python",
   "name": "python3"
  },
  "language_info": {
   "codemirror_mode": {
    "name": "ipython",
    "version": 3
   },
   "file_extension": ".py",
   "mimetype": "text/x-python",
   "name": "python",
   "nbconvert_exporter": "python",
   "pygments_lexer": "ipython3",
   "version": "3.7.3"
  }
 },
 "nbformat": 4,
 "nbformat_minor": 4
}
