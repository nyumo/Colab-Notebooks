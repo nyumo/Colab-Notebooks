{
 "cells": [
  {
   "cell_type": "markdown",
   "metadata": {},
   "source": [
    "# ファイルの保存\n",
    "matplotlibでグラフを作って保存する．\n",
    "\n",
    "・\n",
    "\n",
    "┣ file_save.ipynb\n",
    "\n",
    "┃\n",
    "\n",
    "┗ hoge\n",
    "\n",
    "&emsp;┗年-月-日_時-分gauss数字.svg "
   ]
  },
  {
   "cell_type": "code",
   "execution_count": 1,
   "metadata": {},
   "outputs": [],
   "source": [
    "import datetime #日時取得\n",
    "import os #システム操作系\n",
    "from pathlib import Path #ファイル操作系\n",
    "\n",
    "import matplotlib as mpl\n",
    "import matplotlib.pyplot as plt"
   ]
  },
  {
   "cell_type": "markdown",
   "metadata": {},
   "source": [
    "## 保存先のフォルダの作成"
   ]
  },
  {
   "cell_type": "code",
   "execution_count": 2,
   "metadata": {},
   "outputs": [
    {
     "name": "stdout",
     "output_type": "stream",
     "text": [
      "このファイルの存在するフォルダ： D:\\lab_gram\\2D-DLGI_pytorch\\2D-GI\n",
      "保存フォルダ： D:\\lab_gram\\2D-DLGI_pytorch\\2D-GI\\hoge\n"
     ]
    }
   ],
   "source": [
    "# このファイルの存在するフォルダの絶対パスを取得\n",
    "dir_name = str(Path().resolve())\n",
    "print('このファイルの存在するフォルダ：', dir_name)\n",
    "\n",
    "# 保存先フォルダのパス作成\n",
    "save_folder = os.path.join(dir_name, 'hoge')\n",
    "print('保存フォルダ：', save_folder)\n",
    "\n",
    "# 保存先フォルダの作成(既に存在する場合は無視される)\n",
    "os.makedirs(save_folder, exist_ok=True)"
   ]
  },
  {
   "cell_type": "markdown",
   "metadata": {},
   "source": [
    "保存用ダミーデータの作成(正規分布曲線)"
   ]
  },
  {
   "cell_type": "code",
   "execution_count": 3,
   "metadata": {},
   "outputs": [],
   "source": [
    "import numpy as np\n",
    "from scipy.stats import norm\n",
    " \n",
    "# 平均\n",
    "loc = 0\n",
    "# 標準偏差\n",
    "scale = 1\n",
    " \n",
    "# 左端（平均-5*σ）\n",
    "start = loc - scale * 5\n",
    " \n",
    "# 右端（平均+5*σ）\n",
    "end = loc + scale * 5\n",
    " \n",
    "# X軸\n",
    "X = np.arange(start, end, 0.1)\n",
    "# 正規分布pdf生成\n",
    "Y = norm.pdf(X, loc=loc, scale=scale)"
   ]
  },
  {
   "cell_type": "markdown",
   "metadata": {},
   "source": [
    "## 保存用グラフ設定\n",
    "コピペでOK(多分)"
   ]
  },
  {
   "cell_type": "code",
   "execution_count": 4,
   "metadata": {},
   "outputs": [],
   "source": [
    "# グラフの初期設定\n",
    "plt.rcParams[\"figure.figsize\"] = [3.14, 3.14] # 図の縦横のサイズ([横(inch),縦(inch)])\n",
    "plt.rcParams[\"figure.dpi\"] = 200 # dpi(dots per inch)\n",
    "plt.rcParams[\"figure.facecolor\"] = 'white' # 図の背景色\n",
    "plt.rcParams[\"figure.edgecolor\"] = 'black' # 枠線の色\n",
    "plt.rcParams[\"font.family\"] = \"serif\"       # 使用するフォント\n",
    "plt.rcParams[\"font.serif\"] = \"Times New Roman\"\n",
    "plt.rcParams[\"font.size\"] = 14              # 基本となるフォントの大きさ\n",
    "\n",
    "plt.rcParams[\"xtick.direction\"] = \"in\"      # 目盛り線の向き、内側\"in\"か外側\"out\"かその両方\"inout\"か\n",
    "plt.rcParams[\"ytick.direction\"] = \"in\"      # 目盛り線の向き、内側\"in\"か外側\"out\"かその両方\"inout\"か\n",
    "plt.rcParams[\"xtick.bottom\"] = True         # 下部に目盛り線を描くかどうか\n",
    "plt.rcParams[\"ytick.left\"] = True           # 左部に目盛り線を描くかどうか\n",
    "plt.rcParams[\"xtick.major.size\"] = 2.0      # x軸主目盛り線の長さ\n",
    "plt.rcParams[\"ytick.major.size\"] = 2.0      # y軸主目盛り線の長さ\n",
    "plt.rcParams[\"xtick.major.width\"] = 0.3     # x軸主目盛り線の線幅\n",
    "plt.rcParams[\"ytick.major.width\"] = 0.3     # y軸主目盛り線の線幅\n",
    "plt.rcParams[\"xtick.minor.visible\"] = False # x軸副目盛り線を描くかどうか\n",
    "plt.rcParams[\"ytick.minor.visible\"] = False # y軸副目盛り線を描くかどうか\n",
    "plt.rcParams[\"xtick.minor.size\"] = 2.0      # x軸副目盛り線の長さ\n",
    "plt.rcParams[\"ytick.minor.size\"] = 2.0      # y軸副目盛り線の長さ\n",
    "plt.rcParams[\"xtick.minor.width\"] = 0.3     # x軸副目盛り線の線幅\n",
    "plt.rcParams[\"ytick.minor.width\"] = 0.3     # y軸副目盛り線の線幅\n",
    "plt.rcParams[\"xtick.labelsize\"] = 8        # 目盛りのフォントサイズ\n",
    "plt.rcParams[\"ytick.labelsize\"] = 8        # 目盛りのフォントサイズ\n",
    "plt.rcParams[\"xtick.major.pad\"] = 3.0      # x軸から目盛までの距離\n",
    "plt.rcParams[\"ytick.major.pad\"] = 4.0      # y軸から目盛までの距離\n",
    "\n",
    "plt.rcParams[\"axes.labelsize\"] = 10         # 軸ラベルのフォントサイズ\n",
    "plt.rcParams[\"axes.linewidth\"] = 0.4        # グラフ囲う線の太さ\n",
    "plt.rcParams[\"axes.grid\"] = False           # グリッドを表示するかどうか"
   ]
  },
  {
   "cell_type": "markdown",
   "metadata": {},
   "source": [
    "## グラフの作成"
   ]
  },
  {
   "cell_type": "code",
   "execution_count": 5,
   "metadata": {},
   "outputs": [
    {
     "data": {
      "text/plain": [
       "Text(0, 0.5, 'Y')"
      ]
     },
     "execution_count": 5,
     "metadata": {},
     "output_type": "execute_result"
    },
    {
     "data": {
      "image/png": "[encoded data removed]",
      "text/plain": [
       "<Figure size 628x628 with 1 Axes>"
      ]
     },
     "metadata": {},
     "output_type": "display_data"
    }
   ],
   "source": [
    "fig = plt.figure(linewidth=0.1) # 空のグラフ作成\n",
    "ax = fig.add_subplot(111) # グラフエリアの作成\n",
    "ax.plot(X, Y, c='k') # グラフのプロット cはカラー\n",
    "\n",
    "# 軸の範囲設定(なくてもいい)\n",
    "ax.set_xlim(-5, 5)\n",
    "ax.set_ylim(-0.1, 0.5)\n",
    "\n",
    "ax.set_aspect(1./ax.get_data_ratio()) # グラフを正方形にする\n",
    "\n",
    "# 軸ラベル\n",
    "ax.set_xlabel('X')\n",
    "ax.set_ylabel('Y')"
   ]
  },
  {
   "cell_type": "markdown",
   "metadata": {},
   "source": [
    "## グラフの保存"
   ]
  },
  {
   "cell_type": "code",
   "execution_count": 6,
   "metadata": {},
   "outputs": [
    {
     "name": "stdout",
     "output_type": "stream",
     "text": [
      "現在時刻： 2020-10-28 17:47:23.105635\n",
      "保存ファイル名： 2020-10-28_17-47gauss0.svg\n",
      "保存ファイルパス： D:\\lab_gram\\2D-DLGI_pytorch\\2D-GI\\hoge\\2020-10-28_17-47gauss0.svg\n",
      "\n",
      "保存完了！\n"
     ]
    }
   ],
   "source": [
    "# 現在時刻の取得\n",
    "dt_now = datetime.datetime.now()\n",
    "print('現在時刻：', dt_now)\n",
    "\n",
    "# 保存ファイル名の作成\n",
    "aaa = 0\n",
    "save_name = dt_now.strftime(\"%Y-%m-%d_%H-%M\") + f'gauss{aaa}.svg' # 年-月-日_時-分gauss数字.svg\n",
    "# f'~~~{変数名}~~~'とすると，変数名のところに代入される\n",
    "\n",
    "save_file = os.path.join(save_folder, save_name) # 保存先のファイルパス作成\n",
    "print('保存ファイル名：', save_name)\n",
    "print('保存ファイルパス：', save_file)\n",
    "\n",
    "# グラフの保存\n",
    "fig.savefig(save_file, format=\"svg\", bbox_inches=\"tight\")\n",
    "print('\\n保存完了！')"
   ]
  },
  {
   "cell_type": "code",
   "execution_count": null,
   "metadata": {},
   "outputs": [],
   "source": []
  }
 ],
 "metadata": {
  "kernelspec": {
   "display_name": "Python 3",
   "language": "python",
   "name": "python3"
  },
  "language_info": {
   "codemirror_mode": {
    "name": "ipython",
    "version": 3
   },
   "file_extension": ".py",
   "mimetype": "text/x-python",
   "name": "python",
   "nbconvert_exporter": "python",
   "pygments_lexer": "ipython3",
   "version": "3.7.3"
  }
 },
 "nbformat": 4,
 "nbformat_minor": 4
}
