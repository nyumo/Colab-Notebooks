{
 "cells": [
  {
   "cell_type": "code",
   "execution_count": 2,
   "metadata": {},
   "outputs": [
    {
     "name": "stderr",
     "output_type": "stream",
     "text": [
      "Using TensorFlow backend.\n"
     ]
    },
    {
     "name": "stdout",
     "output_type": "stream",
     "text": [
      "2020-10-27\n"
     ]
    }
   ],
   "source": [
    "import numpy as np\n",
    "import keras\n",
    "import numpy as np\n",
    "import matplotlib.pyplot as plt\n",
    "from keras import layers\n",
    "from keras import models\n",
    "from keras.models import Sequential\n",
    "from keras.layers import Dense, Dropout\n",
    "from keras.optimizers import RMSprop\n",
    "from keras.layers import Conv1D, MaxPooling1D\n",
    "from keras.models import load_model\n",
    "import os\n",
    "import tensorflow as tf\n",
    "import time\n",
    "import datetime\n",
    "import csv\n",
    "import sys, os\n",
    "sys.path.append(os.pardir)\n",
    "from createdatas import createdata\n",
    "from scipy.optimize import curve_fit    # フィッティング用\n",
    "os.environ['KMP_DUPLICATE_LIB_OK']='TRUE' #意味はわからん\n",
    "\n",
    "date = str(datetime.date.today())\n",
    "print(date)"
   ]
  },
  {
   "cell_type": "code",
   "execution_count": null,
   "metadata": {},
   "outputs": [],
   "source": [
    "train_num = 10000 #訓練データの数\n",
    "test_num = 1000 #テストデータの数\n",
    "data_size = 100 #配列の大きさ\n",
    "NOISE = 10\n",
    "\n",
    "x_train = np.zeros((train_num,data_size))\n",
    "y_train = np.zeros((train_num,data_size))\n",
    "t_train = np.zeros((train_num, 3))\n",
    "ty_train = np.zeros((train_num, 3))\n",
    "x_test = np.zeros((test_num,data_size))\n",
    "y_test = np.zeros((test_num,data_size))\n",
    "t_test = np.zeros((test_num, 3))\n",
    "ty = np.zeros((test_num, 3))"
   ]
  },
  {
   "cell_type": "code",
   "execution_count": 3,
   "metadata": {},
   "outputs": [
    {
     "ename": "KeyboardInterrupt",
     "evalue": "",
     "output_type": "error",
     "traceback": [
      "\u001b[0;31m---------------------------------------------------------------------------\u001b[0m",
      "\u001b[0;31mKeyboardInterrupt\u001b[0m                         Traceback (most recent call last)",
      "\u001b[0;32m<ipython-input-3-9e31f4da3c04>\u001b[0m in \u001b[0;36m<module>\u001b[0;34m\u001b[0m\n\u001b[1;32m      2\u001b[0m \u001b[0mfit_param_y\u001b[0m \u001b[0;34m=\u001b[0m \u001b[0mnp\u001b[0m\u001b[0;34m.\u001b[0m\u001b[0mzeros\u001b[0m\u001b[0;34m(\u001b[0m\u001b[0;34m(\u001b[0m\u001b[0mtrain_num\u001b[0m\u001b[0;34m,\u001b[0m \u001b[0;36m4\u001b[0m\u001b[0;34m)\u001b[0m\u001b[0;34m)\u001b[0m\u001b[0;34m\u001b[0m\u001b[0;34m\u001b[0m\u001b[0m\n\u001b[1;32m      3\u001b[0m \u001b[0;34m\u001b[0m\u001b[0m\n\u001b[0;32m----> 4\u001b[0;31m \u001b[0mcreatedata\u001b[0m\u001b[0;34m(\u001b[0m\u001b[0mtrain_num\u001b[0m\u001b[0;34m,\u001b[0m \u001b[0mNOISE\u001b[0m\u001b[0;34m,\u001b[0m \u001b[0mdata_size\u001b[0m\u001b[0;34m,\u001b[0m \u001b[0mx_train\u001b[0m\u001b[0;34m,\u001b[0m \u001b[0my_train\u001b[0m\u001b[0;34m,\u001b[0m \u001b[0mt_train\u001b[0m\u001b[0;34m,\u001b[0m \u001b[0mty_train\u001b[0m\u001b[0;34m,\u001b[0m \u001b[0mfit_param_x\u001b[0m\u001b[0;34m,\u001b[0m \u001b[0mfit_param_y\u001b[0m\u001b[0;34m)\u001b[0m\u001b[0;34m\u001b[0m\u001b[0;34m\u001b[0m\u001b[0m\n\u001b[0m",
      "\u001b[0;32m~/Documents/myprogramのコピー/createdatas.py\u001b[0m in \u001b[0;36mcreatedata\u001b[0;34m(N, NOISE, data_size, x, y, tx, ty, fit_param_x, fit_param_y)\u001b[0m\n\u001b[1;32m     48\u001b[0m         \u001b[0;32mfor\u001b[0m \u001b[0mi\u001b[0m \u001b[0;32min\u001b[0m \u001b[0mrange\u001b[0m\u001b[0;34m(\u001b[0m\u001b[0mnx\u001b[0m\u001b[0;34m)\u001b[0m\u001b[0;34m:\u001b[0m\u001b[0;34m\u001b[0m\u001b[0;34m\u001b[0m\u001b[0m\n\u001b[1;32m     49\u001b[0m             \u001b[0;32mfor\u001b[0m \u001b[0mj\u001b[0m \u001b[0;32min\u001b[0m \u001b[0mrange\u001b[0m\u001b[0;34m(\u001b[0m\u001b[0mny\u001b[0m\u001b[0;34m)\u001b[0m\u001b[0;34m:\u001b[0m\u001b[0;34m\u001b[0m\u001b[0;34m\u001b[0m\u001b[0m\n\u001b[0;32m---> 50\u001b[0;31m                 \u001b[0mintensity\u001b[0m\u001b[0;34m[\u001b[0m\u001b[0mi\u001b[0m\u001b[0;34m]\u001b[0m\u001b[0;34m[\u001b[0m\u001b[0mj\u001b[0m\u001b[0;34m]\u001b[0m \u001b[0;34m=\u001b[0m \u001b[0mi0\u001b[0m \u001b[0;34m*\u001b[0m \u001b[0mnp\u001b[0m\u001b[0;34m.\u001b[0m\u001b[0mexp\u001b[0m\u001b[0;34m(\u001b[0m\u001b[0;34m-\u001b[0m\u001b[0;36m2\u001b[0m\u001b[0;34m*\u001b[0m\u001b[0;34m(\u001b[0m\u001b[0;34m(\u001b[0m\u001b[0mi\u001b[0m\u001b[0;34m-\u001b[0m\u001b[0mx0\u001b[0m\u001b[0;34m)\u001b[0m\u001b[0;34m*\u001b[0m\u001b[0;34m(\u001b[0m\u001b[0mi\u001b[0m\u001b[0;34m-\u001b[0m\u001b[0mx0\u001b[0m\u001b[0;34m)\u001b[0m \u001b[0;34m+\u001b[0m \u001b[0;34m(\u001b[0m\u001b[0mj\u001b[0m\u001b[0;34m-\u001b[0m\u001b[0my0\u001b[0m\u001b[0;34m)\u001b[0m\u001b[0;34m*\u001b[0m\u001b[0;34m(\u001b[0m\u001b[0mj\u001b[0m\u001b[0;34m-\u001b[0m\u001b[0my0\u001b[0m\u001b[0;34m)\u001b[0m\u001b[0;34m)\u001b[0m\u001b[0;34m/\u001b[0m\u001b[0mw0\u001b[0m\u001b[0;34m/\u001b[0m\u001b[0mw0\u001b[0m\u001b[0;34m)\u001b[0m\u001b[0;34m\u001b[0m\u001b[0;34m\u001b[0m\u001b[0m\n\u001b[0m\u001b[1;32m     51\u001b[0m         \u001b[0mx0\u001b[0m \u001b[0;34m=\u001b[0m \u001b[0mx0\u001b[0m \u001b[0;34m-\u001b[0m \u001b[0mcenter\u001b[0m\u001b[0;34m\u001b[0m\u001b[0;34m\u001b[0m\u001b[0m\n\u001b[1;32m     52\u001b[0m         \u001b[0my0\u001b[0m \u001b[0;34m=\u001b[0m \u001b[0my0\u001b[0m \u001b[0;34m-\u001b[0m \u001b[0mcenter\u001b[0m\u001b[0;34m\u001b[0m\u001b[0;34m\u001b[0m\u001b[0m\n",
      "\u001b[0;31mKeyboardInterrupt\u001b[0m: "
     ]
    }
   ],
   "source": [
    "fit_param_x = np.zeros((train_num, 4))\n",
    "fit_param_y = np.zeros((train_num, 4))\n",
    "\n",
    "createdata(train_num, NOISE, data_size, x_train, y_train, t_train, ty_train, fit_param_x, fit_param_y)"
   ]
  },
  {
   "cell_type": "code",
   "execution_count": null,
   "metadata": {},
   "outputs": [],
   "source": [
    "fit_param_x = np.zeros((test_num, 4))\n",
    "fit_param_y = np.zeros((test_num, 4))\n",
    "\n",
    "createdata(test_num, NOISE, data_size, x_test, y_test, t_test, ty, fit_param_x, fit_param_y)\n",
    "print(t_test)"
   ]
  },
  {
   "cell_type": "code",
   "execution_count": null,
   "metadata": {},
   "outputs": [],
   "source": [
    "#訓練データ,テストデータの保存\n",
    "save_x_train = \"/Users/nagaiyuma/Desktop/maindata/\"+date+\"x_train.csv\"\n",
    "save_t_train = \"/Users/nagaiyuma/Desktop/maindata/\"+date+\"t_train.csv\"\n",
    "save_x_test = \"/Users/nagaiyuma/Desktop/maindata/\"+date+\"x_test.csv\"\n",
    "save_t_test = \"/Users/nagaiyuma/Desktop/maindata/\"+date+\"t_test.csv\"\n",
    "\n",
    "with open(save_x_train,'w') as f:\n",
    "    writer = csv.writer(f)\n",
    "    writer.writerows(x_train)\n",
    "with open(save_t_train,'w') as f:\n",
    "    writer = csv.writer(f)\n",
    "    writer.writerows(t_train)\n",
    "with open(save_x_test,'w') as f:\n",
    "    writer = csv.writer(f)\n",
    "    writer.writerows(x_test)\n",
    "with open(save_t_test,'w') as f:\n",
    "    writer = csv.writer(f)\n",
    "    writer.writerows(t_test)"
   ]
  },
  {
   "cell_type": "code",
   "execution_count": null,
   "metadata": {},
   "outputs": [],
   "source": [
    "#まともなCNN3の実装\n",
    "batch_size = 200  # 訓練データを200ずつのデータに分けて学習させる\n",
    "epochs = 50 # 訓練データを繰り返し学習させる数\n",
    "\n",
    "#データ形式の変更(シーケンス長, パラメータ数)\n",
    "train_x = x_train.reshape(-1, 100, 1)\n",
    "train_t = t_train\n",
    "test_x = x_test.reshape(-1, 100, 1)\n",
    "test_t = t_test\n",
    "\n",
    "model = Sequential()\n",
    "model.add(Conv1D(50, 3, padding='same', input_shape=(100, 1), activation='relu', kernel_initializer=\"he_normal\"))\n",
    "model.add(MaxPooling1D(2, padding='same'))\n",
    "model.add(Conv1D(50, 3, padding='same', activation='relu', kernel_initializer=\"he_normal\"))\n",
    "model.add(MaxPooling1D(5, padding='same'))\n",
    "model.add(Conv1D(10, 3, padding='same', activation='relu', kernel_initializer=\"he_normal\"))\n",
    "model.add(layers.Flatten())\n",
    "model.add(Dense(100, activation='relu', kernel_initializer=\"he_normal\"))\n",
    "model.add(Dropout(0.2))\n",
    "model.add(Dense(10, activation='relu', kernel_initializer=\"he_normal\"))\n",
    "model.add(Dropout(0.2))\n",
    "model.add(Dense(3, activation='relu', kernel_initializer=\"he_normal\"))\n",
    "\n",
    "model.summary()\n",
    "\n",
    "model.compile(loss='mse',\n",
    " optimizer='adam',\n",
    " metrics=['mae'])\n",
    "\n",
    "history = model.fit(train_x, train_t,\n",
    " batch_size=batch_size,\n",
    " epochs=epochs,\n",
    " verbose=1,\n",
    " validation_data=(test_x, test_t))\n",
    "\n",
    "score = model.evaluate(test_x, test_t, verbose=0)\n",
    "print('Test loss:', score[0])\n",
    "print('Test accuracy:', score[1])\n",
    "\n",
    "#modelの保存\n",
    "save_model_path = \"/Users/nagaiyuma/Desktop/parameters/\"+date+\"-cnn3.h5\"\n",
    "model.save(save_model_path)"
   ]
  },
  {
   "cell_type": "code",
   "execution_count": 12,
   "metadata": {},
   "outputs": [
    {
     "data": {
      "image/png": "[encoded data removed]",
      "text/plain": [
       "<Figure size 432x288 with 2 Axes>"
      ]
     },
     "metadata": {
      "needs_background": "light"
     },
     "output_type": "display_data"
    }
   ],
   "source": [
    "N = 1000\n",
    "NOISE = 30\n",
    "#損失関数とmaeの推移\n",
    "savename = date +\"_cnn3_noise%d_N%d.png\" % (NOISE, N)\n",
    "mae = history.history['mae']\n",
    "val_mae = history.history['val_mae']\n",
    "loss = history.history['loss']\n",
    "val_loss = history.history['val_loss']\n",
    "epochs = range(1, len(mae) + 1)\n",
    "\n",
    "plt.subplot(2,1,1)\n",
    "plt.plot(epochs, mae,  color=\"black\", label = 'Training mae')\n",
    "plt.plot(epochs, val_mae,  color=\"red\", label = 'Valdation mae')\n",
    "plt.legend()             # 凡例\n",
    "plt.xlabel('Epochs')          # 軸ラベル\n",
    "plt.ylabel('mae')\n",
    "plt.ylim(0.0, 2.0)      # y軸の表示範囲\n",
    "plt.subplot(2,1,2)\n",
    "plt.plot(epochs, loss,  color=\"black\", label = 'Training mae')\n",
    "plt.plot(epochs, val_loss,  color=\"red\", label = 'Valdation mae')\n",
    "plt.legend()             # 凡例\n",
    "plt.xlabel('Epochs')          # 軸ラベル\n",
    "plt.ylabel('Loss')\n",
    "plt.ylim(0.0, 2.0)\n",
    "plt.savefig(savename) # png画像として出力\n",
    "plt.show()\n",
    "plt.close()"
   ]
  },
  {
   "cell_type": "code",
   "execution_count": 19,
   "metadata": {},
   "outputs": [
    {
     "name": "stdout",
     "output_type": "stream",
     "text": [
      "平均絶対誤差: 0.900636 ± 0.354958\n"
     ]
    }
   ],
   "source": [
    "abs_error = abs(np.array(model.predict(test_x).T[1].flatten()- t_test.T[1].flatten()))\n",
    "ave_abs = np.average(abs_error)\n",
    "std_abs = np.std(abs_error)\n",
    "error = \"平均絶対誤差: %f ± %f\" % (ave_abs, std_abs)\n",
    "print(error)"
   ]
  },
  {
   "cell_type": "code",
   "execution_count": 11,
   "metadata": {},
   "outputs": [
    {
     "name": "stdout",
     "output_type": "stream",
     "text": [
      "Model: \"sequential_2\"\n",
      "_________________________________________________________________\n",
      "Layer (type)                 Output Shape              Param #   \n",
      "=================================================================\n",
      "conv1d_4 (Conv1D)            (None, 100, 50)           200       \n",
      "_________________________________________________________________\n",
      "max_pooling1d_3 (MaxPooling1 (None, 50, 50)            0         \n",
      "_________________________________________________________________\n",
      "conv1d_5 (Conv1D)            (None, 50, 50)            7550      \n",
      "_________________________________________________________________\n",
      "max_pooling1d_4 (MaxPooling1 (None, 10, 50)            0         \n",
      "_________________________________________________________________\n",
      "conv1d_6 (Conv1D)            (None, 10, 10)            1510      \n",
      "_________________________________________________________________\n",
      "flatten_2 (Flatten)          (None, 100)               0         \n",
      "_________________________________________________________________\n",
      "dense_4 (Dense)              (None, 100)               10100     \n",
      "_________________________________________________________________\n",
      "dropout_3 (Dropout)          (None, 100)               0         \n",
      "_________________________________________________________________\n",
      "dense_5 (Dense)              (None, 10)                1010      \n",
      "_________________________________________________________________\n",
      "dropout_4 (Dropout)          (None, 10)                0         \n",
      "_________________________________________________________________\n",
      "dense_6 (Dense)              (None, 1)                 11        \n",
      "=================================================================\n",
      "Total params: 20,381\n",
      "Trainable params: 20,381\n",
      "Non-trainable params: 0\n",
      "_________________________________________________________________\n",
      "Train on 10000 samples, validate on 1000 samples\n",
      "Epoch 1/50\n",
      "10000/10000 [==============================] - 13s 1ms/step - loss: 0.7015 - mae: 0.6564 - val_loss: 0.2338 - val_mae: 0.4123\n",
      "Epoch 2/50\n",
      "10000/10000 [==============================] - 10s 1ms/step - loss: 0.1828 - mae: 0.3352 - val_loss: 0.0600 - val_mae: 0.1969\n",
      "Epoch 3/50\n",
      "10000/10000 [==============================] - 10s 1ms/step - loss: 0.1213 - mae: 0.2683 - val_loss: 0.0343 - val_mae: 0.1498\n",
      "Epoch 4/50\n",
      "10000/10000 [==============================] - 10s 1ms/step - loss: 0.0998 - mae: 0.2422 - val_loss: 0.0476 - val_mae: 0.1756\n",
      "Epoch 5/50\n",
      "10000/10000 [==============================] - 10s 1ms/step - loss: 0.0905 - mae: 0.2292 - val_loss: 0.0301 - val_mae: 0.1390\n",
      "Epoch 6/50\n",
      "10000/10000 [==============================] - 10s 1ms/step - loss: 0.0848 - mae: 0.2216 - val_loss: 0.0340 - val_mae: 0.1475\n",
      "Epoch 7/50\n",
      "10000/10000 [==============================] - 10s 1ms/step - loss: 0.0791 - mae: 0.2143 - val_loss: 0.0273 - val_mae: 0.1313\n",
      "Epoch 8/50\n",
      "10000/10000 [==============================] - 10s 1ms/step - loss: 0.0763 - mae: 0.2112 - val_loss: 0.0316 - val_mae: 0.1418\n",
      "Epoch 9/50\n",
      "10000/10000 [==============================] - 10s 1ms/step - loss: 0.0751 - mae: 0.2080 - val_loss: 0.0259 - val_mae: 0.1278\n",
      "Epoch 10/50\n",
      "10000/10000 [==============================] - 10s 1ms/step - loss: 0.0706 - mae: 0.2024 - val_loss: 0.0261 - val_mae: 0.1287\n",
      "Epoch 11/50\n",
      "10000/10000 [==============================] - 10s 1ms/step - loss: 0.0710 - mae: 0.2012 - val_loss: 0.0294 - val_mae: 0.1378\n",
      "Epoch 12/50\n",
      "10000/10000 [==============================] - 10s 1ms/step - loss: 0.0664 - mae: 0.1971 - val_loss: 0.0282 - val_mae: 0.1346\n",
      "Epoch 13/50\n",
      "10000/10000 [==============================] - 10s 1ms/step - loss: 0.0642 - mae: 0.1926 - val_loss: 0.0298 - val_mae: 0.1393\n",
      "Epoch 14/50\n",
      "10000/10000 [==============================] - 10s 1ms/step - loss: 0.0647 - mae: 0.1930 - val_loss: 0.0352 - val_mae: 0.1526\n",
      "Epoch 15/50\n",
      "10000/10000 [==============================] - 10s 1ms/step - loss: 0.0607 - mae: 0.1880 - val_loss: 0.0258 - val_mae: 0.1285\n",
      "Epoch 16/50\n",
      "10000/10000 [==============================] - 10s 1ms/step - loss: 0.0575 - mae: 0.1832 - val_loss: 0.0279 - val_mae: 0.1350\n",
      "Epoch 17/50\n",
      "10000/10000 [==============================] - 10s 1ms/step - loss: 0.0577 - mae: 0.1831 - val_loss: 0.0270 - val_mae: 0.1332\n",
      "Epoch 18/50\n",
      "10000/10000 [==============================] - 11s 1ms/step - loss: 0.0572 - mae: 0.1819 - val_loss: 0.0227 - val_mae: 0.1214\n",
      "Epoch 19/50\n",
      "10000/10000 [==============================] - 11s 1ms/step - loss: 0.0552 - mae: 0.1795 - val_loss: 0.0305 - val_mae: 0.1414\n",
      "Epoch 20/50\n",
      "10000/10000 [==============================] - 11s 1ms/step - loss: 0.0556 - mae: 0.1802 - val_loss: 0.0238 - val_mae: 0.1245\n",
      "Epoch 21/50\n",
      "10000/10000 [==============================] - 11s 1ms/step - loss: 0.0544 - mae: 0.1785 - val_loss: 0.0237 - val_mae: 0.1239\n",
      "Epoch 22/50\n",
      "10000/10000 [==============================] - 11s 1ms/step - loss: 0.0531 - mae: 0.1765 - val_loss: 0.0225 - val_mae: 0.1198\n",
      "Epoch 23/50\n",
      "10000/10000 [==============================] - 10s 1ms/step - loss: 0.0514 - mae: 0.1743 - val_loss: 0.0229 - val_mae: 0.1212\n",
      "Epoch 24/50\n",
      "10000/10000 [==============================] - 10s 1ms/step - loss: 0.0508 - mae: 0.1725 - val_loss: 0.0216 - val_mae: 0.1184\n",
      "Epoch 25/50\n",
      "10000/10000 [==============================] - 10s 1ms/step - loss: 0.0504 - mae: 0.1728 - val_loss: 0.0249 - val_mae: 0.1279\n",
      "Epoch 26/50\n",
      "10000/10000 [==============================] - 10s 1ms/step - loss: 0.0474 - mae: 0.1668 - val_loss: 0.0234 - val_mae: 0.1228\n",
      "Epoch 27/50\n",
      "10000/10000 [==============================] - 10s 1ms/step - loss: 0.0465 - mae: 0.1648 - val_loss: 0.0223 - val_mae: 0.1189\n",
      "Epoch 28/50\n",
      "10000/10000 [==============================] - 10s 1ms/step - loss: 0.0473 - mae: 0.1666 - val_loss: 0.0228 - val_mae: 0.1210\n",
      "Epoch 29/50\n",
      "10000/10000 [==============================] - 10s 1ms/step - loss: 0.0449 - mae: 0.1635 - val_loss: 0.0234 - val_mae: 0.1227\n",
      "Epoch 30/50\n",
      "10000/10000 [==============================] - 11s 1ms/step - loss: 0.0438 - mae: 0.1603 - val_loss: 0.0265 - val_mae: 0.1311\n",
      "Epoch 31/50\n",
      "10000/10000 [==============================] - 11s 1ms/step - loss: 0.0447 - mae: 0.1618 - val_loss: 0.0216 - val_mae: 0.1175\n",
      "Epoch 32/50\n",
      "10000/10000 [==============================] - 11s 1ms/step - loss: 0.0434 - mae: 0.1595 - val_loss: 0.0216 - val_mae: 0.1168\n",
      "Epoch 33/50\n",
      "10000/10000 [==============================] - 11s 1ms/step - loss: 0.0415 - mae: 0.1572 - val_loss: 0.0230 - val_mae: 0.1205\n",
      "Epoch 34/50\n",
      "10000/10000 [==============================] - 10s 1ms/step - loss: 0.0432 - mae: 0.1595 - val_loss: 0.0226 - val_mae: 0.1208\n",
      "Epoch 35/50\n",
      "10000/10000 [==============================] - 10s 1ms/step - loss: 0.0414 - mae: 0.1567 - val_loss: 0.0211 - val_mae: 0.1160\n",
      "Epoch 36/50\n",
      "10000/10000 [==============================] - 10s 1ms/step - loss: 0.0411 - mae: 0.1565 - val_loss: 0.0230 - val_mae: 0.1209\n",
      "Epoch 37/50\n",
      "10000/10000 [==============================] - 10s 1ms/step - loss: 0.0412 - mae: 0.1562 - val_loss: 0.0199 - val_mae: 0.1118\n",
      "Epoch 38/50\n",
      "10000/10000 [==============================] - 10s 1ms/step - loss: 0.0402 - mae: 0.1539 - val_loss: 0.0206 - val_mae: 0.1140\n",
      "Epoch 39/50\n",
      "10000/10000 [==============================] - 10s 1ms/step - loss: 0.0396 - mae: 0.1533 - val_loss: 0.0203 - val_mae: 0.1134\n",
      "Epoch 40/50\n",
      "10000/10000 [==============================] - 10s 1ms/step - loss: 0.0377 - mae: 0.1500 - val_loss: 0.0213 - val_mae: 0.1155\n",
      "Epoch 41/50\n",
      "10000/10000 [==============================] - 10s 1ms/step - loss: 0.0375 - mae: 0.1496 - val_loss: 0.0197 - val_mae: 0.1107\n",
      "Epoch 42/50\n",
      "10000/10000 [==============================] - 10s 1ms/step - loss: 0.0376 - mae: 0.1489 - val_loss: 0.0204 - val_mae: 0.1125\n",
      "Epoch 43/50\n",
      "10000/10000 [==============================] - 10s 1ms/step - loss: 0.0372 - mae: 0.1490 - val_loss: 0.0208 - val_mae: 0.1139\n",
      "Epoch 44/50\n",
      "10000/10000 [==============================] - 10s 1ms/step - loss: 0.0370 - mae: 0.1473 - val_loss: 0.0195 - val_mae: 0.1102\n",
      "Epoch 45/50\n",
      "10000/10000 [==============================] - 10s 1ms/step - loss: 0.0367 - mae: 0.1477 - val_loss: 0.0192 - val_mae: 0.1088\n",
      "Epoch 46/50\n",
      "10000/10000 [==============================] - 10s 1ms/step - loss: 0.0346 - mae: 0.1443 - val_loss: 0.0205 - val_mae: 0.1130\n",
      "Epoch 47/50\n",
      "10000/10000 [==============================] - 10s 1ms/step - loss: 0.0352 - mae: 0.1436 - val_loss: 0.0197 - val_mae: 0.1113\n",
      "Epoch 48/50\n",
      "10000/10000 [==============================] - 10s 1ms/step - loss: 0.0353 - mae: 0.1442 - val_loss: 0.0230 - val_mae: 0.1212\n",
      "Epoch 49/50\n",
      "10000/10000 [==============================] - 10s 1ms/step - loss: 0.0364 - mae: 0.1472 - val_loss: 0.0219 - val_mae: 0.1166\n",
      "Epoch 50/50\n",
      "10000/10000 [==============================] - 10s 1ms/step - loss: 0.0348 - mae: 0.1447 - val_loss: 0.0204 - val_mae: 0.1129\n",
      "Test loss: 0.020367999732494355\n",
      "Test accuracy: 0.11294674128293991\n"
     ]
    }
   ],
   "source": [
    "t_train = t_train.T[1].flatten()\n",
    "t_test = t_test.T[1].flatten()\n",
    "\n",
    "#まともなCNNの実装\n",
    "batch_size = 200  # 訓練データを200ずつのデータに分けて学習させる\n",
    "epochs = 50 # 訓練データを繰り返し学習させる数\n",
    "\n",
    "#データ形式の変更(シーケンス長, パラメータ数)\n",
    "train_x = x_train.reshape(-1, 100, 1)\n",
    "train_t = t_train\n",
    "test_x = x_test.reshape(-1, 100, 1)\n",
    "test_t = t_test\n",
    "\n",
    "model = Sequential()\n",
    "model.add(Conv1D(50, 3, padding='same', input_shape=(100, 1), activation='relu', kernel_initializer=\"he_normal\"))\n",
    "model.add(MaxPooling1D(2, padding='same'))\n",
    "model.add(Conv1D(50, 3, padding='same', activation='relu', kernel_initializer=\"he_normal\"))\n",
    "model.add(MaxPooling1D(5, padding='same'))\n",
    "model.add(Conv1D(10, 3, padding='same', activation='relu', kernel_initializer=\"he_normal\"))\n",
    "model.add(layers.Flatten())\n",
    "model.add(Dense(100, activation='relu', kernel_initializer=\"he_normal\"))\n",
    "model.add(Dropout(0.2))\n",
    "model.add(Dense(10, activation='relu', kernel_initializer=\"he_normal\"))\n",
    "model.add(Dropout(0.2))\n",
    "model.add(Dense(1, activation='relu', kernel_initializer=\"he_normal\"))\n",
    "\n",
    "model.summary()\n",
    "\n",
    "model.compile(loss='mse',\n",
    " optimizer='adam',\n",
    " metrics=['mae'])\n",
    "\n",
    "history = model.fit(train_x, train_t,\n",
    " batch_size=batch_size,\n",
    " epochs=epochs,\n",
    " verbose=1,\n",
    " validation_data=(test_x, test_t))\n",
    "\n",
    "score = model.evaluate(test_x, test_t, verbose=0)\n",
    "print('Test loss:', score[0])\n",
    "print('Test accuracy:', score[1])\n",
    "\n",
    "#modelの保存\n",
    "save_model_path = \"/Users/nagaiyuma/Desktop/parameters/\"+date+\"-cnn1.h5\"\n",
    "model.save(save_model_path)"
   ]
  },
  {
   "cell_type": "code",
   "execution_count": 3,
   "metadata": {},
   "outputs": [
    {
     "ename": "NameError",
     "evalue": "name 'history' is not defined",
     "output_type": "error",
     "traceback": [
      "\u001b[0;31m---------------------------------------------------------------------------\u001b[0m",
      "\u001b[0;31mNameError\u001b[0m                                 Traceback (most recent call last)",
      "\u001b[0;32m<ipython-input-3-19710f1cc996>\u001b[0m in \u001b[0;36m<module>\u001b[0;34m\u001b[0m\n\u001b[1;32m      3\u001b[0m \u001b[0;31m#損失関数とmaeの推移\u001b[0m\u001b[0;34m\u001b[0m\u001b[0;34m\u001b[0m\u001b[0;34m\u001b[0m\u001b[0m\n\u001b[1;32m      4\u001b[0m \u001b[0msavename\u001b[0m \u001b[0;34m=\u001b[0m \u001b[0mdate\u001b[0m \u001b[0;34m+\u001b[0m\u001b[0;34m\"_ccn1_noise%d_N%d.png\"\u001b[0m \u001b[0;34m%\u001b[0m \u001b[0;34m(\u001b[0m\u001b[0mNOISE\u001b[0m\u001b[0;34m,\u001b[0m \u001b[0mN\u001b[0m\u001b[0;34m)\u001b[0m\u001b[0;34m\u001b[0m\u001b[0;34m\u001b[0m\u001b[0m\n\u001b[0;32m----> 5\u001b[0;31m \u001b[0mmae\u001b[0m \u001b[0;34m=\u001b[0m \u001b[0mhistory\u001b[0m\u001b[0;34m.\u001b[0m\u001b[0mhistory\u001b[0m\u001b[0;34m[\u001b[0m\u001b[0;34m'mae'\u001b[0m\u001b[0;34m]\u001b[0m\u001b[0;34m\u001b[0m\u001b[0;34m\u001b[0m\u001b[0m\n\u001b[0m\u001b[1;32m      6\u001b[0m \u001b[0mval_mae\u001b[0m \u001b[0;34m=\u001b[0m \u001b[0mhistory\u001b[0m\u001b[0;34m.\u001b[0m\u001b[0mhistory\u001b[0m\u001b[0;34m[\u001b[0m\u001b[0;34m'val_mae'\u001b[0m\u001b[0;34m]\u001b[0m\u001b[0;34m\u001b[0m\u001b[0;34m\u001b[0m\u001b[0m\n\u001b[1;32m      7\u001b[0m \u001b[0mloss\u001b[0m \u001b[0;34m=\u001b[0m \u001b[0mhistory\u001b[0m\u001b[0;34m.\u001b[0m\u001b[0mhistory\u001b[0m\u001b[0;34m[\u001b[0m\u001b[0;34m'loss'\u001b[0m\u001b[0;34m]\u001b[0m\u001b[0;34m\u001b[0m\u001b[0;34m\u001b[0m\u001b[0m\n",
      "\u001b[0;31mNameError\u001b[0m: name 'history' is not defined"
     ]
    }
   ],
   "source": [
    "N = 1000\n",
    "NOISE = 30\n",
    "#損失関数とmaeの推移\n",
    "savename = date +\"_ccn1_noise%d_N%d.png\" % (NOISE, N)\n",
    "mae = history.history['mae']\n",
    "val_mae = history.history['val_mae']\n",
    "loss = history.history['loss']\n",
    "val_loss = history.history['val_loss']\n",
    "epochs = range(1, len(mae) + 1)\n",
    "\n",
    "plt.subplot(2,1,1)\n",
    "plt.plot(epochs, mae,  color=\"black\", label = 'Training mae')\n",
    "plt.plot(epochs, val_mae,  color=\"red\", label = 'Valdation mae')\n",
    "plt.legend()             # 凡例\n",
    "plt.xlabel('Epochs')          # 軸ラベル\n",
    "plt.ylabel('mae')\n",
    "plt.ylim(0.0, 1.0)      # y軸の表示範囲\n",
    "plt.subplot(2,1,2)\n",
    "plt.plot(epochs, loss,  color=\"black\", label = 'Training mae')\n",
    "plt.plot(epochs, val_loss,  color=\"red\", label = 'Valdation mae')\n",
    "plt.legend()             # 凡例\n",
    "plt.xlabel('Epochs')          # 軸ラベル\n",
    "plt.ylabel('Loss')\n",
    "plt.ylim(0.0, 1.0)\n",
    "plt.savefig(savename) # png画像として出力\n",
    "plt.show()\n",
    "plt.close()"
   ]
  },
  {
   "cell_type": "code",
   "execution_count": 16,
   "metadata": {},
   "outputs": [
    {
     "name": "stdout",
     "output_type": "stream",
     "text": [
      "平均絶対誤差: 0.112947 ± 0.087241\n"
     ]
    }
   ],
   "source": [
    "abs_error = abs(np.array(model.predict(test_x).flatten()- t_test))\n",
    "ave_abs = np.average(abs_error)\n",
    "std_abs = np.std(abs_error)\n",
    "error = \"平均絶対誤差: %f ± %f\" % (ave_abs, std_abs)\n",
    "print(error)"
   ]
  },
  {
   "cell_type": "code",
   "execution_count": null,
   "metadata": {},
   "outputs": [],
   "source": []
  }
 ],
 "metadata": {
  "kernelspec": {
   "display_name": "Python 3",
   "language": "python",
   "name": "python3"
  },
  "language_info": {
   "codemirror_mode": {
    "name": "ipython",
    "version": 3
   },
   "file_extension": ".py",
   "mimetype": "text/x-python",
   "name": "python",
   "nbconvert_exporter": "python",
   "pygments_lexer": "ipython3",
   "version": "3.7.3"
  }
 },
 "nbformat": 4,
 "nbformat_minor": 4
}
