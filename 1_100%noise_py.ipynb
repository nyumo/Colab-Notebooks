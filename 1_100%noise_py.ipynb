{
 "cells": [
  {
   "cell_type": "code",
   "execution_count": 2,
   "metadata": {},
   "outputs": [
    {
     "name": "stderr",
     "output_type": "stream",
     "text": [
      "Using TensorFlow backend.\n"
     ]
    },
    {
     "name": "stdout",
     "output_type": "stream",
     "text": [
      "2020-11-17\n"
     ]
    }
   ],
   "source": [
    "import numpy as np\n",
    "import keras\n",
    "from keras.models import load_model\n",
    "import csv\n",
    "from createdatas import gaussian_beam, createdata\n",
    "from createdatas2 import createdata2\n",
    "import datetime\n",
    "import matplotlib.pyplot as plt\n",
    "from scipy.optimize import curve_fit    # フィッティング用\n",
    "date = str(datetime.date.today())\n",
    "print(date)\n",
    "\n",
    "import os #システム操作系\n",
    "from pathlib import Path #ファイル操作系"
   ]
  },
  {
   "cell_type": "code",
   "execution_count": 3,
   "metadata": {},
   "outputs": [
    {
     "name": "stdout",
     "output_type": "stream",
     "text": [
      "経過時間:0.0576481819152832[sec]\n",
      "平均絶対誤差: 0.000000 ± 0.000000\n",
      "経過時間:0.04462575912475586[sec]\n",
      "平均絶対誤差: 0.003069 ± 0.001832\n",
      "経過時間:0.03569173812866211[sec]\n",
      "平均絶対誤差: 0.006757 ± 0.005590\n",
      "経過時間:0.04081988334655762[sec]\n",
      "平均絶対誤差: 0.009697 ± 0.008601\n",
      "経過時間:0.05185890197753906[sec]\n",
      "平均絶対誤差: 0.017813 ± 0.011894\n",
      "経過時間:0.04664182662963867[sec]\n",
      "平均絶対誤差: 0.018301 ± 0.010381\n",
      "経過時間:0.05829787254333496[sec]\n",
      "平均絶対誤差: 0.025641 ± 0.017605\n",
      "経過時間:0.0393369197845459[sec]\n",
      "平均絶対誤差: 0.021408 ± 0.019779\n",
      "経過時間:0.06622695922851562[sec]\n",
      "平均絶対誤差: 0.026248 ± 0.025897\n",
      "経過時間:0.08080101013183594[sec]\n",
      "平均絶対誤差: 0.037541 ± 0.028963\n",
      "経過時間:0.06638002395629883[sec]\n",
      "平均絶対誤差: 0.042696 ± 0.041916\n",
      "経過時間:0.038012027740478516[sec]\n",
      "平均絶対誤差: 0.045404 ± 0.037590\n",
      "経過時間:0.04698586463928223[sec]\n",
      "平均絶対誤差: 0.050503 ± 0.037135\n",
      "経過時間:0.04152226448059082[sec]\n",
      "平均絶対誤差: 0.028332 ± 0.023892\n",
      "経過時間:0.051651954650878906[sec]\n",
      "平均絶対誤差: 0.048164 ± 0.030146\n",
      "経過時間:0.08840584754943848[sec]\n",
      "平均絶対誤差: 0.063199 ± 0.055889\n",
      "経過時間:0.05341291427612305[sec]\n",
      "平均絶対誤差: 0.072697 ± 0.048733\n",
      "経過時間:0.04198503494262695[sec]\n",
      "平均絶対誤差: 0.077583 ± 0.049276\n",
      "経過時間:0.04868602752685547[sec]\n",
      "平均絶対誤差: 0.071685 ± 0.057134\n",
      "経過時間:0.042600154876708984[sec]\n",
      "平均絶対誤差: 0.079356 ± 0.060521\n",
      "経過時間:0.039350032806396484[sec]\n",
      "平均絶対誤差: 0.074588 ± 0.040347\n",
      "経過時間:0.0441288948059082[sec]\n",
      "平均絶対誤差: 0.056662 ± 0.040621\n",
      "経過時間:0.049349069595336914[sec]\n",
      "平均絶対誤差: 0.086302 ± 0.068224\n",
      "経過時間:0.045438289642333984[sec]\n",
      "平均絶対誤差: 0.082072 ± 0.046146\n",
      "経過時間:0.04815506935119629[sec]\n",
      "平均絶対誤差: 0.073845 ± 0.071601\n",
      "経過時間:0.040266990661621094[sec]\n",
      "平均絶対誤差: 0.080418 ± 0.048883\n",
      "経過時間:0.049041748046875[sec]\n",
      "平均絶対誤差: 0.085475 ± 0.069141\n",
      "経過時間:0.04541015625[sec]\n",
      "平均絶対誤差: 0.071822 ± 0.056776\n",
      "経過時間:0.04915595054626465[sec]\n",
      "平均絶対誤差: 0.115397 ± 0.091970\n",
      "経過時間:0.04494595527648926[sec]\n",
      "平均絶対誤差: 0.116245 ± 0.075676\n",
      "経過時間:0.041922807693481445[sec]\n",
      "平均絶対誤差: 0.123645 ± 0.097113\n",
      "経過時間:0.05511593818664551[sec]\n",
      "平均絶対誤差: 0.090707 ± 0.083163\n",
      "経過時間:0.04323005676269531[sec]\n",
      "平均絶対誤差: 0.139540 ± 0.068214\n",
      "経過時間:0.05045580863952637[sec]\n",
      "平均絶対誤差: 0.121771 ± 0.084005\n",
      "経過時間:0.0455019474029541[sec]\n",
      "平均絶対誤差: 0.127054 ± 0.098971\n",
      "経過時間:0.045439958572387695[sec]\n",
      "平均絶対誤差: 0.110112 ± 0.085420\n",
      "経過時間:0.054221153259277344[sec]\n",
      "平均絶対誤差: 0.095287 ± 0.085156\n",
      "経過時間:0.04482412338256836[sec]\n",
      "平均絶対誤差: 0.142584 ± 0.102236\n",
      "経過時間:0.05492997169494629[sec]\n",
      "平均絶対誤差: 0.142434 ± 0.104855\n",
      "経過時間:0.0448148250579834[sec]\n",
      "平均絶対誤差: 0.138455 ± 0.136939\n",
      "経過時間:0.04468679428100586[sec]\n",
      "平均絶対誤差: 0.153825 ± 0.114985\n",
      "経過時間:0.057308197021484375[sec]\n",
      "平均絶対誤差: 0.151847 ± 0.109223\n",
      "経過時間:0.04452991485595703[sec]\n",
      "平均絶対誤差: 0.180050 ± 0.124956\n",
      "経過時間:0.0543980598449707[sec]\n",
      "平均絶対誤差: 0.162271 ± 0.139448\n",
      "経過時間:0.045623779296875[sec]\n",
      "平均絶対誤差: 0.182433 ± 0.129981\n",
      "経過時間:0.043767690658569336[sec]\n",
      "平均絶対誤差: 0.152397 ± 0.099240\n",
      "経過時間:0.051972150802612305[sec]\n",
      "平均絶対誤差: 0.129832 ± 0.092795\n",
      "経過時間:0.05159187316894531[sec]\n",
      "平均絶対誤差: 0.171530 ± 0.168627\n",
      "経過時間:0.05543184280395508[sec]\n",
      "平均絶対誤差: 0.135447 ± 0.096687\n",
      "経過時間:0.046684980392456055[sec]\n",
      "平均絶対誤差: 0.182170 ± 0.128283\n",
      "経過時間:0.04562211036682129[sec]\n",
      "平均絶対誤差: 0.205016 ± 0.153399\n",
      "経過時間:0.05668306350708008[sec]\n",
      "平均絶対誤差: 0.159745 ± 0.112779\n",
      "経過時間:0.04441213607788086[sec]\n",
      "平均絶対誤差: 0.213038 ± 0.144391\n",
      "経過時間:0.058612823486328125[sec]\n",
      "平均絶対誤差: 0.203873 ± 0.165114\n",
      "経過時間:0.04607892036437988[sec]\n",
      "平均絶対誤差: 0.237254 ± 0.175159\n",
      "経過時間:0.04593396186828613[sec]\n",
      "平均絶対誤差: 0.264379 ± 0.189346\n",
      "経過時間:0.05905890464782715[sec]\n",
      "平均絶対誤差: 0.175819 ± 0.158580\n",
      "経過時間:0.049285888671875[sec]\n",
      "平均絶対誤差: 0.238207 ± 0.166756\n",
      "経過時間:0.05823397636413574[sec]\n",
      "平均絶対誤差: 0.189420 ± 0.149913\n",
      "経過時間:0.04673004150390625[sec]\n",
      "平均絶対誤差: 0.143254 ± 0.115671\n",
      "経過時間:0.048477888107299805[sec]\n",
      "平均絶対誤差: 0.209166 ± 0.164718\n",
      "経過時間:0.06020379066467285[sec]\n",
      "平均絶対誤差: 0.212139 ± 0.116676\n",
      "経過時間:0.045675039291381836[sec]\n",
      "平均絶対誤差: 0.203139 ± 0.141214\n",
      "経過時間:0.05929398536682129[sec]\n",
      "平均絶対誤差: 0.256468 ± 0.176441\n",
      "経過時間:0.0561370849609375[sec]\n",
      "平均絶対誤差: 0.150529 ± 0.104251\n",
      "経過時間:0.05359005928039551[sec]\n",
      "平均絶対誤差: 0.384013 ± 0.231640\n",
      "経過時間:0.05235600471496582[sec]\n",
      "平均絶対誤差: 0.231988 ± 0.186433\n",
      "経過時間:0.0569760799407959[sec]\n",
      "平均絶対誤差: 0.248696 ± 0.161418\n",
      "経過時間:0.05221700668334961[sec]\n",
      "平均絶対誤差: 0.274260 ± 0.196220\n",
      "経過時間:0.059227705001831055[sec]\n",
      "平均絶対誤差: 0.218057 ± 0.158601\n",
      "経過時間:0.06100106239318848[sec]\n",
      "平均絶対誤差: 0.226625 ± 0.171440\n",
      "経過時間:0.05302882194519043[sec]\n",
      "平均絶対誤差: 0.288473 ± 0.222104\n",
      "経過時間:0.06127524375915527[sec]\n",
      "平均絶対誤差: 0.213294 ± 0.260623\n",
      "経過時間:0.05171918869018555[sec]\n",
      "平均絶対誤差: 0.312580 ± 0.239075\n",
      "経過時間:0.06927776336669922[sec]\n",
      "平均絶対誤差: 0.272351 ± 0.221464\n",
      "経過時間:0.05549216270446777[sec]\n",
      "平均絶対誤差: 0.381997 ± 0.266439\n",
      "経過時間:0.06371879577636719[sec]\n",
      "平均絶対誤差: 0.261819 ± 0.148277\n",
      "経過時間:0.056073904037475586[sec]\n",
      "平均絶対誤差: 0.308080 ± 0.166716\n",
      "経過時間:0.06368303298950195[sec]\n",
      "平均絶対誤差: 0.313177 ± 0.217453\n",
      "経過時間:0.05360007286071777[sec]\n",
      "平均絶対誤差: 0.299196 ± 0.187657\n",
      "経過時間:0.05897688865661621[sec]\n",
      "平均絶対誤差: 0.254214 ± 0.154658\n",
      "経過時間:0.05338597297668457[sec]\n",
      "平均絶対誤差: 0.315340 ± 0.262453\n",
      "経過時間:0.056105852127075195[sec]\n",
      "平均絶対誤差: 0.310629 ± 0.275219\n",
      "経過時間:0.0636911392211914[sec]\n",
      "平均絶対誤差: 0.348514 ± 0.236404\n",
      "経過時間:0.06247997283935547[sec]\n",
      "平均絶対誤差: 0.291460 ± 0.227207\n",
      "経過時間:0.05359601974487305[sec]\n",
      "平均絶対誤差: 0.406705 ± 0.161853\n",
      "経過時間:0.07150816917419434[sec]\n",
      "平均絶対誤差: 0.345848 ± 0.280437\n",
      "経過時間:0.0552058219909668[sec]\n",
      "平均絶対誤差: 0.441781 ± 0.288540\n",
      "経過時間:0.0656440258026123[sec]\n",
      "平均絶対誤差: 0.342671 ± 0.249041\n",
      "経過時間:0.0643162727355957[sec]\n",
      "平均絶対誤差: 0.414946 ± 0.314257\n",
      "経過時間:0.07318592071533203[sec]\n",
      "平均絶対誤差: 0.362657 ± 0.290325\n",
      "経過時間:0.05492115020751953[sec]\n",
      "平均絶対誤差: 0.250949 ± 0.261042\n",
      "経過時間:0.06820082664489746[sec]\n",
      "平均絶対誤差: 0.253526 ± 0.218399\n",
      "経過時間:0.05481719970703125[sec]\n",
      "平均絶対誤差: 0.332989 ± 0.334071\n",
      "経過時間:0.06203293800354004[sec]\n",
      "平均絶対誤差: 0.475115 ± 0.319157\n",
      "経過時間:0.05620574951171875[sec]\n",
      "平均絶対誤差: 0.351962 ± 0.257188\n",
      "経過時間:0.06777811050415039[sec]\n",
      "平均絶対誤差: 0.404200 ± 0.264156\n",
      "経過時間:0.057704925537109375[sec]\n",
      "平均絶対誤差: 0.260418 ± 0.234489\n",
      "経過時間:0.11527299880981445[sec]\n",
      "平均絶対誤差: 0.343557 ± 0.302344\n",
      "経過時間:0.14087414741516113[sec]\n",
      "平均絶対誤差: 0.408792 ± 0.241478\n",
      "経過時間:0.1628420352935791[sec]\n",
      "平均絶対誤差: 0.456831 ± 0.308299\n",
      "(20, 101, 100)\n",
      "(20, 101)\n"
     ]
    }
   ],
   "source": [
    "#　テストデータ生成\n",
    "file_num = 20 #テストファイル数20\n",
    "test_num = 101 #データ数(0%~100%)\n",
    "data_size = 100 #配列の大きさ\n",
    "fit_param_x = np.zeros((file_num, 4))\n",
    "fit_param_y = np.zeros((file_num, 4))\n",
    "\n",
    "t_101 = np.zeros((file_num ,test_num, 3))\n",
    "ty = np.zeros((file_num ,test_num, 3))\n",
    "x_101 = np.zeros((file_num, test_num, data_size))\n",
    "y_101 = np.zeros((file_num, test_num, data_size))\n",
    "n = range(0, file_num)\n",
    "test_nums = range(0, test_num)\n",
    "\n",
    "\n",
    "for NOISE in range(0, test_num):\n",
    "    createdata2(file_num, NOISE, data_size, x_101[:,NOISE,:], y_101[:,NOISE,:], t_101[:,NOISE,:], ty[:,NOISE,:], fit_param_x, fit_param_y)\n",
    "\n",
    "t_101 = t_101.T[1].T\n",
    "print(x_101.shape)\n",
    "print(t_101.shape)"
   ]
  },
  {
   "cell_type": "code",
   "execution_count": 4,
   "metadata": {},
   "outputs": [
    {
     "name": "stdout",
     "output_type": "stream",
     "text": [
      "このファイルの存在するフォルダ： /Users/nagaiyuma/Documents/myprogram\n",
      "保存フォルダ： /Users/nagaiyuma/Documents/myprogram/savefig100%\n"
     ]
    }
   ],
   "source": [
    "# このファイルの存在するフォルダの絶対パスを取得\n",
    "dir_name = str(Path().resolve())\n",
    "print('このファイルの存在するフォルダ：', dir_name)\n",
    "\n",
    "# 保存先フォルダのパス作成\n",
    "save_folder = os.path.join(dir_name, f'savefig{NOISE}%')\n",
    "print('保存フォルダ：', save_folder)\n",
    "\n",
    "# 保存先フォルダの作成(既に存在する場合は無視される)\n",
    "os.makedirs(save_folder, exist_ok=True)"
   ]
  },
  {
   "cell_type": "code",
   "execution_count": 5,
   "metadata": {},
   "outputs": [
    {
     "data": {
      "image/png": "[encoded data removed]",
      "text/plain": [
       "<Figure size 432x288 with 2 Axes>"
      ]
     },
     "metadata": {
      "needs_background": "light"
     },
     "output_type": "display_data"
    }
   ],
   "source": [
    "#表示\n",
    "x_array = np.arange(-50, 50, 1.0)   \n",
    "plt.subplots_adjust(wspace=0.4, hspace=0.6)\n",
    "plt.subplot(1,2,1)\n",
    "plt.scatter(x_array, x_101[0][0],  color=\"black\", label = 'x0 = 0.0', s=10)\n",
    "plt.xlabel('x')          # 軸ラベル\n",
    "plt.ylabel('Intensity')\n",
    "plt.ylim(-0.5, 2.0)      # y軸の表示範囲\n",
    "plt.subplot(1,2,2)\n",
    "plt.scatter(x_array, x_101[0][30],  color=\"black\", label = 'x0 = 0.0', s=10)\n",
    "plt.xlabel('x')          # 軸ラベル\n",
    "plt.ylabel('Intensity')\n",
    "plt.ylim(-0.5, 2.0)\n",
    "plt.show()\n",
    "plt.close()\n"
   ]
  },
  {
   "cell_type": "code",
   "execution_count": 19,
   "metadata": {},
   "outputs": [
    {
     "name": "stdout",
     "output_type": "stream",
     "text": [
      "現在時刻： 2020-11-04 16:02:19.873349\n",
      "保存ファイル名： 2020-11-04_16-02.svg\n",
      "保存ファイルパス： /Users/nagaiyuma/Documents/myprogram/savefig30%/2020-11-04_16-02.svg\n"
     ]
    },
    {
     "data": {
      "image/png": "[encoded data removed]",
      "text/plain": [
       "<Figure size 432x288 with 1 Axes>"
      ]
     },
     "metadata": {
      "needs_background": "light"
     },
     "output_type": "display_data"
    }
   ],
   "source": [
    "#画像保存\n",
    "dt_now = datetime.datetime.now()\n",
    "print('現在時刻：', dt_now)\n",
    "#損失関数とmaeの推移\n",
    "save_name = dt_now.strftime(\"%Y-%m-%d_%H-%M\") +'.svg'\n",
    "save_file = os.path.join(save_folder, save_name) # 保存先のファイルパス作成\n",
    "print('保存ファイル名：', save_name)\n",
    "print('保存ファイルパス：', save_file)\n",
    "\n",
    "plt.scatter(x_array, x_101[0][30],  color=\"black\", label = 'x0 = 0.0', s=10)\n",
    "plt.xlabel('x')          # 軸ラベル\n",
    "plt.ylabel('Intensity')\n",
    "plt.xlim(-50.0, 50.0)\n",
    "plt.xticks(np.arange(-50,50+1,10))\n",
    "plt.ylim(-0.5, 1.5)\n",
    "plt.savefig(save_file, format=\"svg\", bbox_inches=\"tight\")\n",
    "plt.show()"
   ]
  },
  {
   "cell_type": "code",
   "execution_count": 25,
   "metadata": {},
   "outputs": [
    {
     "name": "stdout",
     "output_type": "stream",
     "text": [
      "(2, 100)\n",
      "保存ファイル名： 2020-11-04_16-02.csv\n",
      "保存ファイルパス： /Users/nagaiyuma/Documents/myprogram/savefig30%/2020-11-04_16-02.csv\n"
     ]
    }
   ],
   "source": [
    "save_data = np.zeros((2, data_size))\n",
    "save_data[0] = x_array.flatten()\n",
    "save_data[1] = x_101[0][30].flatten()\n",
    "print(save_data.shape)\n",
    "\n",
    "save_name = dt_now.strftime(\"%Y-%m-%d_%H-%M\") +'.csv'\n",
    "save_file = os.path.join(save_folder, save_name) # 保存先のファイルパス作成\n",
    "print('保存ファイル名：', save_name)\n",
    "print('保存ファイルパス：', save_file)\n",
    "\n",
    "with open(save_file,'w') as f:\n",
    "    writer = csv.writer(f, lineterminator='\\n')\n",
    "    writer.writerows(save_data)"
   ]
  },
  {
   "cell_type": "code",
   "execution_count": 2,
   "metadata": {},
   "outputs": [
    {
     "name": "stdout",
     "output_type": "stream",
     "text": [
      "80\n"
     ]
    },
    {
     "ename": "NameError",
     "evalue": "name 'file_num' is not defined",
     "output_type": "error",
     "traceback": [
      "\u001b[0;31m---------------------------------------------------------------------------\u001b[0m",
      "\u001b[0;31mNameError\u001b[0m                                 Traceback (most recent call last)",
      "\u001b[0;32m<ipython-input-2-6eccb5470a91>\u001b[0m in \u001b[0;36m<module>\u001b[0;34m\u001b[0m\n\u001b[1;32m      2\u001b[0m \u001b[0mprint\u001b[0m\u001b[0;34m(\u001b[0m\u001b[0mNOISE\u001b[0m\u001b[0;34m)\u001b[0m\u001b[0;34m\u001b[0m\u001b[0;34m\u001b[0m\u001b[0m\n\u001b[1;32m      3\u001b[0m \u001b[0;31m#学習パラメータの取得\u001b[0m\u001b[0;34m\u001b[0m\u001b[0;34m\u001b[0m\u001b[0;34m\u001b[0m\u001b[0m\n\u001b[0;32m----> 4\u001b[0;31m \u001b[0mpred_x\u001b[0m \u001b[0;34m=\u001b[0m \u001b[0mnp\u001b[0m\u001b[0;34m.\u001b[0m\u001b[0mzeros\u001b[0m\u001b[0;34m(\u001b[0m\u001b[0;34m(\u001b[0m\u001b[0mfile_num\u001b[0m \u001b[0;34m,\u001b[0m\u001b[0mtest_num\u001b[0m\u001b[0;34m)\u001b[0m\u001b[0;34m)\u001b[0m\u001b[0;34m\u001b[0m\u001b[0;34m\u001b[0m\u001b[0m\n\u001b[0m\u001b[1;32m      5\u001b[0m \u001b[0msave_model_path\u001b[0m \u001b[0;34m=\u001b[0m \u001b[0;34m\"/Users/nagaiyuma/Desktop/parameters/noise\"\u001b[0m\u001b[0;34m+\u001b[0m\u001b[0mstr\u001b[0m\u001b[0;34m(\u001b[0m\u001b[0mNOISE\u001b[0m\u001b[0;34m)\u001b[0m\u001b[0;34m+\u001b[0m\u001b[0;34m\"-cnn1.h5\"\u001b[0m\u001b[0;34m\u001b[0m\u001b[0;34m\u001b[0m\u001b[0m\n\u001b[1;32m      6\u001b[0m \u001b[0mmodel\u001b[0m \u001b[0;34m=\u001b[0m \u001b[0mload_model\u001b[0m\u001b[0;34m(\u001b[0m\u001b[0msave_model_path\u001b[0m\u001b[0;34m)\u001b[0m\u001b[0;34m\u001b[0m\u001b[0;34m\u001b[0m\u001b[0m\n",
      "\u001b[0;31mNameError\u001b[0m: name 'file_num' is not defined"
     ]
    }
   ],
   "source": [
    "NOISE = 80\n",
    "print(NOISE)\n",
    "#学習パラメータの取得\n",
    "pred_x = np.zeros((file_num ,test_num))\n",
    "save_model_path = \"/Users/nagaiyuma/Desktop/parameters/noise\"+str(NOISE)+\"-cnn1.h5\"\n",
    "model = load_model(save_model_path)"
   ]
  },
  {
   "cell_type": "code",
   "execution_count": 13,
   "metadata": {},
   "outputs": [],
   "source": [
    "#学習パラメータの取得\n",
    "save_model_path = \"/Users/nagaiyuma/Desktop/parameters/201109/2020-11-09-80%cnn1.h5\"\n",
    "model = load_model(save_model_path)"
   ]
  },
  {
   "cell_type": "code",
   "execution_count": 8,
   "metadata": {},
   "outputs": [],
   "source": [
    "save_model_path = \"/Users/nagaiyuma/Desktop/parameters/201109/2020-11-09-10%cnn1.h5\"\n",
    "model = load_model(save_model_path)"
   ]
  },
  {
   "cell_type": "code",
   "execution_count": 4,
   "metadata": {},
   "outputs": [
    {
     "name": "stdout",
     "output_type": "stream",
     "text": [
      "WARNING:tensorflow:From /Users/nagaiyuma/anaconda3/lib/python3.7/site-packages/keras/backend/tensorflow_backend.py:4070: The name tf.nn.max_pool is deprecated. Please use tf.nn.max_pool2d instead.\n",
      "\n",
      "WARNING:tensorflow:From /Users/nagaiyuma/anaconda3/lib/python3.7/site-packages/keras/backend/tensorflow_backend.py:422: The name tf.global_variables is deprecated. Please use tf.compat.v1.global_variables instead.\n",
      "\n"
     ]
    }
   ],
   "source": [
    "save_model_path = \"/Users/nagaiyuma/Desktop/parameters/201109/2020-11-09-30%cnn3.h5\"\n",
    "model = load_model(save_model_path)"
   ]
  },
  {
   "cell_type": "code",
   "execution_count": 5,
   "metadata": {},
   "outputs": [
    {
     "name": "stdout",
     "output_type": "stream",
     "text": [
      "WARNING:tensorflow:From /Users/nagaiyuma/anaconda3/lib/python3.7/site-packages/keras/backend/tensorflow_backend.py:4070: The name tf.nn.max_pool is deprecated. Please use tf.nn.max_pool2d instead.\n",
      "\n",
      "WARNING:tensorflow:From /Users/nagaiyuma/anaconda3/lib/python3.7/site-packages/keras/backend/tensorflow_backend.py:422: The name tf.global_variables is deprecated. Please use tf.compat.v1.global_variables instead.\n",
      "\n"
     ]
    }
   ],
   "source": [
    "save_model_path =\"/Users/nagaiyuma/Documents/myprogram/savefig80%/2020-11-17_14-45_noise80.h5\"\n",
    "model = load_model(save_model_path)"
   ]
  },
  {
   "cell_type": "code",
   "execution_count": 6,
   "metadata": {},
   "outputs": [
    {
     "ename": "ValueError",
     "evalue": "could not broadcast input array from shape (303) into shape (101)",
     "output_type": "error",
     "traceback": [
      "\u001b[0;31m---------------------------------------------------------------------------\u001b[0m",
      "\u001b[0;31mValueError\u001b[0m                                Traceback (most recent call last)",
      "\u001b[0;32m<ipython-input-6-6734f7950705>\u001b[0m in \u001b[0;36m<module>\u001b[0;34m\u001b[0m\n\u001b[1;32m      7\u001b[0m \u001b[0;32mfor\u001b[0m \u001b[0mk\u001b[0m \u001b[0;32min\u001b[0m \u001b[0mn\u001b[0m\u001b[0;34m:\u001b[0m\u001b[0;34m\u001b[0m\u001b[0;34m\u001b[0m\u001b[0m\n\u001b[1;32m      8\u001b[0m     \u001b[0mxtest\u001b[0m \u001b[0;34m=\u001b[0m \u001b[0mx_101\u001b[0m\u001b[0;34m[\u001b[0m\u001b[0mk\u001b[0m\u001b[0;34m]\u001b[0m\u001b[0;34m.\u001b[0m\u001b[0mreshape\u001b[0m\u001b[0;34m(\u001b[0m\u001b[0;34m-\u001b[0m\u001b[0;36m1\u001b[0m\u001b[0;34m,\u001b[0m \u001b[0;36m100\u001b[0m\u001b[0;34m,\u001b[0m \u001b[0;36m1\u001b[0m\u001b[0;34m)\u001b[0m\u001b[0;34m\u001b[0m\u001b[0;34m\u001b[0m\u001b[0m\n\u001b[0;32m----> 9\u001b[0;31m     \u001b[0mpred_x\u001b[0m\u001b[0;34m[\u001b[0m\u001b[0mk\u001b[0m\u001b[0;34m]\u001b[0m \u001b[0;34m=\u001b[0m \u001b[0mmodel\u001b[0m\u001b[0;34m.\u001b[0m\u001b[0mpredict\u001b[0m\u001b[0;34m(\u001b[0m\u001b[0mxtest\u001b[0m\u001b[0;34m)\u001b[0m\u001b[0;34m.\u001b[0m\u001b[0mflatten\u001b[0m\u001b[0;34m(\u001b[0m\u001b[0;34m)\u001b[0m\u001b[0;34m\u001b[0m\u001b[0;34m\u001b[0m\u001b[0m\n\u001b[0m\u001b[1;32m     10\u001b[0m     \u001b[0merror\u001b[0m\u001b[0;34m[\u001b[0m\u001b[0mk\u001b[0m\u001b[0;34m]\u001b[0m \u001b[0;34m=\u001b[0m \u001b[0mpred_x\u001b[0m\u001b[0;34m[\u001b[0m\u001b[0mk\u001b[0m\u001b[0;34m]\u001b[0m \u001b[0;34m-\u001b[0m \u001b[0mt_101\u001b[0m\u001b[0;34m[\u001b[0m\u001b[0mk\u001b[0m\u001b[0;34m]\u001b[0m\u001b[0;34m\u001b[0m\u001b[0;34m\u001b[0m\u001b[0m\n\u001b[1;32m     11\u001b[0m     \u001b[0mabs_error\u001b[0m\u001b[0;34m[\u001b[0m\u001b[0mk\u001b[0m\u001b[0;34m]\u001b[0m \u001b[0;34m=\u001b[0m \u001b[0mabs\u001b[0m\u001b[0;34m(\u001b[0m\u001b[0mpred_x\u001b[0m\u001b[0;34m[\u001b[0m\u001b[0mk\u001b[0m\u001b[0;34m]\u001b[0m \u001b[0;34m-\u001b[0m \u001b[0mt_101\u001b[0m\u001b[0;34m[\u001b[0m\u001b[0mk\u001b[0m\u001b[0;34m]\u001b[0m\u001b[0;34m)\u001b[0m\u001b[0;34m\u001b[0m\u001b[0;34m\u001b[0m\u001b[0m\n",
      "\u001b[0;31mValueError\u001b[0m: could not broadcast input array from shape (303) into shape (101)"
     ]
    }
   ],
   "source": [
    "ave_101 = np.zeros(test_num)\n",
    "std_101 = np.zeros(test_num)\n",
    "error = np.zeros((file_num, test_num))\n",
    "abs_error = np.zeros((file_num, test_num))\n",
    "pred_x = np.zeros((file_num ,test_num))\n",
    "\n",
    "for k in n:\n",
    "    xtest = x_101[k].reshape(-1, 100, 1)\n",
    "    pred_x[k] = model.predict(xtest).flatten()\n",
    "    error[k] = pred_x[k] - t_101[k]\n",
    "    abs_error[k] = abs(pred_x[k] - t_101[k])\n",
    "    \n",
    "print(pred_x.shape)\n",
    "ave_101 = np.average(error, axis=0)\n",
    "std_101 = np.std(error, axis=0)"
   ]
  },
  {
   "cell_type": "code",
   "execution_count": 15,
   "metadata": {},
   "outputs": [
    {
     "data": {
      "image/png": "[encoded data removed]",
      "text/plain": [
       "<Figure size 432x288 with 1 Axes>"
      ]
     },
     "metadata": {
      "needs_background": "light"
     },
     "output_type": "display_data"
    },
    {
     "name": "stdout",
     "output_type": "stream",
     "text": [
      "0%:-0.23503905534744263±0.0\n",
      "10%:-0.18742455840110778±0.08395317481113\n",
      "20%:-0.1567281275987625±0.13235443681649722\n",
      "30%:-0.11879226863384247±0.16758631042154415\n",
      "40%:-0.10179687738418579±0.13849594526420067\n",
      "50%:0.011960738897323608±0.15551629852439994\n",
      "60%:-0.010339498519897461±0.2108807066170571\n",
      "70%:0.09306462705135346±0.1576391247234535\n",
      "80%:-0.059223732352256774±0.27080634277514903\n",
      "90%:0.009268426895141601±0.3331438380434083\n",
      "100%:0.10728889107704162±0.3521887165597546\n"
     ]
    }
   ],
   "source": [
    "#結果の表示\n",
    "plt.plot(test_nums, ave_101,  color=\"black\")\n",
    "plt.xlabel('NOISE(%)')          # 軸ラベル\n",
    "plt.ylabel('Error')\n",
    "plt.ylim(-2.0, 2.0)\n",
    "plt.show()\n",
    "plt.close()\n",
    "\n",
    "for i in range(0,110,10):\n",
    "    print_ave = str(i) + \"%:\" + str(ave_101[i])+ \"±\" + str(std_101[i])\n",
    "    print(print_ave)"
   ]
  },
  {
   "cell_type": "code",
   "execution_count": 16,
   "metadata": {},
   "outputs": [],
   "source": [
    "#結果の保存\n",
    "save_predict = \"/Users/nagaiyuma/Desktop/maindata/\"+date+\"noise\"+str(NOISE)+\"-100%py.csv\"\n",
    "x_line = n\n",
    "save_data = np.zeros((3, test_num))\n",
    "save_data[0] = test_nums\n",
    "save_data[1] = ave_101\n",
    "save_data[2] = std_101\n",
    "save_data = save_data.T\n",
    "\n",
    "with open(save_predict,'w') as f:\n",
    "    writer = csv.writer(f, lineterminator='\\n')\n",
    "    writer.writerows(save_data)"
   ]
  },
  {
   "cell_type": "code",
   "execution_count": 12,
   "metadata": {},
   "outputs": [
    {
     "data": {
      "image/png": "[encoded data removed]",
      "text/plain": [
       "<Figure size 432x288 with 1 Axes>"
      ]
     },
     "metadata": {
      "needs_background": "light"
     },
     "output_type": "display_data"
    },
    {
     "name": "stdout",
     "output_type": "stream",
     "text": [
      "0%:0.0±0.0\n",
      "10%:0.0057827509751189115±0.032855013213207246\n",
      "20%:0.017110612280971778±0.08315700014410403\n",
      "30%:-0.006914713347763851±0.1471858094561206\n",
      "40%:-0.040955386549166854±0.1750461396992211\n",
      "50%:0.023663852781132234±0.16983372574848282\n",
      "60%:-0.005491392798034159±0.27612023872413843\n",
      "70%:-0.0893341645499494±0.24966061543289078\n",
      "80%:0.10116879433948844±0.40986198358276515\n",
      "90%:-0.03200170493010607±0.39033874557212384\n",
      "100%:0.035154948582524756±0.4534970117831241\n"
     ]
    }
   ],
   "source": [
    "# ガウシアンビームのパラメータ\n",
    "i0 = 1.0\n",
    "x0 = 0.0\n",
    "y0 = 0.0\n",
    "w0 = 5.0\n",
    "h0 = 0.0\n",
    "center = data_size/2\n",
    "param_ini_x = np.array([i0, x0, w0, h0])  # フィッティングの初期値 (ここではデータから推定は行わない)\n",
    "x_array = np.arange(-center, center, 1.0)\n",
    "fit_param_x = np.zeros((test_num, 4))\n",
    "error = np.zeros((file_num, test_num))\n",
    "\n",
    "t_fit = t_101 - 1 #x = 0の補正\n",
    "for i in range(file_num):\n",
    "    for k in range(test_num):\n",
    "        profile_x = x_101[i][k]\n",
    "        param, cov  = curve_fit(gaussian_beam, x_array, profile_x, p0=param_ini_x, maxfev=2000)\n",
    "        fit_param_x[n][0] = param[0]\n",
    "        fit_param_x[n][1] = param[1]\n",
    "        fit_param_x[n][2] = param[2]\n",
    "        fit_param_x[n][3] = param[3]\n",
    "        \n",
    "        error[i][k] = param[1]-t_fit[i][k]\n",
    "    \n",
    "ave_fit = np.average(error, axis=0)\n",
    "std_fit= np.std(error, axis=0)\n",
    "\n",
    "#結果の表示\n",
    "plt.plot(test_nums, ave_fit,  color=\"black\")\n",
    "plt.xlabel('NOISE(%)')          # 軸ラベル\n",
    "plt.ylabel('Error')\n",
    "plt.ylim(-2.0, 2.0)\n",
    "plt.show()\n",
    "plt.close()\n",
    "\n",
    "for i in range(0,110,10):\n",
    "    print_ave = str(i) + \"%:\" + str(ave_fit[i])+ \"±\" + str(std_fit[i])\n",
    "    print(print_ave)"
   ]
  },
  {
   "cell_type": "code",
   "execution_count": 14,
   "metadata": {},
   "outputs": [],
   "source": [
    "#結果の保存\n",
    "save_predict = \"/Users/nagaiyuma/Desktop/maindata/\"+date+\"noise\"+str(NOISE)+\"-100%_fitpy.csv\"\n",
    "x_line = n\n",
    "save_data = np.zeros((3, test_num))\n",
    "save_data[0] = test_nums\n",
    "save_data[1] = ave_fit\n",
    "save_data[2] = std_fit\n",
    "save_data = save_data.T\n",
    "\n",
    "with open(save_predict,'w') as f:\n",
    "    writer = csv.writer(f, lineterminator='\\n')\n",
    "    writer.writerows(save_data)"
   ]
  },
  {
   "cell_type": "code",
   "execution_count": 7,
   "metadata": {},
   "outputs": [],
   "source": [
    "#学習パラメータの取得\n",
    "pred_x = np.zeros((file_num ,test_num))\n",
    "save_model_path = \"/Users/nagaiyuma/Desktop/parameters/noise\"+str(NOISE)+\"-cnn3.h5\"\n",
    "model = load_model(save_model_path)"
   ]
  },
  {
   "cell_type": "code",
   "execution_count": 8,
   "metadata": {},
   "outputs": [
    {
     "name": "stdout",
     "output_type": "stream",
     "text": [
      "WARNING:tensorflow:From /Users/nagaiyuma/anaconda3/lib/python3.7/site-packages/keras/backend/tensorflow_backend.py:4070: The name tf.nn.max_pool is deprecated. Please use tf.nn.max_pool2d instead.\n",
      "\n",
      "WARNING:tensorflow:From /Users/nagaiyuma/anaconda3/lib/python3.7/site-packages/keras/backend/tensorflow_backend.py:422: The name tf.global_variables is deprecated. Please use tf.compat.v1.global_variables instead.\n",
      "\n"
     ]
    }
   ],
   "source": [
    "save_model_path = \"/Users/nagaiyuma/Documents/myprogram/savefig80%/2020-11-13_23-38_noise80.h5\"\n",
    "model = load_model(save_model_path)"
   ]
  },
  {
   "cell_type": "code",
   "execution_count": 7,
   "metadata": {},
   "outputs": [
    {
     "name": "stdout",
     "output_type": "stream",
     "text": [
      "[0.62701255 0.63183802 0.6354596  0.63881302 0.61477137 0.64374268\n",
      " 0.64643151 0.64301115 0.65844464 0.67370945 0.76145577 0.61995316\n",
      " 0.63063371 0.74446243 0.64134824 0.69323581 0.69129604 0.59261274\n",
      " 0.59070367 0.77020252 0.66505682 0.66501999 0.61844146 0.66067886\n",
      " 0.7193225  0.69560623 0.56214178 0.64331537 0.67845988 0.72429001\n",
      " 0.63406169 0.65988505 0.75000346 0.81971759 0.79822248 0.67960513\n",
      " 0.76607531 0.54173511 0.69240403 0.70647109 0.86274457 0.67768717\n",
      " 0.84861171 0.77214658 0.74167466 0.7158137  0.58009315 0.64339864\n",
      " 0.77303082 0.83475292 0.69823265 1.02359545 0.78058392 0.51302898\n",
      " 0.80573219 0.72495377 0.67934692 0.85791647 0.53895092 0.47115368\n",
      " 0.75091797 0.64616579 0.71674746 0.86805189 0.57575178 0.72845948\n",
      " 1.07614851 0.8173992  0.79541892 0.68801612 0.74093175 0.59069937\n",
      " 1.2248559  0.72895813 0.79838586 0.6265676  0.93641579 1.02935028\n",
      " 0.35755688 0.50600111 0.58897054 0.43766809 0.92993748 0.86987674\n",
      " 0.69849622 0.58026934 0.42119706 0.54074997 0.89766812 0.41842097\n",
      " 0.90698576 0.93445671 1.0188787  0.88476026 1.34403038 0.85084045\n",
      " 0.62345254 0.38875198 0.35716093 0.65173358 0.8621794 ]\n"
     ]
    }
   ],
   "source": [
    "ave_101_3 = np.zeros(test_num)\n",
    "std_101_3 = np.zeros(test_num)\n",
    "error = np.zeros((file_num, test_num))\n",
    "abs_error = np.zeros((file_num, test_num))\n",
    "pred_x = np.zeros((file_num ,test_num))\n",
    "for k in n:\n",
    "    xtest = x_101[k].reshape(-1, 100, 1)\n",
    "    pred_x[k] = model.predict(xtest).T[1].flatten()\n",
    "    error[k] = pred_x[k] - t_101[k]\n",
    "    abs_error[k] = abs(pred_x[k] - t_101[k])\n",
    "    \n",
    "print(pred_x[0])\n",
    "ave_101_3 = np.average(error, axis=0)\n",
    "std_101_3 = np.std(error, axis=0)"
   ]
  },
  {
   "cell_type": "code",
   "execution_count": 8,
   "metadata": {},
   "outputs": [
    {
     "data": {
      "image/png": "[encoded data removed]",
      "text/plain": [
       "<Figure size 432x288 with 1 Axes>"
      ]
     },
     "metadata": {
      "needs_background": "light"
     },
     "output_type": "display_data"
    },
    {
     "name": "stdout",
     "output_type": "stream",
     "text": [
      "0%:-0.37298744916915894±0.0\n",
      "10%:-0.3234322100877762±0.02696855407637647\n",
      "20%:-0.3112278938293457±0.04330505501158932\n",
      "30%:-0.3206704884767532±0.08365266287626252\n",
      "40%:-0.23730396032333373±0.05924315870484302\n",
      "50%:-0.2879916220903397±0.10344474913925243\n",
      "60%:-0.27731165289878845±0.13039422490689298\n",
      "70%:-0.2169891983270645±0.15086348860266074\n",
      "80%:-0.1948781281709671±0.1657878355142409\n",
      "90%:-0.229110985994339±0.17522367925411697\n",
      "100%:-0.27437273859977723±0.2510776974304157\n"
     ]
    }
   ],
   "source": [
    "#結果の表示\n",
    "plt.plot(test_nums, ave_101_3,  color=\"black\")\n",
    "plt.errorbar(x, y, yerr = y_err, capsize=5, fmt='o', markersize=10, ecolor='black', markeredgecolor = \"black\", color='w')\n",
    "plt.xlabel('NOISE(%)')          # 軸ラベル\n",
    "plt.ylabel('Error')\n",
    "plt.ylim(-2.0, 2.0)\n",
    "plt.show()\n",
    "plt.close()\n",
    "\n",
    "for i in range(0,110,10):\n",
    "    print_ave = str(i) + \"%:\" + str(ave_101_3[i])+ \"±\" + str(std_101_3[i])\n",
    "    print(print_ave)"
   ]
  },
  {
   "cell_type": "code",
   "execution_count": 9,
   "metadata": {},
   "outputs": [],
   "source": [
    "#結果の保存\n",
    "save_predict = \"/Users/nagaiyuma/Desktop/maindata/\"+date+\"noise\"+str(NOISE)+\"-100%_3py.csv\"\n",
    "x_line = n\n",
    "save_data = np.zeros((3, test_num))\n",
    "save_data[0] = test_nums\n",
    "save_data[1] = ave_101_3\n",
    "save_data[2] = std_101_3\n",
    "save_data = save_data.T\n",
    "\n",
    "with open(save_predict,'w') as f:\n",
    "    writer = csv.writer(f, lineterminator='\\n')\n",
    "    writer.writerows(save_data)"
   ]
  },
  {
   "cell_type": "code",
   "execution_count": 12,
   "metadata": {},
   "outputs": [
    {
     "name": "stdout",
     "output_type": "stream",
     "text": [
      "[-0.05056126  0.04608152 -0.07525019 -0.00783019 -0.07415929 -0.11324447\n",
      " -0.0327903   0.05229411  0.10347329  0.01951451 -0.06220054  0.00884043\n",
      "  0.06758247  0.01765581  0.09780931  0.08764758 -0.11757349 -0.10834799\n",
      " -0.10342545  0.14686372  0.05812161 -0.08819789 -0.0794285   0.00962834\n",
      " -0.11048001 -0.02918598 -0.09868958  0.07934105 -0.04075825 -0.08694647\n",
      "  0.09637332 -0.02208076  0.11231975  0.08238325  0.07623202  0.02219869\n",
      " -0.11214158  0.069689   -0.03653268 -0.00205016 -0.05959695 -0.14347943\n",
      " -0.13271547 -0.06143297  0.14423176  0.26777829  0.35376847  0.50135014\n",
      "  0.54393902  0.98866366  0.99340858  0.88290093  0.66609755  0.40010654\n",
      "  0.20938396  0.03654023  0.17522134 -0.03785507 -0.10372954  0.13591037\n",
      "  0.09301599  0.00481903  0.03191608 -0.00345621  0.10064478 -0.08118257\n",
      "  0.0015853   0.05583506 -0.13486294  0.0536337   0.08778605  0.05111672\n",
      "  0.06324603 -0.10083958  0.02747257 -0.08263576 -0.02176501  0.01677383\n",
      "  0.00482766 -0.03123951 -0.14990376 -0.04078041  0.10299688 -0.13898126\n",
      "  0.08704522 -0.02531208  0.01932402 -0.14329666  0.08860364 -0.12006485\n",
      "  0.1016869  -0.10496431 -0.12418708 -0.13605078  0.09788694  0.02013222\n",
      " -0.14372419  0.08362331  0.07328602 -0.04210012]\n"
     ]
    }
   ],
   "source": [
    "print(x_101[0][30])"
   ]
  },
  {
   "cell_type": "code",
   "execution_count": null,
   "metadata": {},
   "outputs": [],
   "source": []
  }
 ],
 "metadata": {
  "kernelspec": {
   "display_name": "Python 3",
   "language": "python",
   "name": "python3"
  },
  "language_info": {
   "codemirror_mode": {
    "name": "ipython",
    "version": 3
   },
   "file_extension": ".py",
   "mimetype": "text/x-python",
   "name": "python",
   "nbconvert_exporter": "python",
   "pygments_lexer": "ipython3",
   "version": "3.7.3"
  }
 },
 "nbformat": 4,
 "nbformat_minor": 4
}
